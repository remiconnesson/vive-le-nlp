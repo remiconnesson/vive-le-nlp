{
 "cells": [
  {
   "cell_type": "markdown",
   "metadata": {},
   "source": [
    "# Télécharger le modèle préentraîné\n",
    "\n",
    "Tomas Chambon a eu la gentillesse de préentraîner ULMfit avec Wikipedia en Français.\n",
    "- https://github.com/tchambon/deepfrench\n"
   ]
  },
  {
   "cell_type": "markdown",
   "metadata": {},
   "source": [
    "Les poids sont disponnibles ici:\n",
    "- https://drive.google.com/open?id=1_0D3zv5H7iMW1qk7wHNN1yQrHi6arv8g"
   ]
  },
  {
   "cell_type": "code",
   "execution_count": 1,
   "metadata": {},
   "outputs": [],
   "source": [
    "import pathlib\n",
    "\n",
    "p = pathlib.Path('.')\n",
    "\n",
    "ls = lambda x : list(x.iterdir())"
   ]
  },
  {
   "cell_type": "code",
   "execution_count": 3,
   "metadata": {},
   "outputs": [
    {
     "data": {
      "text/plain": [
       "[PosixPath('large_files/itosref30k.pkl'), PosixPath('large_files/wref30k.pth')]"
      ]
     },
     "execution_count": 3,
     "metadata": {},
     "output_type": "execute_result"
    }
   ],
   "source": [
    "ls(p/'large_files')"
   ]
  },
  {
   "cell_type": "code",
   "execution_count": 4,
   "metadata": {},
   "outputs": [],
   "source": []
  },
  {
   "cell_type": "markdown",
   "metadata": {},
   "source": [
    "# Importer Fastai & Fastai.Text"
   ]
  },
  {
   "cell_type": "code",
   "execution_count": 5,
   "metadata": {},
   "outputs": [],
   "source": [
    "from fastai import *\n",
    "from fastai.text import *"
   ]
  },
  {
   "cell_type": "code",
   "execution_count": 7,
   "metadata": {},
   "outputs": [],
   "source": [
    "Tokenizer??"
   ]
  },
  {
   "cell_type": "markdown",
   "metadata": {},
   "source": [
    "Doc pour le tokenizer : https://docs.fast.ai/text.transform.html#Tokenization"
   ]
  },
  {
   "cell_type": "markdown",
   "metadata": {},
   "source": [
    "Bon il semble qu'il me faille un dataset"
   ]
  },
  {
   "cell_type": "markdown",
   "metadata": {},
   "source": [
    "# Trouver un dataset"
   ]
  },
  {
   "cell_type": "markdown",
   "metadata": {},
   "source": [
    "_Defi Fouille de Textes_ ou *DEFT* pour les intimes https://deft.limsi.fr/\n"
   ]
  },
  {
   "cell_type": "markdown",
   "metadata": {},
   "source": [
    "*\"2007 : corpus de débats parlementaires, environ 28 000 interventions anonymisées (Hommes et partis politiques) sur des projets de lois relatifs à l'énergie. La valeur de vote (0 = contre, 1 = pour) est indiquée avec chaque document, [apprentissage](https://deft.limsi.fr/corpus/corpus_debats_deft07_apprentissage.tar.gz) [7,4 Mo], [test](https://deft.limsi.fr/corpus/corpus_debats_deft07_test.tar.gz) [4,6 Mo], [reference](https://deft.limsi.fr/corpus/corpus_debats_test_classes.xml) [1,3 Mo]\"*\n",
    "\n",
    "Plutôt intriguant, peut se porter à une tache de classification.\n",
    "\n",
    "On va entraîner le LM (*language model*) sur train & test comme le conseil _Jeremy Howard_ puis on va séparer le *train set* en 2 80/20 entraîner un modèle de classification et regarder le résultat sur le *test set*.\n",
    "\n"
   ]
  },
  {
   "cell_type": "code",
   "execution_count": 9,
   "metadata": {},
   "outputs": [],
   "source": [
    "train_xml = p/'large_files'/'corpus_debats_train.xml'\n",
    "test_xml  = p/'large_files'/'corpusDebats8-test.xml'"
   ]
  },
  {
   "cell_type": "markdown",
   "metadata": {},
   "source": [
    "Bon super les données sont dans du XML..."
   ]
  },
  {
   "cell_type": "markdown",
   "metadata": {},
   "source": [
    "## Explorer le XML"
   ]
  },
  {
   "cell_type": "code",
   "execution_count": 16,
   "metadata": {},
   "outputs": [
    {
     "name": "stdout",
     "output_type": "stream",
     "text": [
      "['<?xml version=\"1.0\" encoding=\"iso-8859-1\"?>', '<!DOCTYPE CORPUS SYSTEM \"deft07.dtd\">', '<CORPUS>', '<DESCRIPTION>', \"<TITRE>Corpus des débats parlementaires à l'Assemblée Nationale</TITRE>\", '<DIFFUSION>', \"<CONTACT>Comité d'organisation de DEFT'07</CONTACT>\", '<CADRE>Campagne DEFT 2007 - http://deft07.limsi.fr/</CADRE>', '<DISPONIBILITE region=\"monde\" statuts=\"libre\">Utilisable librement à des fins non commerciales</DISPONIBILITE>', '</DIFFUSION>']\n"
     ]
    }
   ],
   "source": [
    "lines = [line.rstrip() for line in open(train_xml, encoding='iso-8859-1')]\n",
    "\n",
    "print(lines[:10])"
   ]
  },
  {
   "cell_type": "code",
   "execution_count": 17,
   "metadata": {},
   "outputs": [
    {
     "name": "stdout",
     "output_type": "stream",
     "text": [
      "173030\n"
     ]
    }
   ],
   "source": [
    "print(len(lines))"
   ]
  },
  {
   "cell_type": "code",
   "execution_count": 18,
   "metadata": {},
   "outputs": [
    {
     "name": "stdout",
     "output_type": "stream",
     "text": [
      "['</TEXTE>', '</DOCUMENT>', '<DOCUMENT id=\"4:499\">', '<EVALUATION nombre=\"1\">', '<NOTE valeur=\"0\" confiance=\"1.00\" />', '</EVALUATION>', '<TEXTE>', '<![CDATA[', \"Avant de décider du devenir de Gaz de France, ne croyez-vous pas qu'il serait sage de savoir comment la Commission européenne propose d'écrire la fin de l'histoire ? Si, au bout du bout, en décembre, les conditions posées par les actionnaires de Suez en préalable à la fusion sont inacceptables - ou inenvisageables à quelques semaines d'une élection présidentielle - et si le Gouvernement les refuse, on aura ouvert le capital de Gaz de France pour rien...\", ']]>']\n"
     ]
    }
   ],
   "source": [
    "print(lines[5000:5010])"
   ]
  },
  {
   "cell_type": "code",
   "execution_count": 44,
   "metadata": {},
   "outputs": [
    {
     "name": "stdout",
     "output_type": "stream",
     "text": [
      "['<EVALUATION nombre=\"1\">', '<NOTE valeur=\"0\" confiance=\"1.00\" />', '</EVALUATION>', '<TEXTE>', '<![CDATA[', \"Nous en avons terminé avec l'examen des articles. Je rappelle que la Conférence des Présidents a décidé que les explications de vote et le vote par scrutin public sur l'ensemble du projet de loi de financement de la sécurité sociale pour 2005 auront lieu le mardi 2 novembre, après les questions au Gouvernement.\", ']]>', '</TEXTE>', '</DOCUMENT>', '<DOCUMENT id=\"4:17251\">', '<EVALUATION nombre=\"1\">', '<NOTE valeur=\"1\" confiance=\"1.00\" />', '</EVALUATION>', '<TEXTE>', '<![CDATA[', \"Les débats sur ce texte ont montré combien la santé reste une problématique chère aux Français. Si une bonne santé ne s'achète pas, l'accès à des soins de qualité y contribue à l'évidence et le Gouvernement a, cette année encore, bien compris la nécessité de mobiliser des moyens considérables pour les mettre au service de cette priorité. Pour l'essentiel, les critiques de l'opposition ont porté sur la hausse de l'ONDAM - jugée insuffisante - et sur la situation faite à l'hôpital public. Or, pour ce dernier, alors que les budgets afférents avaient augmenté de 2,5 % entre 1997 et 2002, la progression prévue dans le présent PLFSS s'élève à 3,6%, en vue de réanimer un hôpital public asphyxié par nos prédécesseurs, du fait de l'application des 35 heures. Il s'agissait d'une réforme purement idéologique, dont les modalités pratiques de mise en oeuvre - notamment pour ce qui concerne les moyens en personnels - n'avaient pas été prévues. Le Gouvernement s'est donc vu contraint, dans le plan Hôpital 2007, de mobiliser des moyens nouveaux, notamment pour le cancer et la périnatalité, tout en exigeant une gestion plus saine. Le PLFSS fixe à 365,5 milliards les prévisions de dépenses, soit 20 milliards de plus qu'en 2003. Selon les projections disponibles, les régimes de base devraient enregistrer en 2005 un déficit de 10,9 milliards, soit 3,2 milliards de moins que cette année. Grâce aux effets attendus de la réforme, le Gouvernement prévoit de ramener le déficit de la branche maladie pour 2005 à 7,2 milliards, contre 13,2 milliards cette année. A cette prévision de redressement de l'assurance maladie s'ajoute un quasi retour à l'équilibre des branches famille et accidents du travail. Après une dégradation en 2004 due à des transferts vers le FSV, le solde de la branche famille devrait rester proche de l'équilibre. De même, si la branche AT-MP dégage un résultat déficitaire depuis 2002, celui-ci devrait se stabiliser en 2004 et en 2005 à son niveau de 2003. L'origine du déficit se trouve pour l'essentiel dans la dotation au fonds d'indemnisation des victimes de l'amiante. Seuls les comptes de la branche vieillesse demeurent préoccupants et cela montre tout l'enjeu de la réforme des retraites. Si la situation du FSV est aujourd'hui critique, c'est à raison des ponctions extravagantes réalisées par la <partiPolitique /> pour financer l'APA et les 35 heures. Sans cela, le FSV serait à l'équilibre. Pour avoir prêté une oreille attentive aux vociférations de l'opposition au cours de ces débats, j'ai pu remarquer qu'en réalité, la <partiPolitique /> confirmait que sa conception de l'organisation des soins remettait en cause l'équilibre de notre système, à savoir le paiement à l'acte, la liberté d'installation, le libre choix du praticien et la liberté de prescription.\", ']]>', '</TEXTE>', '</DOCUMENT>', '<DOCUMENT id=\"4:17252\">', '<EVALUATION nombre=\"1\">', '<NOTE valeur=\"1\" confiance=\"1.00\" />', '</EVALUATION>', '<TEXTE>', '<![CDATA[', \"Pourtant, nous restons convaincus qu'il est possible de sauvegarder notre régime, tout en préservant l'exercice de la médecine, en responsabilisant l'ensemble des acteurs - malades, professionnels de santé et gestionnaires de l'assurance maladie. Notre majorité, elle, s'est donnée les moyens de freiner la progression de l'ONDAM, grâce à la loi du 13 août 2004 et aux outils de maîtrise médicalisée. En dépit du contexte favorable dont elle a bénéficié, la <partiPolitique /> n'en a jamais eu le courage ! Au reste, nous nous conformons à la volonté des Français, qui acceptent une réforme en profondeur de l'assurance maladie car ils perçoivent bien qu'elle constitue notre seule chance de conserver notre Sécurité sociale à la française, système libre et solidaire où chacun cotise selon ses moyens et est soigné selon ses besoins. Ce système original qui fait notre fierté et que le monde nous envie, l'<partiPolitique /> y est très attachée. Il est de notre devoir de le préserver et notre groupe votera le présent PLFSS.\", ']]>', '</TEXTE>', '</DOCUMENT>', '<DOCUMENT id=\"4:17253\">', '<EVALUATION nombre=\"1\">', '<NOTE valeur=\"0\" confiance=\"1.00\" />', '</EVALUATION>', '<TEXTE>', '<![CDATA[', \"Vous nous proposez, messieurs les ministres, une loi de financement pour 2005 alors que, pour la première fois dans l'histoire de la Sécurité sociale toutes les branches vont être déficitaires : la maladie, les accidents du travail, la famille et la vieillesse. Les autres régimes sociaux - BAPSA, FSV, fonds CMU - sont également dans le rouge, tout comme l'UNEDIC. Le déficit du régime général va atteindre en 2004 le niveau historique de presque 14 milliards, soit plus de trois fois plus qu'en 2002. Et comme l'a rappelé la Cour des comptes, il s'agit de la plus forte dégradation financière de l'histoire de la Sécurité sociale ! Le Haut Conseil pour l'avenir de l'assurance maladie avait évalué, dans le consensus, que cette dégradation était liée pour un tiers à des causes conjoncturelles liées au contexte économique global, que l'action du Gouvernement a du reste constamment aggravé en abandonnant la priorité donnée aux politiques de l'emploi. Pour les deux tiers restants, cette dégradation historique des comptes tient à des causes structurelles, relevant de votre responsabilité directe. Ce déficit historique, force est d'admettre que vous l'avez voulu et organisé depuis juin 2002 ! Vous avez laissé filer les déficits, renoncé à toute démarche de maîtrise des dépenses de santé, tardé à engager toute réforme de l'organisation de l'offre de soins et accru les dépenses en satisfaisant certaines revendications corporatistes sans contreparties ! Vous avez organisé la faillite de la sécurité sociale, pour appeler ensuite à son sauvetage ! Et ce que vous appelez le sauvetage de la sécurité sociale, la réforme de la dernière chance, c'est une réforme libérale qui consiste à afficher le retour à l'équilibre en 2007 moyennant deux axes majeurs. Le premier est de vous débarrasser de la dette accumulée sur les générations futures, au travers de la CADES. Dès cette année, en transférant 50 milliards du déficit cumulé de 2002 à 2004 ; l'an prochain, en transférant 15 milliards du déficit à venir en 2005 et en 2006 ; et, de l'avis de tous les experts - y compris ceux de <lieuPolitique />-, en transférant 70 à 80 milliards d'ici à 2007 sur les générations futures. La réalité, c'est que vous faites payer à nos enfants et petits-enfants vos déficits d'aujourd'hui et de demain. Nous connaissions déjà l'impôt <hommePolitique /> sur la décentralisation ; nous aurons aussi l'impôt <hommePolitique /> sur les nourrissons ! Car qui pourrait affirmer que la CRDS, que vous augmentez à compter du 1 er janvier 2005, ne sera pas encore en vigueur en 2025, dans le contexte de remontée durable des taux d'intérêt ? Le deuxième axe de votre réforme, c'est la privatisation. Vous avez accru les prélèvements, pour l'essentiel sur les assurés et les patients. Vous avez aussi agi en créant les conditions de nombreux déremboursements qui, sous couvert de responsabilisation, nuisent avant tout aux patients. Si vous avez reculé cet été sur des baisses massives de remboursement concernant les dispositifs médicaux pour les diabétiques et les maladies chroniques, tout laisse à penser que ce n'est que partie remise. Nous en reparlerons en juin prochain ! Votre objectif est bien de transférer progressivement le poids des dépenses de santé vers le financement individuel et l'assurance privée. Ainsi est confirmé ce que nous annoncions dans la torpeur estivale : vous avez enclenché un mécanisme de privatisation qui va mener très vite à une médecine à deux vitesses. Le libre choix de son médecin et l'accès à des soins de qualité vont se heurter à des conditions de revenus, car vos perspectives de réduction du déficit de l'assurance maladie sont artificielles, irréalistes et insincères. Artificielles, parce que les économies de gestion que vous attendez ne sont pas crédibles. Irréalistes, car elles reposent sur une prévision de progression de la masse salariale pour 2005 de 4 %. Insincères enfin, parce que nombre de dépenses programmées n'ont pas été prises en compte. En matière de financement, vous détournez l'essentiel des droits sur les tabacs et les alcools vers le budget de l'Etat, alors qu'ils devraient revenir à l'assurance maladie. Au moment où les prélèvements sociaux vont augmenter de 6,5 milliards, vous retirez la cotisation sur les boissons alcooliques de plus de 25 degrés - laquelle rapporte la bagatelle de 370 millions - à l'assurance maladie, pour financer l'aide directe d'acquisition de la CMU complémentaire, réduisant ainsi les fonds sociaux destinés aux assurés en difficulté. De même en est il des ressources de la CNSA, financée par les seuls salariés par la suppression d'un jour férié. On s'interroge aussi sur votre immobilisme au vu des 2,2 milliards de déficits cumulés des prestations agricoles, au sujet desquels vous vous contentez de demander un rapport. S'agissant des pensions de réversion, vous avez suspendu le décret du 24 août 2004, devant le tollé général qu'il a déclenché jusque dans votre majorité. Mais vous avez refusé l'amendement de suppression de l'article 31 de la loi sur les retraites, en évoquant une simple correction du décret. Vous refusez donc de revenir sur la transformation d'un droit ouvert par cotisation du conjoint décédé, en une aide sociale sous plafond de ressources révisable chaque année. Tous les retraités vont voir leur pouvoir d'achat baisser à nouveau en 2005, et ceux qui sont imposables subiront l'augmentation de la CSG. En matière familiale, enfin, vous ne cessez de faire des économies sur les familles les plus modestes. Après un premier recul à l'occasion de l'instauration de la PAJE, vous avez modifié par décret la base de ressources des prestations familiales. Il en résulté que 6 000 familles ne bénéficieront plus de l'allocation de rentrée scolaire ou de l'allocation de base de la PAJE et que 220 000 familles ne percevront plus l'allocation logement. Dans le même temps, vous élevez le plafond de réduction d'impôt pour emploi de maison à temps plein pour 30 000 familles privilégiées. Pourtant, c'est bien l'ensemble des familles qui subiront la hausse des cotisations sociales et mutualistes, des impôts locaux, ainsi que du gaz et de l'électricité. Parce qu'il est injuste, irréaliste et inefficace, parce qu'il pèse sur la masse des assurés sociaux, des retraités et des familles au profit d'une petite minorité, parce que vous renvoyez vos déficits aux générations futures, parce que vous malmenez l'égalité d'accès aux soins et mettez en danger l'hôpital public, votre PLFSS pour 2005 rencontre l'opposition la plus déterminée du groupe <partiPolitique /> !\", ']]>', '</TEXTE>', '</DOCUMENT>', '<DOCUMENT id=\"4:17254\">', '<EVALUATION nombre=\"1\">', '<NOTE valeur=\"0\" confiance=\"1.00\" />', '</EVALUATION>', '<TEXTE>', '<![CDATA[', 'Nous sommes donc appelés à nous prononcer sur la somme considérable de 365 milliards, consacrés à la politique sociale du pays : santé, retraite de base, politique familiale. La loi est très succincte, le rapport annexé très ramassé. L\\'<partiPolitique /> a tenté, dans une ambiance relativement détendue, de l\\'améliorer et le Gouvernement a finalement accepté huit de nos amendements, mineurs il est vrai, sur les soixante-dix que nous avions déposés. Mais les questions essentielles que nous avions posées demeurent sans réponse. Le déficit de l\\'ensemble des branches sera certainement supérieur aux dix milliards prévus. En effet, les recettes ont été calculées sur un taux de croissance de 2,5 % et de la masse salariale de 4 %, que nous espérons tous, mais sur lesquels peu d\\'économistes tablent encore aujourd\\'hui. Pour la santé, la progression de l\\'ONDAM - c\\'est-à-dire des dépenses remboursées - est très volontariste, avec un taux d\\'augmentation de 2,9 %. Cet ONDAM économique, mais \" pifométrique \" et non médicalisé, a peu de chances d\\'être tenu. Dès lors, le comité d\\'alerte, qui doit intervenir en cas de dépassement de 0,75 %, transformera la fameuse maîtrise médicalisée en une maîtrise comptable, pourtant rejetée par l\\'ensemble des professionnels. En réalité, l\\'ONDAM sera dépassé. Comment en effet faire le milliard d\\'économies attendues alors que le dossier médical personnel et le parcours de soins ne sont pas encore en place ? Comment économiser 700 millions sur le médicament alors qu\\'on attend la mise sur le marché de nouveaux produits onéreux ? Comment les hôpitaux économiseraient-ils 200 millions alors que beaucoup sont en déficit et qu\\'on ne leur a accordé que 300 millions sur les 776 millions dont ils auraient besoin ? En revanche, des dépenses supplémentaires sont déjà prévues : 200 millions pour la classification commune des actes médicaux, la revalorisation des astreintes, l\\'augmentation des actes techniques chirurgicaux de 25% en 2005, la revalorisation de la grille tarifaire dans la future convention. Et malgré nos demandes, les questions de démographie médicale, de permanence des soins, des urgences, du dépistage des cancers, passées sous silence dans le rapport annexé n\\'ont pas été abordées comme si elles étaient résolues ! S\\'agissant des retraites, l\\'<partiPolitique /> a soulevé trois problèmes majeurs. D\\'abord, le taux d\\'augmentation prévu pour les retraites ne permettra pas le maintien du pouvoir d\\'achat compte tenu de l\\'inflation et du prélèvement de CSG de 0,4 % au 1 er janvier. Ensuite, la retraite des enseignants du privé n\\'est toujours pas alignée sur celle du public. Enfin, on n\\'a pas mis en extinction les régimes spéciaux, comme nous le demandions lors de la réformes des retraites et, pour ouvrir le capital d\\'EDF, le gouvernement propose d\\'adosser le régime des industries électriques et gazières au régime général. La première soulte est de 9 milliards et la soulte pour les régimes complémentaires devait être du même ordre, mais le reste du financement n\\'est pas assuré. C\\'est le contribuable et le consommateur qui financeront le maintien de ces avantages qui, finalement, ruineront EDF. En ce qui concerne la famille, le groupe <partiPolitique /> salue les mesures nouvelles en faveur de l\\'adoption, mais refuse à nouveau le hold-up, cher à <hommePolitique />, effectué sur la branche famille pour financer les majorations pour enfants dans les retraites. Reste le problème de la pension de réversion. Après le tollé soulevé par le décret du 24 août, le Premier ministre en a suspendu l\\'application - ce qui est assez curieux car il ne faisait que décliner les dispositions de la loi votée dans l\\'enthousiasme par l\\'<partiPolitique /> en juillet. Au nom du <partiPolitique />, j\\'avais déposé des amendements pour assurer aux jeunes veuves une pension au moins égale à l\\'ancienne allocation de veuvage, et pour refuser la transformation d\\'un droit acquis en allocation différentielle révisable. Le Gouvernement les a refusés. Pourtant, il est clair qu\\'il faudra changer la loi. Pour conclure, ce projet de loi de financement, très succinct, n\\'est guère satisfaisant. Le déficit sera certainement supérieur aux prévisions. Sur la maîtrise comptable, le sort des veuves, les retraites agricoles, celle des salariés d\\'EDF, l\\'<partiPolitique /> n\\'a pas eu de réponse satisfaisante. C\\'est pourquoi l\\'ensemble du groupe ne peut voter cette loi. PRÉSIDENCE de M. Éric RAOULT vice-président', ']]>', '</TEXTE>', '</DOCUMENT>', '<DOCUMENT id=\"4:17255\">', '<EVALUATION nombre=\"1\">', '<NOTE valeur=\"1\" confiance=\"1.00\" />', '</EVALUATION>', '<TEXTE>', '<![CDATA[', \"Si faire de la politique, c'est changer les choses, on peut dire que nous avons fait de la politique en matière de sécurité, car en ce domaine les changements sont notables depuis deux ans et demi. Nos concitoyens en sont conscients et satisfaits. De leur côté, les policiers et les gendarmes ont le sentiment de s'investir dans une tâche prioritaire pour laquelle ils ont la confiance de la nation et le soutien des responsables politiques. Les résultats sont là, d'autant plus aisés à constater que l'appareil statistique est resté le même. Après s'être stabilisée en 2002, la délinquance a baissé de 3,3 % en 2003 et cette tendance à la baisse s'est accentuée en 2004. Le taux d'élucidation des affaires, autre indicateur important, a progressé sensiblement. Ces résultats sont le fruit d'une politique, c'est-à-dire d'un objectif qui s'applique à différents champs de l'action publique. Les moyens juridiques sont en place. Une lacune demeure cependant : la récidive n'est pas sanctionnée comme elle le devrait. Nous sommes nombreux à souhaiter qu'un signe soit donné en ce domaine. Des progrès sont encore à relever en matière d'organisation, et tout d'abord pour ce qui concerne la police. Les GIR sont maintenant pleinement efficaces. Les sûretés départementales se développent dans les grands départements et de nouvelles perspectives s'ouvrent pour la police scientifique. La gendarmerie est également en pleine mutation. Si les brigades cantonales restent le socle de son action, l'ensemble de notre territoire est désormais couvert par les communautés de brigades. Pour la police comme pour la gendarmerie, les effectifs sont déterminants. La police va compter 1000 fonctionnaires supplémentaires, dont 500 policiers, et nous saluons une évolution très positive dans le domaine de la police scientifique. Quant à la gendarmerie, ce sont 700 postes qui seront créés en 2005. Cela étant, des gains de productivité sont encore possibles, notamment dans les rapports avec l'autorité judiciaire, qu'il s'agisse de la présentation de détenus, du transfèrement, de la garde de détenus hospitalisés. Qu'en est-il des expérimentations lancées à Nancy et à Metz ? J'ai visité dernièrement à Roissy un tribunal parfaitement adapté aux besoins de la magistrature, mais malheureusement dédaigné par celle-ci, d'où une noria constante entre Bobigny et la zone de transit des étrangers. Voilà un symbole du gâchis de l'argent public. S'agissant des forces mobiles, il va falloir s'attaquer à un tabou. Les CRS et la gendarmerie mobile représentent une force de sécurité très importante, et il faut optimiser leur affectation. Ne seraient-ils pas mieux utilisés directement sous l'autorité des directeurs départementaux de la sécurité publique ? Cette année aura été marquée par la réforme des corps et carrières. La police retrouve enfin une pyramide des grades plus dynamique, qui permet une véritable évolution des métiers des gardiens et des gradés. Surtout, je voudrais relever que, dans le même temps, nous lançons une réforme pour la gendarmerie, alors qu'il fallait attendre parfois jusqu'à cinq ans, dans le passé, avant que la gendarmerie ne s'aligne sur la police. 5000 postes d'officiers de gendarmerie seront créés entre 2005 et 2012, dont 1000 dés 2005. Je note aussi l'évolution de la prime aux résultats, voulue par <hommePolitique />. Ces progrès sont appréciés par les fonctionnaires, comme en témoigne la diminution du nombre des départs à la retraite anticipée. Il faut dire que les moyens évoluent aussi - le gilet pare-balles, l'arme individuelle, le nouvel uniforme pour la gendarmerie, et Acropol pour la police. Je salue à cet égard le partenariat public-privé passé avec EADS. Jusqu'à cette année, Acropol ne progressait que lentement. Dorénavant, grâce à une nouvelle procédure, ce partenariat va nous permettre de couvrir l'ensemble du territoire d'un moyen moderne de communication. Reste le problème de l'immobilier. Nous ne sommes pas au rendez-vous de la LOPSI. Après 2005, si les prévisions sont respectées, il nous restera à réaliser la moitié du programme police, et près de 70 % du programme gendarmerie. En 2002, le législateur avait prévu un vrai partenariat public-privé, mais nous ne nous en sommes pas donné les moyens. Il faut réformer cette procédure trop lente. J'en profite pour dire un mot des 500 millions attendus de l'immobilier de la gendarmerie. L'an dernier, le Premier ministre avait annoncé au titre des recettes du budget 500 millions provenant d'un partenariat avec la SNI. En contrepartie du versement d'une soulte de 500 millions, elle devait assurer la gestion des locaux de la gendarmerie et recevoir un loyer de 150 millions. Nous n'avons rien vu venir ! J'en viens maintenant à la sécurité routière. Grâce à la police et à la gendarmerie, le nombre de victimes de la route a considérablement diminué. Cela étant, certaines sanctions apparaissent mesquines, et j'en veux pour preuve cette contravention pour une vitesse de 111 km/h au lieu de 110 ! Rappelons que toute règle doit être appliquée avec mesure. Par ailleurs, vous aviez annoncé que l'amende allait passer de 90 à 45 euros en cas de dépassement inférieur à 20 km/h : où en sommes-nous ? Mais l'essentiel est que le nombre de morts sur la route a chuté : 2000 décès en moins en dix-huit mois ! Reste la question du produit des amendes qui rapportent, en année pleine, environ 375 millions. Il faut mettre fin à la rumeur qui veut que cet argent profite aux prescripteurs, et prouver qu'il est affecté à la sécurité routière, aux investissements de sécurité. Pourquoi ne pas l'attribuer aussi aux services de secours, aux services hospitaliers, aux centres des grands traumatisés de la route ? S'agissant de la sécurité civile, votre budget est en net progrès, puisque les crédits sont au rendez-vous de la loi de modernisation de la sécurité civile, adoptée le 13 août 2004. Avec 20 millions d'euros, l'Etat accompagnera la fidélisation, et je me réjouis que les amendements que j'avais défendus en commission des finances aient reçu votre agrément et soient défendus le 19 novembre. Je retiens encore le transfert aux Conseils généraux des taxes sur les conventions d'assurance, mais aussi le progrès de l'aide à l'investissement des SDIS - 44 millions en 2003, 54 millions en 2004, 65 millions en 2005. L'Identité nationale électronique sécurisée fait aussi partie de vos priorités. Dans un souci de sécurité nationale, il s'agit de moderniser les moyens alloués à l'identification de nos concitoyens, et des étrangers qui transitent en France. Vous avez prévu de délivrer les premiers titres au 1 er novembre 2006. Ce dispositif, bien plus performant qu'une carte d'identité, pourrait même servir à la sécurisation des transactions commerciales électroniques. Quant aux préfectures, elles ont réalisé une véritable réforme. Il appartient désormais aux préfets de déterminer les dépenses prioritaires. Cette évolution permet des choix rationnels, et elle sensibilise les administrations aux économies qui sont désormais recyclées en leur faveur. Enfin, cette globalisation donne du grain à moudre au dialogue syndical, mais il faut aller au-delà, et donner au préfet la responsabilité des moyens des services extérieurs. L'organisation du référendum pose des problèmes financiers nouveaux. En effet, il faudra pour la première fois envoyer à nos concitoyens un document qui, avec l'ensemble de la propagande, pèsera plus de 100 grammes et coûtera entre 40 et 60 millions. Or, à partir d'un tel poids, La Poste n'a plus le monopole des envois et il faudra réaliser un appel d'offre européen pour connaître la structure qui le diffusera. Ainsi, pour la première fois, La Poste risque-t-elle de ne pas être le diffuseur de notre propagande électorale. De la même manière, comment envisager une équité de financement entre les partisans du oui et ceux du non sachant que les grands partis, vraisemblablement, appelleront à voter oui ? Il en va de la démocratie. Je rappelle que lors du référendum de Maastricht, l'ensemble des dispositifs de financements des partis politiques n'existait pas encore et qu'ils sont de plus élaborés à partir des exigences de la démocratie représentative et peu adaptés à une démocratie directe. Ce budget applique la LOPSI adoptée lors de l'été 2002, mais il traduit également la constitution financière qu'est la LOLF, laquelle vise à établir un parallèle entre les objectifs fixés et les moyens attribués. Le principe d'une mission interministérielle réunissant police et gendarmerie est excellent, mais je note que l'ensemble des moyens de la gendarmerie ne figure pas dans cette mission, ce qui n'est pas satisfaisant. Nous serons vigilants quant à l'application de cette nouvelle constitution financière, qui est la condition première d'une vraie transparence. Au total, je salue un budget ambitieux et positif.\", ']]>', '</TEXTE>', '</DOCUMENT>', '<DOCUMENT id=\"4:17256\">', '<EVALUATION nombre=\"1\">', '<NOTE valeur=\"1\" confiance=\"1.00\" />', '</EVALUATION>', '<TEXTE>', '<![CDATA[', \"...se confirmant en 2003 et s'amplifiant sur les neufs premiers mois de 2004. C'est ainsi qu'après un reflux de 3,4 % en 2003, nous avons enregistré au mois de septembre dernier une diminution des crimes et délits de 3,8 %. Je souligne le fort recul de la délinquance de voie publique avec moins 8,9 % en 2003 et moins 8,5 % au premier semestre de 2004 alors que ce type de délit avait augmenté de 9,3 % en 2001.\", ']]>', '</TEXTE>', '</DOCUMENT>', '<DOCUMENT id=\"4:17257\">', '<EVALUATION nombre=\"1\">', '<NOTE valeur=\"1\" confiance=\"1.00\" />', '</EVALUATION>', '<TEXTE>', '<![CDATA[', \"Ils témoignent de l'admirable mobilisation des policiers et des gendarmes et confirment la réussite des actions menées dans le cadre de la LOPSI. Ce budget est satisfaisant car il traduit la volonté du Gouvernement de ne pas relâcher son effort - il convient à ce propos de considérer les crédits affectés à la sécurité intérieure dans leur ensemble, soit, également, ceux réservés à la gendarmerie qui figurent au budget de la Défense nationale. Je me réjouis de la création d'une mission interministérielle sur la sécurité intérieure regroupant les programmes de la police et de la gendarmerie : c'est la victoire du bon sens. Le PLF pour 2005 comprend ainsi un total de 10,36 milliards de crédits dédiés à la sécurité dont 5,88 milliards à la police - soit une progression de près de 2 % - et 4,48 milliards à la gendarmerie - soit une progression de 3,4 %. Ces efforts sont d'autant plus méritoires qu'ils s'inscrivent dans un contexte budgétaire contraignant. En trois ans, les moyens des forces de sécurité ont augmenté de 1285 millions, soit une progression de plus de 14 %, ce qui est sans précédent.\", ']]>', '</TEXTE>', '</DOCUMENT>', '<DOCUMENT id=\"4:17258\">', '<EVALUATION nombre=\"1\">', '<NOTE valeur=\"1\" confiance=\"1.00\" />', '</EVALUATION>', '<TEXTE>', '<![CDATA[', \"Nous saluons l'adoption des premières mesures en application du protocole d'accord de juin 2004 sur la réforme des corps et carrières de la police nationale et, pour la gendarmerie, du plan d'adaptation aux responsabilités exercées. La police et la gendarmerie ont ainsi engagé une réforme profonde de leurs ressources humaines. L'organisation de leur encadrement va enfin converger avec la déflation des corps de commissaires et des officiers de police ainsi qu'avec le renforcement des cadres de la gendarmerie. Pour les fonctionnaires et les militaires, les recrutements se poursuivront à un rythme soutenu et les rémunérations seront améliorées par des revalorisations indiciaires. Cette rénovation s'accompagnera d'une maîtrise des crédits de personnels qui augmenteront moins vite que les prix. Cette rigueur de gestion pratiquée avec des indicateurs de performances très élaborés permettra de dégager des marges de manoeuvre au profit des moyens de fonctionnement et d'équipement. En 2005, ces moyens seront renforcés de 150 millions, soit une progression de 7 %. Mais il reste des défis à relever. Nous devons ainsi mener une politique de prévention lucide et efficace, car policiers et gendarmes ne doivent pas être les seuls à lutter contre le crime et la délinquance. Le concept de sécurité intégré doit devenir une réalité. Dans cette attente, c'est le sens de l'intérêt général qui nous invite à approuver ce budget.\", ']]>', '</TEXTE>', '</DOCUMENT>', '<DOCUMENT id=\"4:17259\">', '<EVALUATION nombre=\"1\">', '<NOTE valeur=\"1\" confiance=\"1.00\" />', '</EVALUATION>', '<TEXTE>', '<![CDATA[', 'L\\'année 2004 est importante pour la sécurité civile qui, depuis le 13 août dernier, avec la loi de modernisation de la sécurité civile, dispose d\\'un cadre juridique rénové et adapté aux risques actuels. Ce texte définit les responsabilités de chacun au titre de la sécurité civile, et surtout, apporte à ses premiers acteurs que sont les 240 000 sapeurs-pompiers, civils ou militaires, professionnels ou volontaires, une reconnaissance attendue de longue date. Ce texte pose les fondements d\\'un service rénové qui devra relever d\\'importants défis dans les prochaines années. Emblématique de notre volonté politique, il est aussi porteur de beaucoup d\\'espoirs, et vous savez qu\\'en tant que rapporteur, j\\'en suivrai la mise en oeuvre avec attention. Pour la troisième année consécutive, il m\\'appartient de vous rapporter l\\'avis de la commission des lois sur le budget du ministère de l\\'intérieur pour la sécurité civile. S\\'il faut saluer les efforts consentis cette année, ces crédits ne sont pas représentatifs des charges supportées par la collectivité : plusieurs ministères contribuent en effet à la prévention des risques, tandis que les collectivités territoriales assument la lourde charge des services départementaux d\\'incendie et de secours. En 2005, 406 millions d\\'euros - soit quelque 4 % des crédits du ministère, hors concours aux collectivités territoriales - permettront ainsi à l\\'Etat de remplir ses missions de coordination et de renfort des moyens d\\'intervention locaux. En progression de 20 %, ce budget tire les enseignements des crises récentes. Il prévoit d\\'augmenter l\\'effectif du groupement des moyens aériens en liaison avec le remplacement des hélicoptères, renforce la flotte de bombardiers d\\'eau par l\\'acquisition de deux avions gros porteurs et crée des postes de militaires pour conforter les zones de défense. Enfin, la dotation du fonds d\\'aide à l\\'investissement des SDIS permettra de rattraper le retard de l\\'année précédente. Les moyens des services - 211 millions d\\'euros - progressent d\\'un peu plus de 5 % et sont également répartis entre les charges de personnel - 98 millions - et de fonctionnement - 112 millions. Les crédits de personnel progressent de près de 6 %. 2057 emplois budgétaires sont inscrits pour 2005, soit 60 emplois supplémentaires par rapport à l\\'an dernier ; 23 sont destinés au groupement des moyens aériens et 24 aux états-majors de zone, tandis que 14 emplois de gardiens de la paix seront transformés en emplois de personnels navigants. Les crédits de fonctionnement, qui enregistrent une progression de 4,5 %, seront notamment employés à des infrastructures destinées aux hélicoptères et à l\\'adaptation du service de déminage, rendue indispensable suite à l\\'intégration des artificiers de la police nationale. Ils seront aussi dévolus à l\\'achat de matériels, au renouvellement très partiel du parc automobile des unités d\\'instruction et d\\'intervention de la sécurité civile, à l\\'acquisition de matériel de lutte contre les risques NRBC et à l\\'Ecole nationale supérieure des officiers de sapeurs-pompiers. Ces crédits incluent également la participation de l\\'Etat au financement des services de secours de la Ville de Paris - 71,7 millions d\\'euros, soit un tiers des crédits inscrits au titre III. Ils permettront la mise à niveau des crédits de personnel, le financement de la quatrième tranche du plan de modernisation de la Brigade des sapeurs-pompiers de Paris comprenant la création de 125 postes, l\\'acquisition de matériels opérationnels et la création d\\'une unité spécifique de lutte contre les risques NRBC. Les crédits d\\'intervention publique - 14,8 millions d\\'euros - recouvrent les subventions aux services d\\'incendie et de secours, les secours d\\'extrême urgence dispensés aux victimes de calamités publiques, et, pour l\\'essentiel, les pensions versées aux sapeurs-pompiers victimes d\\'accidents. Les crédits d\\'investissement s\\'élèvent à 115 millions d\\'euros, soit environ le quart du budget de la sécurité civile. Ils sont constitués pour l\\'essentiel des crédits d\\'acquisition - 52,4 millions - et de maintenance - 54,5 millions - des aéronefs. Leur forte augmentation est liée à la modernisation de la flotte aérienne - acquisition de deux avions gros porteurs et d\\'un onzième Canadair, actuellement loué, ainsi que d\\'équipements pour les nouveaux hélicoptères EC145. Créé par la loi de finances pour 2003, le Fonds d\\'aide à l\\'investissement des SDIS, avec 65 millions d\\'euros de CP et 61, 4 millions en AP, bénéficie d\\'un rattrapage bienvenu, les SDIS devant faire face à de lourdes charges d\\'investissement. Cette aide gagnerait cependant à être répartie de manière plus lisible. Au-delà de ce budget, j\\'évoquerai les acteurs et les missions de la sécurité civile. Je souhaite que les actions que vous-même et votre prédécesseur avez entreprises depuis le début de la législature et qui se traduisent, cette année encore, par une forte progression du budget de la sécurité civile, perdurent jusqu\\'en 2007, voire ultérieurement. Je salue à nouveau l\\'engagement des 205 mille sapeurs-pompiers volontaires. 35 mille professionnels et les personnels militaires procèdent chaque année à plus de 3,7 millions d\\'interventions contre deux millions il y a vingt ans. Mais les missions des sapeurs-pompiers, dont la dangerosité a été reconnue par la loi du 13 août dernier, sont encore à l\\'origine de trop nombreux décès et accidents. Les travaux conduits récemment sur la sécurité des sapeurs-pompiers ont donné lieu à des propositions dont une bonne partie a été reprise par la loi de modernisation de la sécurité civile. Il faut cependant continuer à travailler sur cette question car des améliorations peuvent encore être apportées. La formation des sapeurs-pompiers et de tous ceux qui concourent aux missions de sécurité civile constitue aussi un enjeu de taille pour demain. Deux projets seront mis en oeuvre au cours des prochaines années : l\\'Ecole nationale supérieure des officiers de sapeurs-pompiers, délocalisée à Aix-en-Provence, et le pôle de défense civile de Cambrai. Mais c\\'est aussi une véritable culture de sécurité civile qu\\'il convient d\\'inculquer à notre pays. La diffusion d\\'une culture de sécurité civile, c\\'est d\\'abord une sensibilisation aux risques et à la gestion des secours dès le cursus scolaire, comme le prévoit la loi de modernisation de la sécurité civile. C\\'est aussi l\\'information des citoyens sur les risques et sur les dispositions à prendre en cas de crise. Les crédits prévus à cette fin pour 2005 sont bienvenus : le retard à combler est en effet important, et je salue les choix qu\\'opère depuis trois ans notre majorité. C\\'est enfin, à destination de tous les acteurs du secours comme de la population, la réalisation d\\'exercices de gestion des crises. Des initiatives ont été prises en ce sens, mais il faut, comme toujours en matière de prévention, poursuivre le travail. Les acteurs et les structures concourant à la sécurité civile sont multiples. Au cours de mes auditions et à la lecture des études inspirées par les crises récentes, j\\'ai constaté que la coordination et la communication entre les intervenants méritaient d\\'être améliorées. Nous avons abordé ces questions dans la loi de modernisation de la sécurité civile. En effet, c\\'est un défi en termes d\\'équipement, mais aussi en termes d\\'organisation et de gestion des secours. L\\'année 2004 a été un aboutissement, avec le vote tant attendu de la loi de modernisation de la sécurité civile. Mais elle est aussi un point de départ, dans la mesure où l\\'évolution des risques demande une vigilance et une réactivité de tous les instants. Permettez-moi, pour conclure, de citer le général <hommePolitique /> : \" Etre inerte, c\\'est être battu.\" Au vu de l\\'effort consenti par la nation sur ce budget, la commission des lois a émis un avis favorable.', ']]>', '</TEXTE>', '</DOCUMENT>', '<DOCUMENT id=\"4:17260\">', '<EVALUATION nombre=\"1\">', '<NOTE valeur=\"1\" confiance=\"1.00\" />', '</EVALUATION>', '<TEXTE>', '<![CDATA[', 'rapporteur spécial de la commission des finances pour les collectivités territoriales - Les concours de l\\'Etat aux collectivités territoriales s\\'élèveront en 2005 à 61,4 milliards d\\'euros, en hausse de 3 % par rapport à 2004. Ils représentent un cinquième du budget de l\\'Etat. Le volet \" collectivités territoriales \" du projet de loi de finances pour 2005 mérite d\\'être salué. En dépit d\\'un contexte budgétaire difficile, le Gouvernement reconduit le contrat de croissance et de solidarité selon des modalités identiques à celles de 2004 : une indexation sur l\\'inflation, mais également sur un tiers de l\\'évolution du PIB, ce qui permettra d\\'associer les collectivités territoriales aux fruits de la croissance. L\\'enveloppe normée progressera en 2005 de 2,6 %, soit une augmentation de plus de 1,2 milliard d\\'euros. Quant à la DGF, elle augmentera de 3,29 %. Votre rapporteur spécial se félicite de la réforme proposée pour cette dotation, qui permettra de rendre plus cohérente la répartition de ses composantes et d\\'améliorer la péréquation. Cette réforme est d\\'ailleurs la traduction législative des propositions formulées par le groupe de travail constitué au sein du comité des finances locales. La réforme de la dotation forfaitaire des communes rendra plus lisible la répartition de cette dotation, grâce à l\\'introduction de deux critères objectifs de répartition : la population et la superficie. La dotation forfaitaire comprendra désormais trois composantes principales. D\\'abord une dotation de base calculée en fonction de l\\'importance de la population. Pour 2005, le projet de loi de finances proposait de retenir pour celle-ci le produit de la population par un montant compris entre 50 et 125 euros par habitant. La commission a adopté un amendement visant à resserrer ces montants entre 60 et 120 euros par habitant. Deuxième composante, une dotation proportionnelle à la superficie, égale à trois euros par hectare en 2005. La commission propose cinq euros par hectare pour les communes situées en zone de montagne. Une troisième composante, le complément de garantie, doit permettre à chaque commune de percevoir en 2005 un montant au moins égal à sa dotation forfaitaire de 2004. Le projet de loi de finances propose par ailleurs une réforme des règles de répartition des dotations de péréquation communale - DNP, DSR, DSU. Cette réforme vise deux objectifs principaux : mieux mesurer les écarts de richesse et les réduire. Le Gouvernement propose ainsi de substituer au potentiel fiscal un indicateur plus complet des ressources mobilisables par les communes, le potentiel financier, qui prend en compte, outre le potentiel fiscal, la dotation forfaitaire, compte tenu de son mode d\\'attribution automatique et de l\\'importance des masses concernées. Afin de réduire les écarts de richesse, le Gouvernement propose de cibler la croissance de la DSR \" bourgs-centres \" sur les communes situées en zone de revitalisation rurale, en multipliant leur attribution par un coefficient de majoration égal à 1,5. La commission a abaissé ce coefficient à 1,15 afin de permettre une répartition plus équitable entre tous les bourgs-centres. Le projet de loi pour la cohésion sociale prévoit pour sa part d\\'accroître les montants de la DSU destinés aux communes comprenant des zones urbaines sensibles et des zones franches urbaines. Cet objectif s\\'accompagnerait d\\'une croissance de la DSU de 120 millions par an pendant cinq ans. Afin de dégager les meilleures marges pour la péréquation, le projet de loi de finances proposait le gel de la dotation forfaitaire à son niveau de 2004. La commission a adopté un amendement présenté par votre rapporteur spécial, qui fixe le taux de croissance de la dotation forfaitaire à 1 %. La réforme de la dotation forfaitaire des départements vise elle aussi à mieux prendre en compte la population. Elle distinguera deux composantes : une dotation de base égale à 70 euros par habitant et un complément de garantie. Le Gouvernement propose d\\'améliorer la péréquation départementale grâce d\\'une part à la substitution au potentiel fiscal d\\'un critère de potentiel financier qui prend en compte, outre le potentiel fiscal élargi aux droits de mutation à titre onéreux, la dotation forfaitaire et la dotation de compensation, et d\\'autre part à la réorganisation de l\\'architecture des dotations de péréquation départementale autour d\\'une composante urbaine - la \" dotation de péréquation urbaine \" - et d\\'une composante rurale - l\\'actuelle dotation de fonctionnement minimale, sous une forme élargie. La dotation de péréquation qui faisait l\\'objet d\\'un saupoudrage entre un très grand nombre de départements serait donc supprimée. La création d\\'une dotation de péréquation urbaine permettrait de remédier aux lacunes du système actuel, qui ne prend pas en compte les difficultés propres au milieu urbain, et l\\'élargissement de la DFM à tous les départements non urbains permettrait de mettre fin aux effets de seuil actuellement constatés du fait de la forte sélectivité des critères d\\'éligibilité à la DFM. S\\'agissant de la DGF des groupements de communes, le Gouvernement propose une réforme des modalités de répartition de la dotation d\\'intercommunalité. Il prévoit des mesures favorables aux communautés de communes, c\\'est-à-dire à l\\'intercommunalité en milieu rural, et renforce la prévisibilité de la dotation d\\'intercommunalité à travers une simplification du GIF et une augmentation du poids de la dotation de base. En troisième lieu, votre rapporteur spécial se félicite que le Gouvernement tienne l\\'engagement de compenser à l\\'euro près, et par le transfert de ressources fiscales dynamiques, constituant des ressources propres au sens de la loi organique relative à l\\'autonomie financière des collectivités territoriales, les transferts de compétences résultant de \" l\\'acte II de la décentralisation \". Plusieurs réformes introduites par la précédente majorité ont durablement grevé les budgets locaux et terni les rapports entre l\\'Etat et les collectivités territoriales, qu\\'il s\\'agisse des 35 heures, de l\\'APA ou de la réforme des SDIS. A contrario, les décisions du gouvernement actuel doivent permettre de renouer des relations de confiance entre l\\'Etat et les collectivités. A la différence des réformes précitées, les dépenses résultant pour les collectivités de la loi responsabilités locales feront l\\'objet d\\'une compensation financière propre à assurer la neutralité de la réforme sur les budgets locaux. Dès 2005, les régions bénéficieront de l\\'affectation d\\'une part de la TIPP pour un montant de près de 400 millions. Ce montant sera augmenté dans les prochaines lois de finances, au fur et à mesure de l\\'entrée en vigueur des transferts de compétences et de charges entre l\\'Etat et les régions. A compter de 2006, le produit de TIPP perçu par chaque région devrait être calculé sur une assiette régionale. A compter de 2007, sous réserve de l\\'accord définitif de nos partenaires européens, les régions pourraient être autorisées à en moduler le taux. Les départements bénéficieront dès 2005 du transfert d\\'une part de la taxe sur les conventions d\\'assurance, pour un montant de 126 millions. Comme pour les régions, ce montant progressera ultérieurement, en fonction de l\\'entrée en vigueur des transferts. Une assiette départementale de cette taxe devrait être définie, et les départements devraient être autorisés à en moduler le taux à l\\'horizon 2007. La loi de finances pour 2004 a prévu le transfert d\\'une part du produit de la TIPP aux départements pour un montant de 4,9 milliards au titre des transferts de compétences résultant de la loi du 18 décembre 2003 portant décentralisation en matière de RMI et créant le RMA. Elle prévoit également que les ressources transférées aux départements sont équivalentes au montant des dépenses exécutées par l\\'Etat en 2003 au titre du RMI et de l\\'allocation de revenu de solidarité. Elle a fixé à titre provisoire le montant de TIPP transféré aux départements et prévu que ce montant serait éventuellement corrigé afin d\\'assurer l\\'adéquation entre les ressources transférées et l\\'augmentation des dépenses auxquelles les départements doivent faire face. Les montants versés aux départements en 2004 devraient ainsi faire l\\'objet d\\'une première correction, dans le cadre de la loi de finances rectificative pour 2004, afin de tenir compte du montant définitif des dépenses exécutées par l\\'Etat au titre du RMI en 2003, ainsi que des éventuels surplus de dépenses induits pour les départements par la création du RMA et la réforme de l\\'ASS. Les engagements seront donc strictement respectés. Enfin, dans le cadre de la mise en oeuvre de la LOLF, le Gouvernement a su tenir compte des préconisations de la représentation nationale. Ainsi, les crédits inscrits au budget du ministère de l\\'intérieur au titre des collectivités territoriales seront-ils regroupés au sein de la mission \" Relations avec les collectivités territoriales \", laquelle regroupe les crédits de l\\'agrégat 21 ainsi que ceux afférents aux coûts de fonctionnement de la politique de l\\'Etat envers les collectivités territoriales retracés dans l\\'agrégat 31. Conformément au souhait du Parlement, cette mission comportera quatre programmes : \" concours financiers aux communes et groupements de communes \" ; \" concours financiers aux départements \" ; \" concours financiers aux régions \" et \" concours spécifiques et administration \". Cette nomenclature permettra d\\'exercer un contrôle détaillé de l\\'emploi des crédits votés pour chaque niveau de collectivité. Leur regroupement au sein d\\'une même mission autorisera le Parlement à exercer son droit d\\'amendement sur l\\'ensemble de la mission. Les trois premiers programmes comportent deux actions principales : aide à l\\'équipement et DGD. Deux indicateurs sont associés à l\\'action \" aide à l\\'équipement \" : évolution du volume des investissements réalisés par les collectivités grâce aux subventions accordées par l\\'Etat ; et taux moyen de subvention. On peut regretter que ces indicateurs ne puissent être améliorés que par un accroissement des moyens budgétaires, ce qui semble peu conforme à l\\'esprit de la LOLF. Rappelons en effet qu\\'ils ont plutôt vocation à permettre d\\'évaluer la capacité des gestionnaires à mieux utiliser les moyens disponibles. Votre rapporteur spécial avait souhaité que des objectifs et indicateurs de performance soient associés aux prélèvements sur recettes qui représentent environ les trois quarts des concours de l\\'Etat aux collectivités. Cette demande a été entendue. Les prélèvements sur recettes feront donc l\\'objet de fiches \" objectifs \" et \" indicateurs \", distinctes, mais complémentaires des projets annuels de performance. Les concours financiers aux communes, aux départements et régions financés par prélèvements sur recettes seront évalués essentiellement au regard de l\\'objectif de péréquation. Ainsi, dans une période charnière délicate pour les finances locales, le Gouvernement a eu à coeur de respecter ses engagements envers les collectivités. Les principes d\\'autonomie financière et de péréquation trouvent dès cette année une application concrète. La reconduction du contrat de croissance, le second volet de la réforme de la DGF, les modalités de compensation des transferts de compétences ainsi que les modalités de mise en oeuvre de la LOLF contribuent à faire de ce budget un excellent budget. Votre rapporteur spécial souhaite enfin appeler l\\'attention sur le fait qu\\'il proposera, dans le cadre de l\\'examen des articles non rattachés de la deuxième partie du PLF, un amendement visant à revaloriser les bases locatives selon le taux d\\'inflation. Bien entendu, la commission des finances a donné un avis favorable à l\\'adoption des crédits du ministère de l\\'intérieur pour les collectivités locales.', ']]>', '</TEXTE>', '</DOCUMENT>', '<DOCUMENT id=\"4:17261\">', '<EVALUATION nombre=\"1\">', '<NOTE valeur=\"1\" confiance=\"1.00\" />', '</EVALUATION>', '<TEXTE>', '<![CDATA[', \"Il est malaisé de faire en quelques minutes la synthèse des observations qui justifie l'avis positif de la commission des lois sur projet de budget pour 2005 relatif à l'administration générale du ministère de l'intérieur et aux collectivités locales. Aussi me bornerai-je à mettre en lumière quelques points particulièrement significatifs. Après 2003, 2004 aura été une année phare pour l'acte II de la décentralisation, avec une nouvelle répartition des compétences entre les différents échelons de l'action de l'Etat, assortie d'une garantie des ressources propres aux collectivités et de la juste compensation des transferts de compétences. Concomitamment, l'Etat a engagé la modernisation de son administration centrale et territoriale. La réforme de l'administration générale a été rendue nécessaire par la poursuite de deux chantiers de modernisation aux objectifs convergents : la mise en oeuvre de la LOLF - avec la définition de programmes et la recherche d'indicateurs de performances - et la conduite de l'action publique dans le cadre renouvelé d'une organisation décentralisée de la République. Ainsi, dans le cadre de la stratégie ministérielle de réforme arrêtée en 2003, le ministère de l'intérieur s'est enrichi d'un secrétariat général chargé d'améliorer la performance des services. En outre, les élus locaux doivent pouvoir s'appuyer sur des interlocuteurs identifiés, de manière à nouer un véritable partenariat entre l'Etat et les collectivités territoriales. La loi de finances pour 2005 traduit cette ambition en termes financiers, grâce à l'achèvement de la procédure de globalisation des crédits, dont les résultats sont très encourageants. Le fait décentralisateur est bien là. Au reste, selon un sondage récent, deux Français sur trois approuvent la décentralisation, et un sur deux cite en tête de ses préoccupations la réforme de l'impôt local, au sujet de laquelle nous attendons nous-mêmes vos propositions. Et nos compatriotes font aussi confiance en priorité aux collectivités pour réduire les inégalités et créer de l'emploi. Au-delà des nouvelles formes d'intervention et de partenariat, la loi responsabilités locales innove en proposant une méthode loyale et transparente de transfert, destinée à permettre aux collectivités de faire face à leurs nouvelles responsabilités. Le gouvernement <hommePolitique /> rompt avec la méthode de ses prédécesseurs, qui cherchaient souvent, par de nouveaux transferts de compétences non compensés, à réduire artificiellement le déficit de l'Etat. L'action réformiste du Gouvernement vise également à assurer plus de proximité, et, partant, davantage de solidarité et d'égalité. Il a jeté les bases d'un Etat véritablement décentralisé, sans renoncer pour autant à garantir son unité. 2005 verra la poursuite de la réforme des dotations d'Etat engagée en 2003. La loi de finances pour 2004 posait déjà les bases d'une réforme d'envergure des concours aux collectivités. C'est dans la même logique de rationalisation et de péréquation que le Gouvernement propose aujourd'hui une profonde modification des mécanismes internes de répartition des dotations, tels que les règles d'éligibilité ou les formules de répartition. Parallèlement, le pacte de croissance et de solidarité est reconduit une nouvelle fois. L'élément central de la nouvelle architecture qui nous est proposée consiste à assurer, pour chaque niveau de collectivité, une alimentation pérenne de la péréquation. En substituant la notion de potentiel financier à celle de potentiel fiscal, il s'agit aussi de mieux mesurer les écarts de richesse réelle entre collectivités, plutôt que de s'en tenir exclusivement à la richesse fiscale. A l'instar de celle des communes, la réforme proposée pour la dotation forfaitaire des départements vise à mieux prendre en compte la population. Le présent projet de loi de finances, et celui, à venir, relatif à la cohésion sociale, retiennent une réforme du mode de calcul des dotations répondant à l'objectif de péréquation fixé par l'article 72-2 de la Constitution. Le projet de réforme de la DSU repose sur un constat simple : il existe encore une trop grande disparité entre communes, les plus pauvres n'ayant même pas de quoi financer leur fonctionnement minimal. La réforme proposée se veut pratique et simple. Selon Mme <hommePolitique />, il s'agit à la fois d'accorder un montant de DSU à répartir plus important et d'organiser une meilleure répartition de la ressource. Je souscris pleinement à ce double objectif, en vertu duquel le projet prévoit d'augmenter la dotation de 120 millions par an pendant cinq ans, afin de doubler le montant global à l'horizon 2009, et de ne consacrer cette somme supplémentaire qu'aux 124 communes dotées d'une ZFU parmi les huit cents bénéficiant de la DSU. Au final, la DSU devrait représenter 5 % - contre 3 % aujourd'hui - du montant global de la DGF. De même, il s'agit de majorer la dotation de solidarité rurale au profit de 1649 bourgs-centres situés en ZRR. Toutefois, cela ne doit pas se faire au détriment de la dotation forfaitaire destinée aux autres communes. Des marges existent pour éviter une telle situation qui serait difficilement explicable au plan local. Notre rapporteur général a fait accepter par le Gouvernement un amendement tendant à proposer une progression de 1 %. C'est bien, mais encore en deçà des niveaux qui auraient pu être envisagés. Souscrire à cette initiative parlementaire ne coûterait que 56 millions, à rapprocher des 91,6 millions attendus de la régularisation de la DGF au titre de 2003. Je suggèrerai que la progression soit égale à l'inflation estimée pour 2005, qui traduit déjà mal l'envolée des prix des produits pétroliers et des matières premières. Et ne peut-on autoriser l'inscription par anticipation, dans les budgets primitifs des collectivités territoriales, d'une part de la régularisation au titre de la DGF pour 2004 ? Ce projet garantit aux collectivités un financement équitable des transferts de compétences et il renforce la péréquation. C'est pourquoi la commission des Lois a émis un avis favorable.\", ']]>', '</TEXTE>', '</DOCUMENT>', '<DOCUMENT id=\"4:17262\">', '<EVALUATION nombre=\"1\">', '<NOTE valeur=\"1\" confiance=\"1.00\" />', '</EVALUATION>', '<TEXTE>', '<![CDATA[', \"Ce budget, en hausse de 3% conforte l'action engagée ; au terme de son exécution, 68% des objectifs fixés par la LOPSI auront été atteints. Ce budget met aussi en oeuvre la réforme des corps et des carrières. Il accroît considérablement les moyens de la sécurité civile. Enfin, il assure un financement loyal de la décentralisation, dans le respect de l'autonomie financière des collectivités locales. Certains présidents d'exécutifs locaux de <partiPolitique /> essaient, de façon démagogique, de faire croire qu'ils vont augmenter la fiscalité parce que, dans le cadre de la décentralisation, nous aurions transféré des compétences sans moyens. Vous vous êtes engagé, Monsieur le ministre des collectivités locales, à financer ces transferts à l'euro près. Eux ont fait voter la loi démocratie de proximité, le transfert des services d'incendie et de secours sans les moyens équivalents,...\", ']]>', '</TEXTE>', '</DOCUMENT>', '<DOCUMENT id=\"4:17263\">', '<EVALUATION nombre=\"1\">', '<NOTE valeur=\"1\" confiance=\"1.00\" />', '</EVALUATION>', '<TEXTE>', '<![CDATA[', \"C'est de la démagogie pure et simple. Les exécutifs présidés par des responsables de <partiPolitique /> n'augmenteront pas leur fiscalité. La comparaison sera éclairante. Ce budget d'action s'inscrit dans la <partiPolitique /> ligne des précédents. L'acte I de la bataille contre l'insécurité a été de rompre avec le fatalisme pour obtenir des résultats probants. Nous n'avons pas à rougir d'avoir rendu l'espoir à ceux qui ne croyaient plus en la capacité de l'Etat à faire respecter les lois de la République, et rendu confiance aux forces de l'ordre, auxquelles je veux rendre un hommage appuyé...\", ']]>', '</TEXTE>', '</DOCUMENT>', '<DOCUMENT id=\"4:17264\">', '<EVALUATION nombre=\"1\">', '<NOTE valeur=\"1\" confiance=\"1.00\" />', '</EVALUATION>', '<TEXTE>', '<![CDATA[', \"Les résultats sont au rendez-vous. Nous avons brisé la spirale de la délinquance. Mais si nous avons remporté cette première bataille, nous sommes loin d'avoir gagné la guerre. Restons modestes. Confirmer les résultats obtenus et s'adapter aux nouvelles formes de la criminalité, tel sera l'acte II de notre combat. Malgré ce que prétendent certains, la sécurité reste une valeur fondamentale pour les Français. S'ils ont repris confiance en l'Etat, la violence n'en demeure pas moins une réalité. La délinquance a su s'adapter pour contourner la loi. Sachons nous adapter à notre tour. Nous savions d'ailleurs que la LOPSI devrait évoluer. Ainsi, malgré un bilan très positif, nous sommes en droit d'attendre plus de résultats des groupes d'intervention régionaux. J'apprécie que ce budget donne autant d'importance au recrutement de nouveaux fonctionnaires pour la police scientifique et technique car nous fondons beaucoup d'espoirs sur le fichier national automatisé des empreintes génétiques. En Grande-Bretagne, il comprend 3 millions de noms ; l'an dernier il y en avait 3000 sur le nôtre. Nous devons impérativement atteindre les 500 ou 600 000 noms dans les années qui viennent. Les moyens consentis dans ce budget doivent permettre de rattraper une part importante du retard, pour mieux lutter contre les crimes, notamment les crimes sexuels. Pour lutter contre la cybercriminalité, nous avions fait adopter deux amendements dans la loi sur la sécurité intérieure au sujet des perquisitions informatiques. Je regrette que les opérateurs de télécommunications ne soient pas plus coopératifs : il faut agir fermement dans ce domaine. Pour être efficace, à côté de votre action forte, déterminée, ambitieuse, il faut aussi une meilleure coordination avec la Justice et l'Education nationale. Comment ne pas s'interroger quand le travail des forces de l'ordre est remis en cause par le fonctionnement inégal de la Justice ? Je pense aux multirécidivistes, à de véritables monstres comme Fourniret ou Bodin qui, relâchés, purent nuire de nouveau. Nous avons déposé une proposition de loi pour lutter plus efficacement contre la multirécidive et nous souhaitons obtenir des résultats. Je m'interroge aussi sur l'application de certaines dispositions de la loi sur la sécurité intérieure. Comment accepter qu'il n'y ait eu depuis le début de l'année que 266 procédures judiciaires engagées avec suite pénale pour l'infraction relative aux réunions dans les halls d'immeuble ?\", ']]>', '</TEXTE>', '</DOCUMENT>', '<DOCUMENT id=\"4:17265\">', '<EVALUATION nombre=\"1\">', '<NOTE valeur=\"1\" confiance=\"1.00\" />', '</EVALUATION>', '<TEXTE>', '<![CDATA[', \"Il ne faut fermer les yeux sur aucune forme de violence. Oui, la violence scolaire a augmenté, et peut-être le temps est-il venu de prendre de nouveaux moyens pour l'enrayer ; je pense notamment à l'affectation de policiers sans armes et en civil, ou encore à l'établissement de conventions entre les collectivités locales et l'Etat pour installer des dispositifs d'alarme et de télésurveillance dans les établissements les plus sensibles. Nous devons aussi réagir devant la criminalité barbare importée des anciens satellites de la défunte Union soviétique : le détournement du droit d'asile, pourtant considérablement limité grâce à la réforme de l'OFPRA, permet à des individus affranchis de toute règle de vie en société de sévir dans nos villes. Il faut avoir le courage de reconnaître certaines vérités : une étude publiée par l'IHESI montre qu'une part très importante de la délinquance est imputable à des Français originaires de l'étranger et à des étrangers présents sur notre sol. Monsieur le ministre, nous ne pouvons pas relâcher notre vigilance. Les Français nous ont fait confiance pour enrayer la hausse de la criminalité, ils nous demandent d'aller encore plus loin : nous savons que vous ne les décevrez pas\", ']]>', '</TEXTE>', '</DOCUMENT>', '<DOCUMENT id=\"4:17266\">', '<EVALUATION nombre=\"1\">', '<NOTE valeur=\"0\" confiance=\"1.00\" />', '</EVALUATION>', '<TEXTE>', '<![CDATA[', \"Une discussion budgétaire est toujours l'occasion d'un bilan et d'une projection. Le bilan. La priorité accordée à la sécurité, affichée dès l'entrée en fonctions de ce gouvernement, commence à porter ses fruits. La courbe de la délinquance s'inverse, et nouveauté intéressante, c'est également vrai désormais dans les zones de gendarmerie. Les taux d'élucidation sont en progrès constant. En revanche, les violences aux personnes augmentent de 6,9 % ; il semble que la politique de sensibilisation aux violences conjugales soit la cause principale de ce chiffre, mais nous aimerions en avoir confirmation. Incontestablement, en dépit de l'enthousiasme de certains, nous sommes loin d'avoir réglé tous les problèmes. S'agissant des halls d'immeuble, il faudrait que nous corrigions ce que nous avons fait dans la LOPSI, puisque la jurisprudence l'a invalidé : les policiers n'ont plus la possibilité d'agir. Peut-être faudrait-il que ces squats relèvent de la contravention, plutôt que d'être considérés comme délits dès lors que c'est désormais inopérant.\", ']]>', '</TEXTE>', '</DOCUMENT>', '<DOCUMENT id=\"4:17267\">', '<EVALUATION nombre=\"1\">', '<NOTE valeur=\"0\" confiance=\"1.00\" />', '</EVALUATION>', '<TEXTE>', '<![CDATA[', \"En ce qui concerne les gendarmes, je vous remercie, Monsieur le ministre, de l'accélération à laquelle vous procédez. Elle était nécessaire, compte tenu du léger retard qui avait été pris. Nous savons que 1782 gendarmes qui opéraient dans les zones de police ont pu réintégrer les zones de gendarmerie, mais j'aimerais savoir, réciproquement, combien de policiers opérant dans les zones de gendarmerie ont réintégré les zones de police. En ce qui concerne la police, la LOPSI prévoyait 6500 recrutements, dont 4500 actifs. Nous atteindrons cette année le chiffre de 2150. Il restera donc 2300 policiers actifs à recruter dans les deux prochaines années, ce qui n'est pas un faible enjeu, en particulier au regard des capacités de formation des écoles de police. Enfin, les engagements en matière de personnels administratifs sont respectés. S'agissant des équipements, l'effort immobilier s'accélère, mais j'approuve ce qui a été dit au sujet de la nécessité d'offrir des conditions de vie sûres et dignes à nos fonctionnaires, tant dans les commissariats que dans les gendarmeries. Je déplore par ailleurs la faiblesse persistante du parc automobile et la longueur des délais de transfert au privé. Il convient d'accélérer les choses, en particulier en région parisienne. J'en viens à quelques questions. Le rapport de M. <hommePolitique /> fait état de la suppression de 881 postes de gradés - du grade de lieutenant à celui de commissaire - tandis que 633 postes seraient créés, du grade de gardien de la paix à celui de brigadier major. Je comprends que l'on veuille renforcer l'encadrement des jeunes policiers, mais je ne comprends pas la déflation annoncée au niveau des plus hauts grades. Je me félicite que des effectifs de référence soient pour la première fois fixés et affectés aux commissariats, mais je voudrais que l'on prenne bien en compte pour les déterminer le lieu de commission des faits, qui n'est pas forcément celui où l'on va porter plainte. Il ne faudrait pas que cette possibilité donnée aux usagers fausse les statistiques. Je sais, Monsieur le ministre, que vous êtes sensible à la situation du tribunal de Bobigny. Il est gardé depuis des années par des policiers qui ont été formés à la surveillance de la voie publique et que les délinquants sont donc habitués à côtoyer, ce qui fait qu'ils ne leur témoignent pas toujours tout le respect requis. Ne pourrait-on pas expérimenter une formule qui consisterait à affecter à la surveillance des audiences de ce tribunal certaines des forces mobiles dont nous disposons ? Elles seraient ainsi plus utilement employées que sur la voie publique. Les commissariats auront des effectifs de référence, très bien, mais encore faut-il que ceux-ci vaillent pour toute l'année. Or, les mutations dénudent nos commissariats près de six mois par an, ce qui a d'ailleurs des effets sur la courbe de la délinquance. Je suggère donc qu'il n'y ait que deux mouvements par an et que l'on puisse garantir que pas un policier ne quittera son commissariat sans être immédiatement remplacé. En ce qui concerne la fidélisation, la prime a été une bonne chose, mais il nous faut vraiment travailler davantage sur le logement, en particulier en Ile-de-France, si nous voulons retenir les jeunes policiers. Je suis persuadé que l'on pourrait créer un partenariat entre collectivités locales et ministère de l'intérieur pour faciliter la création de petites unités de logement spécialement réservées aux policiers...\", ']]>', '</TEXTE>', '</DOCUMENT>', '<DOCUMENT id=\"4:17268\">', '<EVALUATION nombre=\"1\">', '<NOTE valeur=\"0\" confiance=\"1.00\" />', '</EVALUATION>', '<TEXTE>', '<![CDATA[', 'Force est de constater que le budget de la police nationale marque le pas. S\\'il augmentait les années précédentes de 5,5%, cette année les crédits de paiement n\\'augmentent - comme on peut le lire, Monsieur le ministre, page 45 du rapport de M. <hommePolitique /> - que de 1,95 % de LFI à LFI, et cela pour une inflation estimée à 1,7%. On peut donc dire qu\\'ils stagnent, ce qui est d\\'autant plus préoccupant qu\\'en 2004, les annulations de crédits ont représenté 85 millions d\\'euros. Le budget 2005 est plus dominé par la poursuite de la réforme des corps et carrières, engagée par la <partiPolitique />, que par l\\'exécution conforme de la LOPSI. Dès lors, deux hypothèses sont envisageables : soit le ministre de l\\'économie et des finances n\\'a pas daigné vous donner les moyens dont il avait pu bénéficier lorsqu\\'il était à votre place, soit vous considérez vous-même qu\\'il doit y avoir une réorientation de la politique de ce ministère. De fait, vous avez vous-même précisé que le bilan de votre prédécesseur n\\'était qu\\'un \" tremplin \", lorsque vous annonciez en juin dernier vos six chantiers. Le sixième chantier marquait même une rupture, puisque vous avez exprimé clairement votre refus de la discrimination positive. Le bilan de la mise en oeuvre de la LOPSI est beaucoup plus contrasté que vous ne voulez bien l\\'affirmer. Ce qui compte, c\\'est de savoir si la capacité opérationnelle de la police nationale s\\'est améliorée depuis deux ans. La <partiPolitique /> avait fait un effort important en 2002. Ce sont les emplois qu\\'elle a créés alors qui ont été pourvus. Une grande partie des effectifs que vous avez créés attendent encore d\\'entrer dans une école de police, souvent depuis plus d\\'an. Quand les élèves qui sortent actuellement des écoles de police ont-ils réussi le concours ? Combien sont-ils, ces lauréats qui attendent de pouvoir intégrer les écoles ? Pendant qu\\'ils patientent chez eux, nous autres élus attendons ces policiers dont nous avons besoin ! Il y a de toute évidence un décalage entre le discours et la réalité ! Les crédits de formation ne sont pas à la hauteur et aucun ajustement des crédits des écoles de police n\\'est prévu, pour la troisième année consécutive. Vous ne pourrez pas toujours reprocher à la <partiPolitique /> les conséquences de la RTT dans la police. La <partiPolitique /> est bel et bien responsable des 800 départs anticipés à la retraite qui ont suivi la mauvaise réforme des retraites de 2003, ainsi que de la diminution du nombre des ADS - 11 300 aujourd\\'hui, alors qu\\'ils étaient plus de 14 000 fin 2001. Concernant la fidélisation des policiers dans la région parisienne, force est de constater que la \" noria des départs \" de l\\'Ile-de-France vers la province, selon l\\'heureuse expression de notre rapporteur <hommePolitique />, se poursuit à un rythme de plus en plus rapide. La <partiPolitique /> avait pourtant revalorisé le régime indemnitaire spécifique à cette région. Mais les départs à la retraite, massifs en province, créent un véritable appel d\\'air. Le budget des moyens de fonctionnement n\\'est pas non plus meilleur que le précédent. On relève par exemple la poursuite de la baisse des crédits pour les enquêtes et surveillances, ainsi que ceux des services spécialisés de la police judiciaire. S\\'agissant de l\\'équipement, le budget que vous proposez n\\'est pas à la hauteur. La faible augmentation des autorisations de programme ne saurait masquer le retard pris dans l\\'exécution des chantiers annoncés, à commencer par la construction des commissariats. Seul le programme Acropol tient ses engagements, malgré un coup d\\'arrêt en 2003 et 2004. Je voudrais maintenant revenir sur les résultats de la lutte contre la délinquance. Les bons résultats apparents de votre prédécesseur ne sauraient masquer les réalités complexes de la délinquance, et les chiffres de M. <hommePolitique /> ont surtout traduit la hausse de l\\'activité des forces de sécurité. Depuis près de 20 ans, la délinquance reste élevée, et avec un peu plus de 3,9 millions de faits constatés en 2003, M. <hommePolitique /> n\\'a pas fait mieux que la <partiPolitique /> en 2000. En 2003, la violence sur les personnes a augmenté de 7,3 %, et de 7 % encore au premier semestre 2004. Et je ne parle pas de la violence scolaire !', ']]>', '</TEXTE>', '</DOCUMENT>', '<DOCUMENT id=\"4:17269\">', '<EVALUATION nombre=\"1\">', '<NOTE valeur=\"0\" confiance=\"1.00\" />', '</EVALUATION>', '<TEXTE>', '<![CDATA[', \"Votre prédécesseur avait promis des statistiques fiables, mais nous attendons encore les premiers chiffres de l'Observatoire de la délinquance ! L'état 4001, avec ses 107 rubriques, multiplie les possibilités de qualification différente d'un même fait. Selon le rapport du sénateur de Montesquiou, 10 % des faits seraient mal classés, ce qui porterait alors à plus de 4, 3 millions le nombre de crimes et délits constatés.\", ']]>', '</TEXTE>', '</DOCUMENT>', '<DOCUMENT id=\"4:17270\">', '<EVALUATION nombre=\"1\">', '<NOTE valeur=\"0\" confiance=\"1.00\" />', '</EVALUATION>', '<TEXTE>', '<![CDATA[', \"...et elle a pu conduire à des dérives dans le maniement policier des statistiques, de l'aveu même des syndicats de policiers. Et que dire de la multiplication des défaillances policières soulignées par un rapport de l'IGPN, de l'augmentation des saisines disciplinaires internes, ou de celles de la commission de déontologie de la sécurité ! Les GIR ne sont pas parvenus à éradiquer la criminalité structurée autour de l'économie souterraine, et le redéploiement police-gendarmerie n'a pas davantage modifié la géographie de la délinquance. Voyez l'article paru dans Le Figaro. Vos propositions budgétaires pour 2005 sont en retrait par rapport aux deux premières années de la LOPSI, sans parler des déficiences de l'exécution budgétaire de votre prédécesseur. Les coups médiatiques n'ont pas toujours été suivis par les actes. Enfin, la présentation très imprécise de la préfiguration des projets annuels de performance augure mal de la lisibilité du budget 2006. Dans ces conditions, on peut s'interroger sur la sincérité de ce budget, que le groupe <partiPolitique /> ne votera pas..\", ']]>', '</TEXTE>', '</DOCUMENT>', '<DOCUMENT id=\"4:17271\">', '<EVALUATION nombre=\"1\">', '<NOTE valeur=\"1\" confiance=\"1.00\" />', '</EVALUATION>', '<TEXTE>', '<![CDATA[', 'Je centrerai mon propos sur deux chantiers, marqués par deux sinon trois décennies d\\'échec des grandes politiques publiques. S\\'agissant tout d\\'abord de la lutte contre le trafic de stupéfiants, <hommePolitique /> vous a fait de nombreuses propositions que j\\'approuve, tout en regrettant l\\'absence d\\'un pan entier sur le problème de l\\'usage. N\\'oublions que c\\'est la demande qui appelle l\\'offre, et que celle-ci trouvera toujours le moyen d\\'exister tant que la première perdurera. Souvenez-vous de ce très beau film, \" Trafic \", de Steven Soderbergh, où le procureur fédéral américain en charge de la lutte contre les stupéfiants réalise que dans sa propre salle de bains, sa fille se drogue. Le problème des stupéfiants n\\'est pas limité à la Colombie ou au Triangle d\\'Or, il existe aussi dans nos collèges, nos associations, nos clubs, nos familles. Sans aller jusqu\\'à la peine de mort comme cela se pratique à Singapour, il est temps pour nous de réagir ! J\\'en viens maintenant au chantier de l\\'immigration. J\\'ai cru comprendre que vous prôniez une immigration choisie, plutôt qu\\'une immigration subie. C\\'est vrai qu\\'à force de mettre l\\'accent soit sur l\\'accueil, soit sur l\\'éloignement, plus personne ne s\\'y retrouve aujourd\\'hui dans l\\'enchevêtrement des dispositions. Un an après le vote de la loi du 26 novembre 2003, certains décrets d\\'application n\\'ont toujours pas été publiés...', ']]>', '</TEXTE>', '</DOCUMENT>', '<DOCUMENT id=\"4:17272\">', '<EVALUATION nombre=\"1\">', '<NOTE valeur=\"1\" confiance=\"1.00\" />', '</EVALUATION>', '<TEXTE>', '<![CDATA[', 'Face au flot des nouvelles arrivées, l\\'administration reste sans réponse. Cela étant, la France a besoin de talents extérieurs, et doit pouvoir accueillir les étudiants ou les salariés les plus motivés qui répondent à nos besoins. Prenez exemple sur la Chine qui accorde des visas de dix ans à des \" éléments moteurs de l\\'immigration \", dans les domaines de la technique, du commerce, du high tech, de l\\'enseignement ou de la culture. Evidemment il ne faut pas dépouiller les pays concernés de leurs meilleurs éléments. Nous ferons des propositions à e sujet. Il nous importe aujourd\\'hui de vous donner les moyens financiers de vos chantiers, car aujourd\\'hui est enfin venu le temps de l\\'action..', ']]>', '</TEXTE>', '</DOCUMENT>', '<DOCUMENT id=\"4:17273\">', '<EVALUATION nombre=\"1\">', '<NOTE valeur=\"0\" confiance=\"1.00\" />', '</EVALUATION>', '<TEXTE>', '<![CDATA[', \"Les dernières statistiques de la délinquance ont confirmé la tendance favorable des deux dernières années. Ainsi, sur les neuf premiers mois de l'année, les crimes et délits ont diminué de 4% par rapport à la même période de l'année 2003. Les crédits pour 2005 sont à la hausse, et ceux de la police nationale augmentent de 1,96 % - 5,8 milliards d'euros. On peut légitimement s'interroger sur la répartition de ce budget entre les différentes missions du service public de la sécurité, mais l'on ne peut nier les bons résultats de la lutte contre l'insécurité.\", ']]>', '</TEXTE>', '</DOCUMENT>', '<DOCUMENT id=\"4:17274\">', '<EVALUATION nombre=\"1\">', '<NOTE valeur=\"1\" confiance=\"1.00\" />', '</EVALUATION>', '<TEXTE>', '<![CDATA[', \"A Blois, la délinquance en centre ville a diminué de 37 % entre le 1 er janvier 2001 et le 2 novembre 2004, tandis que la délinquance de voie publique reculait de 7 %. Le nombre des cas élucidés s'est accru de 50% et le nombre des voitures incendiées a diminué. Ceci s'explique en grande partie par l'augmentation des effectifs de policiers, qu'ils soient nationaux ou municipaux. La complémentarité des deux polices est en effet fondamentale. La circulaire du 26 mai 2003 détermine l'ensemble des compétences des polices municipales, notamment en matière de police judiciaire, et précise les moyens juridiques dont elle dispose. Elle prévoit également un renforcement de la coopération avec la police et la gendarmerie nationales. Ainsi, les conventions de coordination doivent prévoir les modalités de remise aux forces de sécurité de l'Etat des délinquants appréhendés en flagrant délit par les polices municipales. Cette question des effectifs dépend également de l'aménagement du temps de travail des policiers, qu'il a fallu mettre aux 35 heures alors que la population réclamait plus de fonctionnaires. Dès lors, comment comptez-vous maintenir les résultats obtenus en matière de sécurité urbaine, sachant qu'une pression accrue de la police nationale est indispensable ?\", ']]>', '</TEXTE>', '</DOCUMENT>', '<DOCUMENT id=\"4:17275\">', '<EVALUATION nombre=\"1\">', '<NOTE valeur=\"0\" confiance=\"1.00\" />', '</EVALUATION>', '<TEXTE>', '<![CDATA[', \"Quid de la fidélisation des policiers affectés dans les quartiers sensibles ? La modulation de la prime de logement me semble insuffisante pour y parvenir. Quelles mesures comptez-vous donc prendre ? Les GIR interviennent sur l'initiative conjointe du préfet et du procureur de la République. Je souhaiterais que les maires aient leur mot à dire. Il semble, de plus, que dans les petits départements, l'implication du GIR dans la lutte contre le blanchiment d'argent soit souvent moindre que dans d'autres zones. Quel est donc leur bilan depuis leur création et comment expliquer de tels déséquilibres ? Enfin, concernant la prévention de la délinquance, nous avons commencé un important travail avec <hommePolitique /> et un texte était en préparation. Qu'en est-il ? La lutte contre l'insécurité doit être globale...\", ']]>', '</TEXTE>', '</DOCUMENT>', '<DOCUMENT id=\"4:17276\">', '<EVALUATION nombre=\"1\">', '<NOTE valeur=\"0\" confiance=\"1.00\" />', '</EVALUATION>', '<TEXTE>', '<![CDATA[', \"Une vigoureuse politique de prévention doit être encouragée. La création des conseils locaux de sécurité et de prévention de la délinquance est de ce point de vue pertinente, mais il manque encore une véritable coordination des forces de sécurité intérieure et des services de la justice. Le budget du ministère de la justice doit donc être en adéquation avec celui du ministère de l'intérieur, car la sécurité des Français est à ce prix.\", ']]>', '</TEXTE>', '</DOCUMENT>', '<DOCUMENT id=\"4:17277\">', '<EVALUATION nombre=\"1\">', '<NOTE valeur=\"0\" confiance=\"1.00\" />', '</EVALUATION>', '<TEXTE>', '<![CDATA[', \"Il sera difficile aux collectivités territoriales d'équilibrer leur budget sans recourir à l'impôt. La loi de 2003, avec la décentralisation du RMI et la création du RMA, mais aussi les lois sur la sécurité civile et les responsabilités locales bouleverseront durablement la structure des budgets locaux et donc les politiques locales.\", ']]>', '</TEXTE>', '</DOCUMENT>', '<DOCUMENT id=\"4:17278\">', '<EVALUATION nombre=\"1\">', '<NOTE valeur=\"0\" confiance=\"1.00\" />', '</EVALUATION>', '<TEXTE>', '<![CDATA[', \"L'examen du volet sécurité civile et collectivité territoriale de ce PLF révèle les incohérences d'une politique plus soucieuse d'affichage et de transferts de charges que d'une décentralisation dotée de réels moyens. La hausse de l'ensemble des concours de l'Etat de 2,87 % me semble bien insuffisante au regard des charges nettes que l'Etat s'apprête à transférer, et je ne tiens pas compte des désengagements progressifs de l'Etat des contrats de plan Etat-région. Aucune information stable n'est à ce jour disponible, aucun décret d'application n'a été pris, si ce n'est dimanche, celui fixant la composition et le fonctionnement des SDIS. Le conseil supérieur de la fonction publique territoriale n'a d'ailleurs pas été saisi pour émettre un avis sur ce décret, bien que huit représentants des sapeurs pompiers professionnels en fassent partie. Seule une perspective se dessine nettement : ce sont les contribuables locaux qui paieront la modernisation de la sécurité civile et les pots cassés du prétendu acte II de la décentralisation. A moins de deux mois de l'ouverture de l'exercice budgétaire de 2005, nous ne sommes pas en mesure de déterminer ce à quoi pourront prétendre les collectivités territoriales en contrepartie des transferts de compétences. Le nombre des personnels qui seront transférés est impossible à apprécier : on s'accorde pour estimer qu'environ 130 000 agents de l'Etat seront concernés. En ce qui concerne les TOS, le ministère de l'éducation nationale évalue leur nombre à 97 472 et 3 116 dans les DOM, ce qui équivaudrait à 93 400 équivalents temps plein. Or, si l'on se fonde sur le rapport de M. <hommePolitique />, on aboutit à 96 600 équivalents temps plein. Qui croire ? Pire, il est désormais admis juridiquement qu'il existe des écarts importants entre les besoins de TOS et les effectifs réels de ces personnels. Je m'étonne que ce soit dans la presse que M. <hommePolitique /> ait annoncé que le montant des nouvelles compétences atteindra 9,5 milliards par an au lieu des 11 milliards prévus initialement : les calculs ne sont pas encore faits, aucune appréciation contradictoire n'a eu lieu et je ne pense pas que les élus locaux aient été consultés. Plus généralement, le décret précisant le calcul du transfert des charges d'investissement n'a pas été pris. Par ailleurs la loi de modernisation de la sécurité civile désigne le département comme principal financeur des SDIS sans prévoir de contreparties aux nouvelles obligations ainsi assignées. Le schéma départemental de couverture et d'analyse des risques doit en outre être élaboré en cohérence avec de nouveaux dispositifs de prévision et de planification, ce qui induira une inflation des coûts. La création de l'Ecole nationale supérieure des officiers de sapeurs pompiers dont le financement est assuré par une cotisation des SDIS n'a donné lieu à aucune compensation de l'Etat. Le financement du congé pour difficultés opérationnelles revient aux SDIS qui devront prendre à leur charge 75 % de la rémunération des pompiers bénéficiant de ce congé, ainsi que le recrutement et la formation de leurs remplaçants. Encore une nouvelle charge qui ne sera pas compensée.\", ']]>', '</TEXTE>', '</DOCUMENT>', '<DOCUMENT id=\"4:17279\">', '<EVALUATION nombre=\"1\">', '<NOTE valeur=\"0\" confiance=\"1.00\" />', '</EVALUATION>', '<TEXTE>', '<![CDATA[', \"Enfin, la dotation du fonds d'aide à l'investissement des SDIS s'élèvera cette année à 65 millions pour 95 services départementaux : cette prévision témoigne d'un certain mépris pour les collectivités locales. Le PLF propose de compenser provisoirement les transferts en question par l'attribution d'une part fixe de la fiscalité nationale. Or, cette mesure sera insuffisante : la taxe sociale sur les conventions d'assurance doit être attribuée à hauteur de 0,91 % aux départements. Cette fraction non modulable devra couvrir les compétences transférées à hauteur de 126,26 millions, mais aussi une partie du financement des SDIS, cette dernière part de 900 millions, se substituant à un versement de la DGF de 880 millions : le différentiel de 20 millions tient lieu de participation financière de l'Etat au financement de la prestation de fidélisation et de reconnaissance des sapeurs pompiers volontaires. Nous savons pourtant que ce mécanisme de retraite complémentaire coûtera 60 millions par an, ce qui signifie que les départements assumeront seuls les 40 millions d'euros restants. De plus, la prétendue compensation par la taxe sur les conventions d'assurance est d'autant plus incertaine que sera abandonnée dès 2006 la départementalisation des plaques minéralogiques, ce qui rendra impossible la répartition de cette dotation. J'ai évoqué le problème lors de la discussion de la loi du 13 août : le Gouvernement et le président de la commission des lois ont jugé l'argument fantaisiste, mais nous ne savons toujours pas comment les calculs seront faits. L'article 33 prévoit le transfert aux régions d'une fraction de la TIPP - 397,78 millions d'euros. Mais le secrétaire d'Etat au budget a admis ici même, le 22 octobre, que le produit de la TIPP diminuerait en 2004. Comment une région répondra-t-elle à une hausse des prix du carburant ? Devra-t-elle réduire le montant de la TIPP et sacrifier ses recettes, ou accorder des dégrèvements à certaines catégories de consommateurs, au risque de violer le principe d'égalité devant l'impôt ? Asseoir les compensations sur une seule ressource fiscale est un choix dangereux, et la situation actuelle milite assurément pour une rénovation de la fiscalité locale. En ce qui concerne le RMI, les recettes de TIPP ne couvriront pas les dépenses des organismes payeurs. Le nombre des allocataires a augmenté de 10,5 % entre juin 2003 et juin 2004. L'avance de trésorerie que les départements se voient ainsi contraints de consentir à l'Etat s'élève à ce jour à plus de 200 millions, à rapprocher des 700 de la DGD. L'Etat remboursera-t-il les intérêts des avances que les départements auront sollicitées auprès des caisses d'allocations familiales ? Ce projet de loi de finances ne respecte donc pas le principe constitutionnel de l'exacte compensation financière des compétences transférées. Il néglige l'importance de la péréquation entre collectivités et la nécessité de préserver une part déterminante de fiscalité propre dans les budgets locaux. J'invite donc mes collègues à rejeter, comme le feront les députés <partiPolitique />, les crédits de la sécurité locale et des collectivités territoriales.\", ']]>', '</TEXTE>', '</DOCUMENT>', '<DOCUMENT id=\"4:17280\">', '<EVALUATION nombre=\"1\">', '<NOTE valeur=\"1\" confiance=\"1.00\" />', '</EVALUATION>', '<TEXTE>', '<![CDATA[', \"Ce débat fournit l'occasion d'évaluer les actions de votre département ministériel, engagé depuis le début de l'année dans une nouvelle politique publique interministérielle, l'intelligence économique, dont j'avais défini le contenu et les finalités dans un rapport remis au Premier ministre il y a plus d'un an. Cinq, puis sept expérimentations régionales ont été conduites sous l'autorité des préfets de Région et avec le concours de la société nationale ADIT. Vous souhaitez les généraliser et je m'en réjouis, car votre volonté rejoint les initiatives prises par vos collègues : durcissement des dispositifs juridiques destinés à prémunir nos industries stratégiques de prises de participation étrangères non désirées, création d'une délégation générale au ministère de l'économie et des Finances, mobilisation des ambassadeurs, réflexion sur les dépendances technologiques de nos industries de défense, renforcement de la sécurité des réseaux publics de communication, élaboration enfin, par le haut responsable à l'intelligence économique, d'un tronc commun d'enseignement et de formation. Ces efforts sont louables, même s'ils sont tragiquement tardifs. La cécité de l'Etat face aux dispositifs publics et aux investissements privés étrangers, en particulier dans les technologies de l'information et de la communication, est incompréhensible, tout comme son incapacité à identifier jusqu'à présent le périmètre stratégique de l'économie nationale et à définir une stratégie globale de sécurité et de compétitivité adaptée aux marchés stratégiques. Votre département peut contribuer à cette politique nouvelle, génératrice d'emplois, d'émancipation technologique et d'influence politique. L'action des préfets de régions doit être assise sur une base normative et administrative. Sans celle-ci, pas d'initiative, pas de courage, pas d'émulation, pas d'action, pas de résultat, pas d'évaluation. Ils identifieront les entreprises ressortant du périmètre stratégique de notre économie ainsi que les entreprises régionales présentant un intérêt spécifique. Les services déconcentrés de l'Etat, confortés par les expertises de leurs partenaires, disposent des outils nécessaires à cette évaluation, qui doit rester souple et actualisable. Vous avez récemment déclaré que notre pays devait doter nos services de renseignement des meilleurs outils technologiques. J'ai souligné dans un rapport adopté par la commission des finances la pertinence de cette observation. Parmi les différentes technologies au service de la sécurité - biométrie, sécurité des réseaux, interceptions - les technologies d'analyse de l'information sont arrivées à maturité industrielle. Mais l'effort national est dispersé, ce qui freine la standardisation et l'interopérabilité entre les services, d'autant que chaque administration conserve jalousement son pré carré. Dans tous les domaines - textmining, datamining, géo-intelligence - la taille critique fait défaut. A l'inverse, l'effort américain s'est concentré et intensifié, aboutissant à un changement de paradigme technico-opérationnel. Deux sociétés moyennes dominent le marché : l'américaine Verity et l'anglo-américaine Autonomy, dont le système vient d'être retenu par la DGSE. Ce choix m'a surpris en tant que parlementaire, d'autant plus que l'arrivée sur le marché d'IBM et de Microsoft risque de renforcer la dépendance technologique de nos services. Notre retard peut être comblé au prix d'une impulsion politique majeure et d'une mutualisation des expertises et des investissements publics et privés. Cette procédure pourrait ressembler à un CEA des technologies de l'information, de la communication et de la sécurité. M. <hommePolitique />, rapporteur spécial - Très bien !\", ']]>', '</TEXTE>', '</DOCUMENT>', '<DOCUMENT id=\"4:17281\">', '<EVALUATION nombre=\"1\">', '<NOTE valeur=\"1\" confiance=\"1.00\" />', '</EVALUATION>', '<TEXTE>', '<![CDATA[', 'L\\'enjeu, considérable, est à notre portée. S\\'agissant des technologies d\\'analyse de l\\'information, il est urgent de conduire, derrière un leader, une stratégie industrielle fédérant nos pépites technologiques, et de construire une vraie doctrine de sécurité nationale à vocation duale, publique et privée, pour répondre aux menaces du terrorisme, de la guerre économique et de la cybercriminalité. Dans un contexte d\\'infodominance, c\\'est un devoir pour l\\'Etat d\\'assurer son autonomie et de protéger la nation. Cette politique passe par des commandes publiques, par l\\'élaboration de réseaux de confiance, et par la création de fonds d\\'investissement spécialisés. La sécurité des systèmes d\\'information constitue de surcroît un champ de coopération pour les pays de l\\'Union européenne : il faut placer nos experts au sein de l\\'ENISA, l\\'agence européenne créée au début de l\\'année, et développer des standards et des investissements communs, afin d\\'éviter qu\\'à l\\'avenir des sociétés européennes comme ACOM soient rachetées par une américaine comme INTEL juste après avoir mis au point un processeur au standard RISC STRONGARM grâce à des financements communautaires. Former les entreprises et les services de l\\'Etat aux vulnérabilités nouvelles, à l\\'identification de nos réseaux de soutien à l\\'étranger, aux acteurs nouveaux d\\'influence dans les organisations internationales ou aux outils de criblage de l\\'information stratégique sont autant de pistes à emprunter. Je serais heureux que mon département du Tarn, et notamment le bassin industriel de Castres- Mazamet, soit le théâtre d\\'une expérimentation technologique de haut niveau, destinée en particulier à nos industries pharmaceutique et textile. Ce bassin industriel, retenu par le Premier ministre pour un \" contrat de site \" est en mesure de s\\'inscrire dans cette nouvelle politique publique. Les acteurs locaux et nationaux y sont prêts. Nous attendons, Monsieur le ministre, votre soutien qui ne peut être qu\\'enthousiaste.', ']]>', '</TEXTE>', '</DOCUMENT>', '<DOCUMENT id=\"4:17282\">', '<EVALUATION nombre=\"1\">', '<NOTE valeur=\"0\" confiance=\"1.00\" />', '</EVALUATION>', '<TEXTE>', '<![CDATA[', \"Le Gouvernement s'est engagé à rétablir l'ordre <partiPolitique />. Dans ce projet de loi de finances, vous avez donc tenu, Monsieur le ministre, à engager la troisième tranche de la LOPSI malgré un contexte budgétaire délicat. J'apprécie cette persévérance tout comme les 9 millions d'euros destinés à la création de 1000 emplois, dont 490 seront occupés par des gardiens de la paix. Des moyens pour le fonctionnement des services de police sont également dégagés. Par ailleurs, la réforme des corps et carrières est un gage d'efficacité : après avoir insufflé un nouvel esprit à la police nationale, il devenait nécessaire d'établir une relation directe entre rémunération et responsabilités. Je me réjouis de cette continuité, dont les effets bénéfiques se sont rapidement fait sentir. En 2003, le taux de criminalité et de délinquance a diminué de 3,38 %. Le taux d'élucidation sur l'ensemble du territoire est maintenant supérieur à 25 %. En Provence-Alpes Côte d'Azur, la criminalité a diminué de 4 %. Dans les Alpes-Maritimes, la baisse est estimée à 3,45%. Ces succès suscitent beaucoup d'espoir chez nos concitoyens mais n'en demeurent pas moins fragiles. Restaurer l'autorité de l'Etat est un objectif ambitieux qui exige des moyens. Si 68 % des crédits de la LOPSI sont désormais ouverts, le budget de la police nationale n'augmente que de 2 %, contre 5 % en 2004. Face aux bouleversements démographiques qui s'annoncent, nous reconnaissons tous l'urgence d'un redéploiement des policiers : les Français sont trop inégalement protégés. La répartition doit s'opérer en fonction de la géographie de la criminalité et des besoins spécifiques des quartiers difficiles. Cette mesure, qui est déjà partiellement entrée en vigueur, touchera 1 756 000 de nos concitoyens et se traduira en 2005 par la fermeture de sept commissariats. M. le rapporteur pour avis l'a souligné, les moyens dégagés ne suffiront pas à couvrir les besoins des personnes nouvellement protégées. Je m'interroge sur le sort de l'agglomération niçoise. Comment les effectifs policiers seront-ils affectés ? Certes, selon le ministère, nous disposons d'un fonctionnaire de police pour 376 habitants, chiffre légèrement supérieur à la moyenne française et aux circonscriptions de même importance. En revanche, l'évolution de notre population et la spécificité de notre cité ne sont pas prises en compte. Cinquième ville de France, Nice attire de plus en plus de Français et de touristes, mais aussi de congrès et de manifestations internationales. Pourtant, nos effectifs de police ne suivent pas ces variations. En 1950, Nice comptait 240 000 habitants et 1 100 policiers, qui travaillaient 45 heures hebdomadaires ; en 2004, elle compte 400 000 habitants pour 919 policiers dont le nombre d'heures travaillées a naturellement diminué. Il y a donc beaucoup moins de fonctionnaires de police par habitant, alors même que la délinquance a considérablement augmenté et que des zones urbaines sensibles ont émergé. Le projet de loi de finances ne donne aucune garantie quant au respect de la spécificité locale dans le traitement de la délinquance. Si des progrès ont été accomplis, le sentiment d'insécurité demeure. Malgré une baisse de la délinquance de 6 %, la ville est loin d'être une cité tranquille. Au mois de mai, son coeur historique a été le théâtre d'affrontements entre bandes rivales. Les délits associés aux stupéfiants ont augmenté de 5 %, et les vols avec violence de 7 %. Ne devrait-on pas évaluer la LOPSI pour examiner les points qui ont moins réussi ? Je pense en particulier aux problèmes liés à la lutte contre la prostitution, car, au-delà du dispositif légal, il semble que les moyens ne permettent pas d'atteindre les résultats escomptés.\", ']]>', '</TEXTE>', '</DOCUMENT>', '<DOCUMENT id=\"4:17283\">', '<EVALUATION nombre=\"1\">', '<NOTE valeur=\"0\" confiance=\"1.00\" />', '</EVALUATION>', '<TEXTE>', '<![CDATA[', \"Par ailleurs, nous enregistrons un taux d'élucidation des délits particulièrement bas - 19 % seulement. Peu lisible, votre projet de redéploiement est souvent perçu comme angoissant. Les personnes qui sont régulièrement victimes d'incivilités s'inquiètent de voir un service de proximité quitter leur quartier, et la peur de voir à nouveau s'installer le désordre réapparaît. Comment expliquer à la population que votre projet ne se soldera pas par un abandon de l'Etat et des suppressions de postes ? Concrètement, pour Nice, le maintien et le renforcement des effectifs de proximité seront-ils assurés, de jour comme de nuit ainsi que les week-ends ?\", ']]>', '</TEXTE>', '</DOCUMENT>', '<DOCUMENT id=\"4:17284\">', '<EVALUATION nombre=\"1\">', '<NOTE valeur=\"0\" confiance=\"1.00\" />', '</EVALUATION>', '<TEXTE>', '<![CDATA[', 'C\\'est pour rassurer la population - mais aussi les élus - que je vous demande des garanties sur l\\'application de vos orientations budgétaires au niveau local. Créer 1000 emplois est un projet valable. Mais nous devons savoir où ils seront affectés. L\\'année dernière, j\\'avais proposé de créer des \" zones d\\'affectation prioritaire \" de policiers. Cette hypothèse mérite sans doute d\\'être réétudiée par vos services. Des mesures incitatives devraient aussi être prévues pour les fonctionnaires acceptant de travailler dans les zones les plus difficiles. Par ailleurs, si je me félicite de votre politique d\\'aide au logement en Ile-de-France, j\\'espère que l\\'agglomération niçoise en profitera enfin ! En effet, le niveau des loyers et le classement de la ville en zone d\\'indemnité de résidence réduite découragent beaucoup de fonctionnaires de rejoindre notre agglomération. Enfin, les élus attendent avec impatience la parution des décrets d\\'application de la loi sur la maîtrise de l\\'immigration, car leur retard pose nombre de problèmes sur le terrain, notamment pour ce qui concerne les certificats d\\'hébergement. La sécurité est une préoccupation essentielle de nos concitoyens. L\\'espoir renaît peu à peu. Ne trahissons pas la confiance qui est en train de s\\'installer, et assurons-nous que vos orientations auront une traduction concrète.', ']]>', '</TEXTE>', '</DOCUMENT>', '<DOCUMENT id=\"4:17285\">', '<EVALUATION nombre=\"1\">', '<NOTE valeur=\"1\" confiance=\"1.00\" />', '</EVALUATION>', '<TEXTE>', '<![CDATA[', \"J'ai reçu de M. le Président du Conseil constitutionnel une lettre m'informant qu'en application de l'article 54 de la Constitution, M. le Président de la République a saisi le Conseil constitutionnel, le 29 octobre 2004, du traité établissant une Constitution pour l'Europe, signé par la France le même jour.\", ']]>', '</TEXTE>', '</DOCUMENT>', '<DOCUMENT id=\"4:17286\">', '<EVALUATION nombre=\"1\">', '<NOTE valeur=\"1\" confiance=\"1.00\" />', '</EVALUATION>', '<TEXTE>', '<![CDATA[', \"J'ai reçu de M. le Premier ministre une lettre soumettant à l'approbation de l'Assemblée nationale le texte de la commission mixte paritaire sur les dispositions restant en discussion du projet de loi de financement de la sécurité sociale pour 2005. En conséquence, la discussion du texte de la commission mixte paritaire.\", ']]>', '</TEXTE>', '</DOCUMENT>', '<DOCUMENT id=\"4:17287\">', '<EVALUATION nombre=\"1\">', '<NOTE valeur=\"1\" confiance=\"1.00\" />', '</EVALUATION>', '<TEXTE>', '<![CDATA[', \"Quelques mois après la réforme de l'assurance maladie, nous voici réunis pour adopter le texte de la commission mixte paritaire sur le projet de loi de financement de la sécurité sociale pour 2005. Alors que le projet de loi initial comportait 35 articles, le Sénat a été saisi, après l'adoption du texte en première lecture par notre assemblée le 2 novembre, de 50 articles. Il a adopté conformes 29 articles, en a supprimé 3 et en a ajouté 19. La commission mixte paritaire a donc examiné les 40 articles restant en discussion. Elle est parvenue à un accord sur ce texte, qui sera soumis cet après-midi à l'approbation du Sénat. Les principales modifications apportées au projet de loi adopté par le Sénat sont les suivantes. Au titre premier bis, relatif au contrôle de l'application des lois de financement de la sécurité sociale, la commission mixte paritaire a précisé, à mon initiative, que le rapport prévu à l'article premier ter doit également retracer l'évolution des mesures d'exonération non compensées par l'Etat parce qu'antérieures à 1994 ou à 2004. Au titre II, relatif aux ressources, la commission mixte paritaire n'a pas jugé opportun de maintenir les dispositions introduites par le Sénat à l'article 5 bis A. Outre qu'elle ne relève pas du financement de la sécurité sociale, l'extension du très spécifique contrat vendanges, dispositif dont nous reconnaissons tous les qualités, à l'ensemble des activités de récolte a semblé insuffisamment précise. Nous n'en sommes pas moins attachés à une évolution dans ce domaine si important pour la France rurale. Au titre III, relatif à l'assurance maladie, le Sénat avait introduit un article 6A nouveau qui prévoyait une identification individuelle des médecins hospitaliers. C'est une bonne chose, surtout au regard du montant des dépenses de médecine de ville trouvant leur origine dans une prescription hospitalière. Les membres de la CMP se sont néanmoins accordés pour juger le dispositif excessivement contraignant et préciser qu'un décret mentionnera les documents transmis à l'assurance maladie sur lesquels ce numéro devra figurer obligatoirement. Le Gouvernement propose aujourd'hui un amendement rédactionnel. A l'article 6, relatif aux conditions d'application de la tarification à l'activité, la CMP a adopté un des amendements de l'Assemblée, qui prévoit une étape intermédiaire dans le processus de convergence des tarifs applicables aux établissements publics et privés. L'objectif de convergence des tarifs devra être atteint à 50 % en 2008 : cette disposition incitera les établissements à accomplir les efforts d'adaptation nécessaires. L'article 12 prévoit l'affiliation des enseignants et des documentalistes des établissements privés sous contrat au régime d'assurance maladie des fonctionnaires. Au terme d'un débat nourri, la commission mixte paritaire a supprimé, à l'initiative de M. <hommePolitique />, les dispositions introduites par le Sénat, afin de maintenir pour l'Etat les règles de cotisations patronales actuellement en vigueur. S'il est en effet essentiel que la sécurité sociale ne soit pas lésée financièrement par cet article, la commission mixte paritaire a pris acte de l'engagement du Gouvernement en faveur d'une compensation, mais dans le cadre plus général de la réforme du statut et des retraites des enseignants privés. Le Sénat a souhaité que les femmes dont la grossesse pathologique est liée à l'exposition au distilbène bénéficient, à titre dérogatoire, d'un congé de maternité à compter du premier jour de leur arrêt de travail - article 12 bis. Il est cependant apparu nécessaire d'encadrer davantage ces dispositions, en prévoyant qu'un décret en Conseil d'Etat en définisse les conditions d'application. La commission mixte paritaire a, à juste titre, maintenu le rétablissement par le Sénat de l'article 14 concernant la dotation de l'ONIAM, que notre assemblée avait supprimé en première lecture malgré l'avis défavorable de M. <hommePolitique />, rapporteur pour l'assurance maladie et les accidents du travail. Par l'article 18 bis, le Sénat demandait au Gouvernement de favoriser la création de maisons médicales de garde dans les zones rurales et les zones urbaines sensibles. La CMP a supprimé cette mesure plus incantatoire qu'efficace et dont l'objectif paraît satisfait par le projet de loi relatif aux territoires ruraux. En revanche, elle a rétabli les dispositions introduites à l'Assemblée à l'initiative de Mme <hommePolitique /> concernant la durée du congé de maternité en cas de prématurité de l'enfant, en les transférant à l'article 18 ter car elles relèvent plutôt de l'assurance maladie. L'article premier septies du projet de loi pour l'égalité des droits et des chances créait aussi ce dispositif en le réservant aux mères des nouveaux-nés hospitalisés en raison de leur prématurité. Il est ainsi étendu et entrera plus vite en vigueur. S'agissant des politiques de sécurité sociale relevant du titre IV, en particulier la branche vieillesse, n'a été supprimé que l'article 28 A concernant le rapport sur les retraites des praticiens hospitalo-universitaires, dans la mesure où la loi d'août 2003 sur les retraites permet déjà de tenir compte d'éléments de rémunération de ces catégories jusque là exclus du calcul des pensions. Au titre V, la CMP a rétabli le dispositif d'alerte démocratique sur l'évolution des dépenses de sécurité sociale introduit à mon initiative à l'article 34 bis. Il s'agit d'assurer une meilleure information du Parlement. Je vous demande d'adopter le projet dans le texte de la CMP modifié par les amendements que présentera le Gouvernement. Je salue le travail de qualité mené à l'Assemblée par les rapporteurs qui avaient chacun leur propre conception de la sécurité sociale mais ont su mener un travail d'équipe, ainsi que par leurs collaborateurs et ceux du Gouvernement. Nous souhaitons tous que la réforme annoncée de l'organisation des lois de financement de la sécurité sociale permette de renforcer le rôle du Parlement pour que leur examen permette de véritables choix.\", ']]>', '</TEXTE>', '</DOCUMENT>', '<DOCUMENT id=\"4:17288\">', '<EVALUATION nombre=\"1\">', '<NOTE valeur=\"1\" confiance=\"1.00\" />', '</EVALUATION>', '<TEXTE>', '<![CDATA[', \"Le texte sur lequel la CMP s'est accordée le 24 novembre dernier, et qui malheureusement n'a été accessible aux députés que le 30, préserve les apports de notre assemblée, qui ont été variés et dont je ne citerai que quelques exemples. Préoccupés par les pensions des exploitants agricoles, nous avons, à l'initiative du rapporteur <hommePolitique />, demandé au Gouvernement de présenter des perspectives d'avenir d'ici au 31 mars 2005 pour le fonds qui assure le financement des prestations sociales des exploitants, le FFIPSA. A l'initiative de notre actuel président de séance, nous avons renforcé les procédures à la disposition des caisses d'assurance maladie, en particulier pour la récupération des indus. A l'initiative de <hommePolitique />, lui aussi rapporteur, nous avons pris acte du report de l'application de la tarification à l'activité dans l'hospitalisation privée. Nous avons souligné l'importance de cette réforme qui, en répartissant de façon plus juste les ressources entre les établissements, prendra mieux en compte la situation de ceux dont l'activité augmente. Parallèlement, nous avons affirmé notre attachement à ce que, dans le cadre du plan Hôpital 2007, soit enfin entreprise la réforme de l'organisation interne des hôpitaux, sachant que les dépenses hospitalières représentent près de la moitié des dépenses remboursées par l'assurance maladie. La réussite de la réforme de l'assurance maladie passe par un véritable effort dans ce domaine, et nous serons donc particulièrement attentifs au projet d'ordonnance qui est actuellement discuté avec les représentants du secteur hospitalier.\", ']]>', '</TEXTE>', '</DOCUMENT>', '<DOCUMENT id=\"4:17289\">', '<EVALUATION nombre=\"1\">', '<NOTE valeur=\"1\" confiance=\"1.00\" />', '</EVALUATION>', '<TEXTE>', '<![CDATA[', \"Sous l'égide du Président <hommePolitique />, nous avons insisté sur le nécessaire renforcement des moyens destinés à l'évaluation des pratiques professionnelles, à propos de la dotation du fonds pour l'amélioration de la qualité des soins de ville, dont la durée de vie a été prolongée jusqu'au 31 décembre 2007. Là encore, nous serons particulièrement intéressés par les résultats de la mission confiée à l'IGAS.\", ']]>', '</TEXTE>', '</DOCUMENT>', '<DOCUMENT id=\"4:17290\">', '<EVALUATION nombre=\"1\">', '<NOTE valeur=\"1\" confiance=\"1.00\" />', '</EVALUATION>', '<TEXTE>', '<![CDATA[', \"A l'initiative de <hommePolitique /> et <hommePolitique />, l'Assemblée a étendu la durée du congé de maternité en cas de naissance prématurée, la France en ayant enregistré 55 000 en 2003. Outre les apports de l'Assemblée et ceux du Sénat, même si je regrette l'article 13 bis qui y a été ajouté à la sauvette par un amendement du Gouvernement,...\", ']]>', '</TEXTE>', '</DOCUMENT>', '<DOCUMENT id=\"4:17291\">', '<EVALUATION nombre=\"1\">', '<NOTE valeur=\"1\" confiance=\"1.00\" />', '</EVALUATION>', '<TEXTE>', '<![CDATA[', \"...je tiens à saluer le travail et le savoir-faire de <hommePolitique /> et de <hommePolitique /> qui, entre le dépôt du projet et l'examen du texte final, ont réglé deux dossiers difficiles. Monsieur le ministre, vous nous aviez annoncé en première lecture que le Gouvernement réviserait le décret sur les pensions de réversion. C'est chose faite, et bien faite. Concernant l'intégration du régime spécial de retraite des industries électro-gazières dans le régime général, opération hautement complexe, les négociations ont abouti à une solution satisfaisante, inscrite dans ce texte, avec un relèvement substantiel du montant de la soulte, auquel s'ajoute la prise en charge des avantages familiaux.\", ']]>', '</TEXTE>', '</DOCUMENT>', '<DOCUMENT id=\"4:17292\">', '<EVALUATION nombre=\"1\">', '<NOTE valeur=\"1\" confiance=\"1.00\" />', '</EVALUATION>', '<TEXTE>', '<![CDATA[', 'Reste l\\'essentiel, à savoir l\\'ONDAM 2005. Il est, certes, \" serré \", mais nullement irréaliste : +2,1 % pour les soins de ville, ou +3,1% à périmètre constant, c\\'est-à-dire en intégrant la contribution forfaitaire de 1 euro ; +3,6 % pour les soins hospitaliers ; +5,4 % pour les dépenses en faveur des personnes handicapées ; + 11,4 % pour les dépenses en faveur des personnes âgées.', ']]>', '</TEXTE>', '</DOCUMENT>', '<DOCUMENT id=\"4:17293\">', '<EVALUATION nombre=\"1\">', '<NOTE valeur=\"1\" confiance=\"1.00\" />', '</EVALUATION>', '<TEXTE>', '<![CDATA[', \"La majorité <partiPolitique /> avait voté un ONDAM de 2,3 % en 1998, de 2,6 % en 1999 et de 2,5 % en 2000. Alors, ne nous donnez pas de leçons ! Pour le quatrième mois consécutif, la progression des dépenses d'assurance maladie s'est ralentie. La progression des soins de ville ne sera que de 4,9 % en 2004, après trois années d'évolution supérieure à 7 %. La hausse des dépenses d'honoraires médicaux, sur les neuf premiers mois de l'année, est limitée à 2,5 %, un rythme presque trois fois moindre qu'en 2002 et 2003. La progression des indemnités journalières versées par le régime général, qui avaient augmenté de 40 % entre 1999 et 2003, a été de 1,8% fin juillet, 0,6 % fin août et nulle fin septembre. Progressivement donc, les comportements se modifient, preuve que la hausse des dépenses d'assurance maladie n'est pas une fatalité, en dépit des rengaines sur l'échec inévitable de la réforme. C'est pourquoi, Monsieur le ministre, vous pouvez compter sur le soutien des députés du groupe <partiPolitique /> sur ce texte.\", ']]>', '</TEXTE>', '</DOCUMENT>', '<DOCUMENT id=\"4:17294\">', '<EVALUATION nombre=\"1\">', '<NOTE valeur=\"0\" confiance=\"1.00\" />', '</EVALUATION>', '<TEXTE>', '<![CDATA[', 'Je n\\'insisterai pas sur le fait que les prévisions de dépenses et de recettes qui fondent ce PLFSS semblent quelque peu manquer de crédibilité. Quels qu\\'aient été les dépassements de l\\'ONDAM ces dernières années, la nouveauté est que la loi votée cet été donne mandat au proconsul pour opérer des déremboursements : désormais donc, les erreurs de prévision auront des conséquences non plus seulement sur les finances publiques, mais également sur le niveau de remboursement des assurés. On nous a expliqué cet été qu\\'il n\\'y avait pas de différence à faire entre les dépenses de l\\'Etat et celles de l\\'assurance maladie, les unes et les autres étant des dépenses publiques, et qu\\'on pouvait transférer massivement des dépenses sociales sur les générations futures. En réalité, on est en train de diminuer la capacité de ces générations à assurer leur politique sociale. Notre collègue <hommePolitique /> a souligné à juste titre la situation incroyable dans laquelle se trouve le FFIPSA, mais on pourrait parler aussi de la CNRACL, ou du désengagement de l\\'Etat de divers fonds. Et en dépit des engagements qui avaient été pris, hier soir,dans le débat sur le projet de loi de cohésion sociale, il a été spécifié que les exonérations de charges sur les \" contrats d\\'avenir \" ne seraient pas remboursées... Autre défaut de ce PLFSS : son manque de lisibilité. Nous avons vu se multiplier les annonces de \" plans \" - maladies rares, Alzheimer, périnatalité..., sans que les dépenses correspondantes soient \" fléchées \" : le financement n\\'est pas prévu et la réalité nous procurera bien des motifs de déception. Comme <hommePolitique />, je m\\'étonne de la façon cavalière dont le Sénat a introduit l\\'article 13 bis relatif aux conventions médicales. Il y a là matière à saisir le Conseil constitutionnel, car cette disposition a des conséquences juridiques sur le mode de contrôle parlementaire, et aussi des conséquences sociales importantes. J\\'ai appris, Monsieur <hommePolitique />, qu\\'un amendement de M. <hommePolitique /> avait conduit à accorder des exonérations de charges pour les activités de vendange. De la part d\\'un tel parlementaire, qui se veut homme de rigueur, je ne m\\'y attendais pas. Tout naturellement, certains collègues ont voulu étendre cette mesure à la cueillette des fruits et légumes. De fait, ce qui me paraît normal pour un secteur concourant à la santé publique me laisse dubitatif s\\'agissant des vendanges. Ainsi, l\\'assurance maladie devrait financer la viticulture et non pas la production de fruits et légumes que nous essayons de rendre plus attrayants et moins chers ? Nous aurons à revenir sur cette contradiction. En conclusion, notre groupe votera contre le PLFSS.', ']]>', '</TEXTE>', '</DOCUMENT>', '<DOCUMENT id=\"4:17295\">', '<EVALUATION nombre=\"1\">', '<NOTE valeur=\"0\" confiance=\"1.00\" />', '</EVALUATION>', '<TEXTE>', '<![CDATA[', \"Dans ce texte presque en tous points conforme au projet initial du Gouvernement, nous constatons que les chiffres de l'ONDAM n'ont pas varié, soit qu'ils fussent excellents, soit que le pouvoir du Parlement soit bien mince. Nous sommes donc appelés à nous prononcer sur la somme considérable de 365 milliards, dont près de 135 correspondent aux dépenses d'assurance maladie. D'ores et déjà, nous pouvons affirmer que le déficit de 2005 sera supérieur à vos prévisions, puisque les recettes ont été calculées sur la base d'un taux de croissance de 2,5 % et d'une augmentation de 4 % de la masse salariale. Bien entendu, nous espérons que la croissance repartira mais les prévisions des économistes sont moins optimistes que les vôtres. Vous retenez un ONDAM en progression de 2,9 % par rapport au niveau effectivement atteint en 2004. Or, cet objectif, calculé de façon pifométrique, a peu de chances d'être tenu, puisque l'ONDAM augmente habituellement de 4 % à 6 %. Surtout, vous avez fixé des économies de dépenses qui ne se réaliseront vraisemblablement pas. Comment obtenir un milliard d'économies par la maîtrise médicalisée, alors que le dossier médical personnel n'est pas près d'entrer en application ? Vous espérez 700 millions d'économies dans le secteur du médicament grâce aux génériques. Mais de nouveaux médicaments seront, nous le souhaitons, mis sur le marché. Dans ce secteur, une croissance nulle de la dépense serait déjà un exploit. Les 200 millions attendus de la négociation et du groupement des achats hospitaliers sont hors d'atteinte. Chacun connaît en effet les difficultés que rencontrent les hôpitaux. Pour que la TAA s'applique sur des bases saines, vous accordez 300 millions supplémentaires aux établissements, mais il en faudrait 776 selon leurs estimations. La prise en charge des médicaments onéreux semble ne devoir être que partielle, et l'apport financier attendu de la TAA risque bien d'être insuffisant. Alors que, pensons-nous, les économies ne seront pas au rendez-vous, des engagements de dépenses sont programmés. Même si l'entrée en vigueur de la TAA dans les établissements privés a été repoussée d'octobre 2004 à mars 2005, la revalorisation des astreintes chirurgicales libérales que vous avez décidées entraînera nécessairement celle des astreintes en médecine de ville et à l'hôpital. Enfin, il serait surprenant que la nouvelle convention actuellement en discussion avec les syndicats soit conclue sans revalorisation significative. Tout cela sans parler des plans que vous avez annoncés sans y affecter les financements correspondants. Dans ces conditions, on ne voit pas bien comment l'ONDAM pourrait être respecté. Or, il existe dorénavant un comité d'alerte qui, en cas de dépassement supérieur à 0,75 %, doit demander au Gouvernement, au Parlement et aux caisses de prendre dans un délai d'un mois les mesures de correction nécessaires, qui seront bien évidemment comptables. Sous-évaluer l'ONDAM risque donc de conduire à une maîtrise comptable refusée par tous les professionnels. Après avoir rejeté sur les générations futures le poids du déficit, il conviendrait au moins de ne pas aggraver ce dernier. Vous appelez les Français à changer de comportements, tout en leur imposant une hausse de la CSG et du forfait hospitalier, le versement d'un euro par acte et une hausse de 10 % des assurances complémentaires. Or, nous pensons, nous, que nous ne réussirons la maîtrise médicalisée qu'en responsabilisant tous les acteurs et en les associant à la gestion du système. Il y a beaucoup à faire aujourd'hui pour améliorer la qualité des soins, dans le domaine de la prévention, de la formation, de la démographie médicale, des urgences... Monsieur le ministre, je vous souhaite bon courage pour mettre en oeuvre et réussir votre réforme ! Sur les retraites, le groupe <partiPolitique /> avait soulevé la question du pouvoir d'achat des retraités, qui ne pourra pas être maintenu en raison de l'inflation et de la hausse de 0,4 % de la CSG le 1 er janvier prochain. De même, la retraite des enseignants du privé ne sera pas alignée avant longtemps sur celle du public. Pourtant, cotisation égale devrait valoir prestation égale. Surtout, le problème des régimes spéciaux d'EDF-GDF n'est pas réglé. Nous avions demandé leur mise en extinction, mais vous avez refusé cette mesure d'équité. Pour pouvoir augmenter le capital d'EDF, vous proposez d'adosser son régime de retraite au régime général. La soulte pour le régime de base a été fixée à 9 milliards, payée pour partie par la CSG au titre du FSV et par une taxe acquittée par le consommateur. La soulte pour les régimes complémentaires, dont personne ne parle, vient d'être estimée, comme nous l'avions annoncé, à plus de 9 milliards : qui va payer ? Le financement du régime chapeau, soit environ 15 milliards, sera probablement assuré par recapitalisation par l'Etat, donc par le contribuable. Monsieur le ministre, le texte issu de la CMP étant pratiquement inchangé, le déficit sera très certainement supérieur à celui que vous annoncez. De plus, de nombreux problèmes demeurent sans solution. C'est pourquoi, comme en première lecture, le groupe <partiPolitique /> ne votera pas ce projet.\", ']]>', '</TEXTE>', '</DOCUMENT>', '<DOCUMENT id=\"4:17296\">', '<EVALUATION nombre=\"1\">', '<NOTE valeur=\"0\" confiance=\"1.00\" />', '</EVALUATION>', '<TEXTE>', '<![CDATA[', \"Nous avions raison de vouloir examiner de plus près cet amendement, car il se confirme que nous ne pouvons en faire la même lecture que le Gouvernement. Celui-ci renvoie en effet à un décret et, en supprimant le deuxième alinéa, il se donne pour cela la plus grande latitude. Disparaît en effet l'obligation de traçabilité des prescriptions introduite par le Sénat ! On peut débattre sur la finalité de cette traçabilité : s'agira-t-il d'évaluer la qualité des prescriptions posées à l'hôpital ou plutôt de mieux maîtriser la dépense ? En tout état de cause, si l'on fait sien le premier objectif et parce que la prescription est organisée de façon spécifique à l'hôpital, la disposition votée au Sénat est utile. Elle pouvait toutefois apparaître brutale, faute de concertation : les praticiens hospitaliers risquent de la ressentir comme une mesure de contrôle tatillon et inéquitable. Mais le Gouvernement est comme d'habitude plus soucieux de contourner les difficultés que de les résoudre...\", ']]>', '</TEXTE>', '</DOCUMENT>', '<DOCUMENT id=\"4:17297\">', '<EVALUATION nombre=\"1\">', '<NOTE valeur=\"1\" confiance=\"1.00\" />', '</EVALUATION>', '<TEXTE>', '<![CDATA[', \"Soyez rassurée, Madame <hommePolitique /> : nous sommes tous d'accord pour dire que les prescriptions des médecins hospitaliers doivent, comme celles des médecins libéraux, se conformer à des référentiels. Nous savons également que ces prescriptions en engagent d'autres, grossissant d'environ 20 % l'enveloppe des soins de ville. La traçabilité s'impose par conséquent et c'est pourquoi le Sénat, suivi en cela par la CMP, avait prévu une procédure d'identification des praticiens prescripteurs. Mais, en supprimant le deuxième alinéa, le Gouvernement ne fait qu'améliorer la cohérence du texte, sans aucune arrière-pensée !\", ']]>', '</TEXTE>', '</DOCUMENT>', '<DOCUMENT id=\"4:17298\">', '<EVALUATION nombre=\"1\">', '<NOTE valeur=\"0\" confiance=\"1.00\" />', '</EVALUATION>', '<TEXTE>', '<![CDATA[', \"Toujours dans le cadre des CIE, l'amendement 591 vise à compléter les différents aspects de modulation de l'aide liée à la qualité des efforts de l'employeur qui doivent être pris en compte : accompagnement, orientation, formation professionnelle et préparation à la validation des acquis de l'expérience.\", ']]>', '</TEXTE>', '</DOCUMENT>', '<DOCUMENT id=\"4:17299\">', '<EVALUATION nombre=\"1\">', '<NOTE valeur=\"1\" confiance=\"1.00\" />', '</EVALUATION>', '<TEXTE>', '<![CDATA[', \"Avis défavorable. Outre que le délai de six mois est traditionnellement retenu par les textes, son allongement réduirait la latitude des employeurs potentiels. J'ajoute qu'une enquête établie en 2003 a montré que 74 % des personnes en CIE, trois ans après la signature de leur contrat, occupaient un emploi non aidé contre 38 % seulement des ex-bénéficiaires d'un CES.\", ']]>', '</TEXTE>', '</DOCUMENT>', '</CORPUS>']\n"
     ]
    }
   ],
   "source": [
    "print(lines[-500:])"
   ]
  },
  {
   "cell_type": "markdown",
   "metadata": {},
   "source": [
    "# Exploration \n",
    "\n",
    "Essayons avec http://www.austintaylor.io/lxml/python/pandas/xml/dataframe/2016/07/08/convert-xml-to-pandas-dataframe/\n",
    "\n",
    "\n",
    "(Echec, utilisons simplement xml.etree.Elementree et faisons les choses nous même)"
   ]
  },
  {
   "cell_type": "code",
   "execution_count": 61,
   "metadata": {},
   "outputs": [],
   "source": [
    "import xml.etree.ElementTree as ET\n",
    "import pandas as pd\n",
    "\n",
    "import warnings; warnings.simplefilter('ignore')"
   ]
  },
  {
   "cell_type": "code",
   "execution_count": 36,
   "metadata": {},
   "outputs": [],
   "source": [
    "xml = ET.XML(' '.join(lines))"
   ]
  },
  {
   "cell_type": "code",
   "execution_count": 62,
   "metadata": {},
   "outputs": [
    {
     "data": {
      "text/plain": [
       "[<Element 'DESCRIPTION' at 0x7f1837b355e8>,\n",
       " <Element 'DOCUMENT' at 0x7f1837b35b88>,\n",
       " <Element 'DOCUMENT' at 0x7f1837b35cc8>,\n",
       " <Element 'DOCUMENT' at 0x7f1837b35e08>,\n",
       " <Element 'DOCUMENT' at 0x7f1837b35f48>,\n",
       " <Element 'DOCUMENT' at 0x7f183c2040e8>,\n",
       " <Element 'DOCUMENT' at 0x7f183c204228>,\n",
       " <Element 'DOCUMENT' at 0x7f183c204368>,\n",
       " <Element 'DOCUMENT' at 0x7f183c2044a8>,\n",
       " <Element 'DOCUMENT' at 0x7f183c2045e8>,\n",
       " <Element 'DOCUMENT' at 0x7f183c204728>,\n",
       " <Element 'DOCUMENT' at 0x7f183c204868>,\n",
       " <Element 'DOCUMENT' at 0x7f183c2049a8>,\n",
       " <Element 'DOCUMENT' at 0x7f183c204ae8>,\n",
       " <Element 'DOCUMENT' at 0x7f183c204c28>,\n",
       " <Element 'DOCUMENT' at 0x7f183c204d68>,\n",
       " <Element 'DOCUMENT' at 0x7f183c204ea8>,\n",
       " <Element 'DOCUMENT' at 0x7f183c206048>,\n",
       " <Element 'DOCUMENT' at 0x7f183c206188>,\n",
       " <Element 'DOCUMENT' at 0x7f183c2062c8>,\n",
       " <Element 'DOCUMENT' at 0x7f183c206408>,\n",
       " <Element 'DOCUMENT' at 0x7f183c206548>,\n",
       " <Element 'DOCUMENT' at 0x7f183c206688>,\n",
       " <Element 'DOCUMENT' at 0x7f183c2067c8>,\n",
       " <Element 'DOCUMENT' at 0x7f183c206908>,\n",
       " <Element 'DOCUMENT' at 0x7f183c206a48>,\n",
       " <Element 'DOCUMENT' at 0x7f183c206b88>,\n",
       " <Element 'DOCUMENT' at 0x7f183c206cc8>,\n",
       " <Element 'DOCUMENT' at 0x7f183c206e08>,\n",
       " <Element 'DOCUMENT' at 0x7f183c206f48>,\n",
       " <Element 'DOCUMENT' at 0x7f183c2090e8>,\n",
       " <Element 'DOCUMENT' at 0x7f183c209228>,\n",
       " <Element 'DOCUMENT' at 0x7f183c209368>,\n",
       " <Element 'DOCUMENT' at 0x7f183c2094a8>,\n",
       " <Element 'DOCUMENT' at 0x7f183c2095e8>,\n",
       " <Element 'DOCUMENT' at 0x7f183c209728>,\n",
       " <Element 'DOCUMENT' at 0x7f183c209868>,\n",
       " <Element 'DOCUMENT' at 0x7f183c2099a8>,\n",
       " <Element 'DOCUMENT' at 0x7f183c209ae8>,\n",
       " <Element 'DOCUMENT' at 0x7f183c209c28>,\n",
       " <Element 'DOCUMENT' at 0x7f183c209d68>,\n",
       " <Element 'DOCUMENT' at 0x7f183c209ea8>,\n",
       " <Element 'DOCUMENT' at 0x7f183c20d048>,\n",
       " <Element 'DOCUMENT' at 0x7f183c20d188>,\n",
       " <Element 'DOCUMENT' at 0x7f183c20d2c8>,\n",
       " <Element 'DOCUMENT' at 0x7f183c20d408>,\n",
       " <Element 'DOCUMENT' at 0x7f183c20d548>,\n",
       " <Element 'DOCUMENT' at 0x7f183c20d688>,\n",
       " <Element 'DOCUMENT' at 0x7f183c20d7c8>,\n",
       " <Element 'DOCUMENT' at 0x7f183c20d908>,\n",
       " <Element 'DOCUMENT' at 0x7f183c20da48>,\n",
       " <Element 'DOCUMENT' at 0x7f183c20db88>,\n",
       " <Element 'DOCUMENT' at 0x7f183c20dcc8>,\n",
       " <Element 'DOCUMENT' at 0x7f183c20de08>,\n",
       " <Element 'DOCUMENT' at 0x7f183c20df48>,\n",
       " <Element 'DOCUMENT' at 0x7f183c2110e8>,\n",
       " <Element 'DOCUMENT' at 0x7f183c211228>,\n",
       " <Element 'DOCUMENT' at 0x7f183c211368>,\n",
       " <Element 'DOCUMENT' at 0x7f183c2114a8>,\n",
       " <Element 'DOCUMENT' at 0x7f183c2115e8>,\n",
       " <Element 'DOCUMENT' at 0x7f183c211728>,\n",
       " <Element 'DOCUMENT' at 0x7f183c211868>,\n",
       " <Element 'DOCUMENT' at 0x7f183c2119a8>,\n",
       " <Element 'DOCUMENT' at 0x7f183c211ae8>,\n",
       " <Element 'DOCUMENT' at 0x7f183c211c28>,\n",
       " <Element 'DOCUMENT' at 0x7f183c211d68>,\n",
       " <Element 'DOCUMENT' at 0x7f183c211ea8>,\n",
       " <Element 'DOCUMENT' at 0x7f183c216048>,\n",
       " <Element 'DOCUMENT' at 0x7f183c216188>,\n",
       " <Element 'DOCUMENT' at 0x7f183c2162c8>,\n",
       " <Element 'DOCUMENT' at 0x7f183c216408>,\n",
       " <Element 'DOCUMENT' at 0x7f183c216548>,\n",
       " <Element 'DOCUMENT' at 0x7f183c216688>,\n",
       " <Element 'DOCUMENT' at 0x7f183c2167c8>,\n",
       " <Element 'DOCUMENT' at 0x7f183c216908>,\n",
       " <Element 'DOCUMENT' at 0x7f183c216a48>,\n",
       " <Element 'DOCUMENT' at 0x7f183c216b88>,\n",
       " <Element 'DOCUMENT' at 0x7f183c216cc8>,\n",
       " <Element 'DOCUMENT' at 0x7f183c216e08>,\n",
       " <Element 'DOCUMENT' at 0x7f183c216f48>,\n",
       " <Element 'DOCUMENT' at 0x7f183c2190e8>,\n",
       " <Element 'DOCUMENT' at 0x7f183c219228>,\n",
       " <Element 'DOCUMENT' at 0x7f183c219368>,\n",
       " <Element 'DOCUMENT' at 0x7f183c2194a8>,\n",
       " <Element 'DOCUMENT' at 0x7f183c2195e8>,\n",
       " <Element 'DOCUMENT' at 0x7f183c219728>,\n",
       " <Element 'DOCUMENT' at 0x7f183c219868>,\n",
       " <Element 'DOCUMENT' at 0x7f183c2199a8>,\n",
       " <Element 'DOCUMENT' at 0x7f183c219ae8>,\n",
       " <Element 'DOCUMENT' at 0x7f183c219c28>,\n",
       " <Element 'DOCUMENT' at 0x7f183c219d68>,\n",
       " <Element 'DOCUMENT' at 0x7f183c219ea8>,\n",
       " <Element 'DOCUMENT' at 0x7f183c21b048>,\n",
       " <Element 'DOCUMENT' at 0x7f183c21b188>,\n",
       " <Element 'DOCUMENT' at 0x7f183c21b2c8>,\n",
       " <Element 'DOCUMENT' at 0x7f183c21b408>,\n",
       " <Element 'DOCUMENT' at 0x7f183c21b548>,\n",
       " <Element 'DOCUMENT' at 0x7f183c21b688>,\n",
       " <Element 'DOCUMENT' at 0x7f183c21b7c8>,\n",
       " <Element 'DOCUMENT' at 0x7f183c21b908>,\n",
       " <Element 'DOCUMENT' at 0x7f183c21ba48>,\n",
       " <Element 'DOCUMENT' at 0x7f183c21bb88>,\n",
       " <Element 'DOCUMENT' at 0x7f183c21bcc8>,\n",
       " <Element 'DOCUMENT' at 0x7f183c21be08>,\n",
       " <Element 'DOCUMENT' at 0x7f183c21bf48>,\n",
       " <Element 'DOCUMENT' at 0x7f183c2210e8>,\n",
       " <Element 'DOCUMENT' at 0x7f183c221228>,\n",
       " <Element 'DOCUMENT' at 0x7f183c221368>,\n",
       " <Element 'DOCUMENT' at 0x7f183c2214a8>,\n",
       " <Element 'DOCUMENT' at 0x7f183c2215e8>,\n",
       " <Element 'DOCUMENT' at 0x7f183c221728>,\n",
       " <Element 'DOCUMENT' at 0x7f183c221868>,\n",
       " <Element 'DOCUMENT' at 0x7f183c2219a8>,\n",
       " <Element 'DOCUMENT' at 0x7f183c221ae8>,\n",
       " <Element 'DOCUMENT' at 0x7f183c221c28>,\n",
       " <Element 'DOCUMENT' at 0x7f183c221d68>,\n",
       " <Element 'DOCUMENT' at 0x7f183c221ea8>,\n",
       " <Element 'DOCUMENT' at 0x7f183c226048>,\n",
       " <Element 'DOCUMENT' at 0x7f183c226188>,\n",
       " <Element 'DOCUMENT' at 0x7f183c2262c8>,\n",
       " <Element 'DOCUMENT' at 0x7f183c226408>,\n",
       " <Element 'DOCUMENT' at 0x7f183c226548>,\n",
       " <Element 'DOCUMENT' at 0x7f183c226688>,\n",
       " <Element 'DOCUMENT' at 0x7f183c2267c8>,\n",
       " <Element 'DOCUMENT' at 0x7f183c226908>,\n",
       " <Element 'DOCUMENT' at 0x7f183c226a48>,\n",
       " <Element 'DOCUMENT' at 0x7f183c226b88>,\n",
       " <Element 'DOCUMENT' at 0x7f183c226cc8>,\n",
       " <Element 'DOCUMENT' at 0x7f183c226e08>,\n",
       " <Element 'DOCUMENT' at 0x7f183c226f48>,\n",
       " <Element 'DOCUMENT' at 0x7f183c2310e8>,\n",
       " <Element 'DOCUMENT' at 0x7f183c231228>,\n",
       " <Element 'DOCUMENT' at 0x7f183c231368>,\n",
       " <Element 'DOCUMENT' at 0x7f183c2314a8>,\n",
       " <Element 'DOCUMENT' at 0x7f183c2315e8>,\n",
       " <Element 'DOCUMENT' at 0x7f183c231728>,\n",
       " <Element 'DOCUMENT' at 0x7f183c231868>,\n",
       " <Element 'DOCUMENT' at 0x7f183c2319a8>,\n",
       " <Element 'DOCUMENT' at 0x7f183c231ae8>,\n",
       " <Element 'DOCUMENT' at 0x7f183c231c28>,\n",
       " <Element 'DOCUMENT' at 0x7f183c231d68>,\n",
       " <Element 'DOCUMENT' at 0x7f183c231ea8>,\n",
       " <Element 'DOCUMENT' at 0x7f1837f81048>,\n",
       " <Element 'DOCUMENT' at 0x7f1837f81188>,\n",
       " <Element 'DOCUMENT' at 0x7f1837f812c8>,\n",
       " <Element 'DOCUMENT' at 0x7f1837f81408>,\n",
       " <Element 'DOCUMENT' at 0x7f1837f81548>,\n",
       " <Element 'DOCUMENT' at 0x7f1837f81688>,\n",
       " <Element 'DOCUMENT' at 0x7f1837f817c8>,\n",
       " <Element 'DOCUMENT' at 0x7f1837f81908>,\n",
       " <Element 'DOCUMENT' at 0x7f1837f81a48>,\n",
       " <Element 'DOCUMENT' at 0x7f1837f81b88>,\n",
       " <Element 'DOCUMENT' at 0x7f1837f81cc8>,\n",
       " <Element 'DOCUMENT' at 0x7f1837f81e08>,\n",
       " <Element 'DOCUMENT' at 0x7f1837f81f48>,\n",
       " <Element 'DOCUMENT' at 0x7f1837f8a0e8>,\n",
       " <Element 'DOCUMENT' at 0x7f1837f8a228>,\n",
       " <Element 'DOCUMENT' at 0x7f1837f8a368>,\n",
       " <Element 'DOCUMENT' at 0x7f1837f8a4a8>,\n",
       " <Element 'DOCUMENT' at 0x7f1837f8a5e8>,\n",
       " <Element 'DOCUMENT' at 0x7f1837f8a728>,\n",
       " <Element 'DOCUMENT' at 0x7f1837f8a868>,\n",
       " <Element 'DOCUMENT' at 0x7f1837f8a9a8>,\n",
       " <Element 'DOCUMENT' at 0x7f1837f8aae8>,\n",
       " <Element 'DOCUMENT' at 0x7f1837f8ac28>,\n",
       " <Element 'DOCUMENT' at 0x7f1837f8ad68>,\n",
       " <Element 'DOCUMENT' at 0x7f1837f8aea8>,\n",
       " <Element 'DOCUMENT' at 0x7f1837f8f048>,\n",
       " <Element 'DOCUMENT' at 0x7f1837f8f188>,\n",
       " <Element 'DOCUMENT' at 0x7f1837f8f2c8>,\n",
       " <Element 'DOCUMENT' at 0x7f1837f8f408>,\n",
       " <Element 'DOCUMENT' at 0x7f1837f8f548>,\n",
       " <Element 'DOCUMENT' at 0x7f1837f8f688>,\n",
       " <Element 'DOCUMENT' at 0x7f1837f8f7c8>,\n",
       " <Element 'DOCUMENT' at 0x7f1837f8f908>,\n",
       " <Element 'DOCUMENT' at 0x7f1837f8fa48>,\n",
       " <Element 'DOCUMENT' at 0x7f1837f8fb88>,\n",
       " <Element 'DOCUMENT' at 0x7f1837f8fcc8>,\n",
       " <Element 'DOCUMENT' at 0x7f1837f8fe08>,\n",
       " <Element 'DOCUMENT' at 0x7f1837f8ff48>,\n",
       " <Element 'DOCUMENT' at 0x7f1837f970e8>,\n",
       " <Element 'DOCUMENT' at 0x7f1837f97228>,\n",
       " <Element 'DOCUMENT' at 0x7f1837f97368>,\n",
       " <Element 'DOCUMENT' at 0x7f1837f974a8>,\n",
       " <Element 'DOCUMENT' at 0x7f1837f975e8>,\n",
       " <Element 'DOCUMENT' at 0x7f1837f97728>,\n",
       " <Element 'DOCUMENT' at 0x7f1837f97868>,\n",
       " <Element 'DOCUMENT' at 0x7f1837f979a8>,\n",
       " <Element 'DOCUMENT' at 0x7f1837f97ae8>,\n",
       " <Element 'DOCUMENT' at 0x7f1837f97c28>,\n",
       " <Element 'DOCUMENT' at 0x7f1837f97d68>,\n",
       " <Element 'DOCUMENT' at 0x7f1837f97ea8>,\n",
       " <Element 'DOCUMENT' at 0x7f1837f9c048>,\n",
       " <Element 'DOCUMENT' at 0x7f1837f9c188>,\n",
       " <Element 'DOCUMENT' at 0x7f1837f9c2c8>,\n",
       " <Element 'DOCUMENT' at 0x7f1837f9c408>,\n",
       " <Element 'DOCUMENT' at 0x7f1837f9c548>,\n",
       " <Element 'DOCUMENT' at 0x7f1837f9c688>,\n",
       " <Element 'DOCUMENT' at 0x7f1837f9c7c8>,\n",
       " <Element 'DOCUMENT' at 0x7f1837f9c908>,\n",
       " <Element 'DOCUMENT' at 0x7f1837f9ca48>,\n",
       " <Element 'DOCUMENT' at 0x7f1837f9cb88>,\n",
       " <Element 'DOCUMENT' at 0x7f1837f9ccc8>,\n",
       " <Element 'DOCUMENT' at 0x7f1837f9ce08>,\n",
       " <Element 'DOCUMENT' at 0x7f1837f9cf48>,\n",
       " <Element 'DOCUMENT' at 0x7f1837fa60e8>,\n",
       " <Element 'DOCUMENT' at 0x7f1837fa6228>,\n",
       " <Element 'DOCUMENT' at 0x7f1837fa6368>,\n",
       " <Element 'DOCUMENT' at 0x7f1837fa64a8>,\n",
       " <Element 'DOCUMENT' at 0x7f1837fa65e8>,\n",
       " <Element 'DOCUMENT' at 0x7f1837fa6728>,\n",
       " <Element 'DOCUMENT' at 0x7f1837fa6868>,\n",
       " <Element 'DOCUMENT' at 0x7f1837fa69a8>,\n",
       " <Element 'DOCUMENT' at 0x7f1837fa6ae8>,\n",
       " <Element 'DOCUMENT' at 0x7f1837fa6c28>,\n",
       " <Element 'DOCUMENT' at 0x7f1837fa6d68>,\n",
       " <Element 'DOCUMENT' at 0x7f1837fa6ea8>,\n",
       " <Element 'DOCUMENT' at 0x7f1837faf048>,\n",
       " <Element 'DOCUMENT' at 0x7f1837faf188>,\n",
       " <Element 'DOCUMENT' at 0x7f1837faf2c8>,\n",
       " <Element 'DOCUMENT' at 0x7f1837faf408>,\n",
       " <Element 'DOCUMENT' at 0x7f1837faf548>,\n",
       " <Element 'DOCUMENT' at 0x7f1837faf688>,\n",
       " <Element 'DOCUMENT' at 0x7f1837faf7c8>,\n",
       " <Element 'DOCUMENT' at 0x7f1837faf908>,\n",
       " <Element 'DOCUMENT' at 0x7f1837fafa48>,\n",
       " <Element 'DOCUMENT' at 0x7f1837fafb88>,\n",
       " <Element 'DOCUMENT' at 0x7f1837fafcc8>,\n",
       " <Element 'DOCUMENT' at 0x7f1837fafe08>,\n",
       " <Element 'DOCUMENT' at 0x7f1837faff48>,\n",
       " <Element 'DOCUMENT' at 0x7f1837fb60e8>,\n",
       " <Element 'DOCUMENT' at 0x7f1837fb6228>,\n",
       " <Element 'DOCUMENT' at 0x7f1837fb6368>,\n",
       " <Element 'DOCUMENT' at 0x7f1837fb64a8>,\n",
       " <Element 'DOCUMENT' at 0x7f1837fb65e8>,\n",
       " <Element 'DOCUMENT' at 0x7f1837fb6728>,\n",
       " <Element 'DOCUMENT' at 0x7f1837fb6868>,\n",
       " <Element 'DOCUMENT' at 0x7f1837fb69a8>,\n",
       " <Element 'DOCUMENT' at 0x7f1837fb6ae8>,\n",
       " <Element 'DOCUMENT' at 0x7f1837fb6c28>,\n",
       " <Element 'DOCUMENT' at 0x7f1837fb6d68>,\n",
       " <Element 'DOCUMENT' at 0x7f1837fb6ea8>,\n",
       " <Element 'DOCUMENT' at 0x7f1837fbf048>,\n",
       " <Element 'DOCUMENT' at 0x7f1837fbf188>,\n",
       " <Element 'DOCUMENT' at 0x7f1837fbf2c8>,\n",
       " <Element 'DOCUMENT' at 0x7f1837fbf408>,\n",
       " <Element 'DOCUMENT' at 0x7f1837fbf548>,\n",
       " <Element 'DOCUMENT' at 0x7f1837fbf688>,\n",
       " <Element 'DOCUMENT' at 0x7f1837fbf7c8>,\n",
       " <Element 'DOCUMENT' at 0x7f1837fbf908>,\n",
       " <Element 'DOCUMENT' at 0x7f1837fbfa48>,\n",
       " <Element 'DOCUMENT' at 0x7f1837fbfb88>,\n",
       " <Element 'DOCUMENT' at 0x7f1837fbfcc8>,\n",
       " <Element 'DOCUMENT' at 0x7f1837fbfe08>,\n",
       " <Element 'DOCUMENT' at 0x7f1837fbff48>,\n",
       " <Element 'DOCUMENT' at 0x7f1837e850e8>,\n",
       " <Element 'DOCUMENT' at 0x7f1837e85228>,\n",
       " <Element 'DOCUMENT' at 0x7f1837e85368>,\n",
       " <Element 'DOCUMENT' at 0x7f1837e854a8>,\n",
       " <Element 'DOCUMENT' at 0x7f1837e855e8>,\n",
       " <Element 'DOCUMENT' at 0x7f1837e85728>,\n",
       " <Element 'DOCUMENT' at 0x7f1837e85868>,\n",
       " <Element 'DOCUMENT' at 0x7f1837e859a8>,\n",
       " <Element 'DOCUMENT' at 0x7f1837e85ae8>,\n",
       " <Element 'DOCUMENT' at 0x7f1837e85c28>,\n",
       " <Element 'DOCUMENT' at 0x7f1837e85d68>,\n",
       " <Element 'DOCUMENT' at 0x7f1837e85ea8>,\n",
       " <Element 'DOCUMENT' at 0x7f1837e8d048>,\n",
       " <Element 'DOCUMENT' at 0x7f1837e8d188>,\n",
       " <Element 'DOCUMENT' at 0x7f1837e8d2c8>,\n",
       " <Element 'DOCUMENT' at 0x7f1837e8d408>,\n",
       " <Element 'DOCUMENT' at 0x7f1837e8d548>,\n",
       " <Element 'DOCUMENT' at 0x7f1837e8d688>,\n",
       " <Element 'DOCUMENT' at 0x7f1837e8d7c8>,\n",
       " <Element 'DOCUMENT' at 0x7f1837e8d908>,\n",
       " <Element 'DOCUMENT' at 0x7f1837e8da48>,\n",
       " <Element 'DOCUMENT' at 0x7f1837e8db88>,\n",
       " <Element 'DOCUMENT' at 0x7f1837e8dcc8>,\n",
       " <Element 'DOCUMENT' at 0x7f1837e8de08>,\n",
       " <Element 'DOCUMENT' at 0x7f1837e8df48>,\n",
       " <Element 'DOCUMENT' at 0x7f1837e940e8>,\n",
       " <Element 'DOCUMENT' at 0x7f1837e94228>,\n",
       " <Element 'DOCUMENT' at 0x7f1837e94368>,\n",
       " <Element 'DOCUMENT' at 0x7f1837e944a8>,\n",
       " <Element 'DOCUMENT' at 0x7f1837e945e8>,\n",
       " <Element 'DOCUMENT' at 0x7f1837e94728>,\n",
       " <Element 'DOCUMENT' at 0x7f1837e94868>,\n",
       " <Element 'DOCUMENT' at 0x7f1837e949a8>,\n",
       " <Element 'DOCUMENT' at 0x7f1837e94ae8>,\n",
       " <Element 'DOCUMENT' at 0x7f1837e94c28>,\n",
       " <Element 'DOCUMENT' at 0x7f1837e94d68>,\n",
       " <Element 'DOCUMENT' at 0x7f1837e94ea8>,\n",
       " <Element 'DOCUMENT' at 0x7f1837e9e048>,\n",
       " <Element 'DOCUMENT' at 0x7f1837e9e188>,\n",
       " <Element 'DOCUMENT' at 0x7f1837e9e2c8>,\n",
       " <Element 'DOCUMENT' at 0x7f1837e9e408>,\n",
       " <Element 'DOCUMENT' at 0x7f1837e9e548>,\n",
       " <Element 'DOCUMENT' at 0x7f1837e9e688>,\n",
       " <Element 'DOCUMENT' at 0x7f1837e9e7c8>,\n",
       " <Element 'DOCUMENT' at 0x7f1837e9e908>,\n",
       " <Element 'DOCUMENT' at 0x7f1837e9ea48>,\n",
       " <Element 'DOCUMENT' at 0x7f1837e9eb88>,\n",
       " <Element 'DOCUMENT' at 0x7f1837e9ecc8>,\n",
       " <Element 'DOCUMENT' at 0x7f1837e9ee08>,\n",
       " <Element 'DOCUMENT' at 0x7f1837e9ef48>,\n",
       " <Element 'DOCUMENT' at 0x7f1837ea80e8>,\n",
       " <Element 'DOCUMENT' at 0x7f1837ea8228>,\n",
       " <Element 'DOCUMENT' at 0x7f1837ea8368>,\n",
       " <Element 'DOCUMENT' at 0x7f1837ea84a8>,\n",
       " <Element 'DOCUMENT' at 0x7f1837ea85e8>,\n",
       " <Element 'DOCUMENT' at 0x7f1837ea8728>,\n",
       " <Element 'DOCUMENT' at 0x7f1837ea8868>,\n",
       " <Element 'DOCUMENT' at 0x7f1837ea89a8>,\n",
       " <Element 'DOCUMENT' at 0x7f1837ea8ae8>,\n",
       " <Element 'DOCUMENT' at 0x7f1837ea8c28>,\n",
       " <Element 'DOCUMENT' at 0x7f1837ea8d68>,\n",
       " <Element 'DOCUMENT' at 0x7f1837ea8ea8>,\n",
       " <Element 'DOCUMENT' at 0x7f1837eb4048>,\n",
       " <Element 'DOCUMENT' at 0x7f1837eb4188>,\n",
       " <Element 'DOCUMENT' at 0x7f1837eb42c8>,\n",
       " <Element 'DOCUMENT' at 0x7f1837eb4408>,\n",
       " <Element 'DOCUMENT' at 0x7f1837eb4548>,\n",
       " <Element 'DOCUMENT' at 0x7f1837eb4688>,\n",
       " <Element 'DOCUMENT' at 0x7f1837eb47c8>,\n",
       " <Element 'DOCUMENT' at 0x7f1837eb4908>,\n",
       " <Element 'DOCUMENT' at 0x7f1837eb4a48>,\n",
       " <Element 'DOCUMENT' at 0x7f1837eb4b88>,\n",
       " <Element 'DOCUMENT' at 0x7f1837eb4cc8>,\n",
       " <Element 'DOCUMENT' at 0x7f1837eb4e08>,\n",
       " <Element 'DOCUMENT' at 0x7f1837eb4f48>,\n",
       " <Element 'DOCUMENT' at 0x7f1837ebb0e8>,\n",
       " <Element 'DOCUMENT' at 0x7f1837ebb228>,\n",
       " <Element 'DOCUMENT' at 0x7f1837ebb368>,\n",
       " <Element 'DOCUMENT' at 0x7f1837ebb4a8>,\n",
       " <Element 'DOCUMENT' at 0x7f1837ebb5e8>,\n",
       " <Element 'DOCUMENT' at 0x7f1837ebb728>,\n",
       " <Element 'DOCUMENT' at 0x7f1837ebb868>,\n",
       " <Element 'DOCUMENT' at 0x7f1837ebb9a8>,\n",
       " <Element 'DOCUMENT' at 0x7f1837ebbae8>,\n",
       " <Element 'DOCUMENT' at 0x7f1837ebbc28>,\n",
       " <Element 'DOCUMENT' at 0x7f1837ebbd68>,\n",
       " <Element 'DOCUMENT' at 0x7f1837ebbea8>,\n",
       " <Element 'DOCUMENT' at 0x7f1837681048>,\n",
       " <Element 'DOCUMENT' at 0x7f1837681188>,\n",
       " <Element 'DOCUMENT' at 0x7f18376812c8>,\n",
       " <Element 'DOCUMENT' at 0x7f1837681408>,\n",
       " <Element 'DOCUMENT' at 0x7f1837681548>,\n",
       " <Element 'DOCUMENT' at 0x7f1837681688>,\n",
       " <Element 'DOCUMENT' at 0x7f18376817c8>,\n",
       " <Element 'DOCUMENT' at 0x7f1837681908>,\n",
       " <Element 'DOCUMENT' at 0x7f1837681a48>,\n",
       " <Element 'DOCUMENT' at 0x7f1837681b88>,\n",
       " <Element 'DOCUMENT' at 0x7f1837681cc8>,\n",
       " <Element 'DOCUMENT' at 0x7f1837681e08>,\n",
       " <Element 'DOCUMENT' at 0x7f1837681f48>,\n",
       " <Element 'DOCUMENT' at 0x7f183768a0e8>,\n",
       " <Element 'DOCUMENT' at 0x7f183768a228>,\n",
       " <Element 'DOCUMENT' at 0x7f183768a368>,\n",
       " <Element 'DOCUMENT' at 0x7f183768a4a8>,\n",
       " <Element 'DOCUMENT' at 0x7f183768a5e8>,\n",
       " <Element 'DOCUMENT' at 0x7f183768a728>,\n",
       " <Element 'DOCUMENT' at 0x7f183768a868>,\n",
       " <Element 'DOCUMENT' at 0x7f183768a9a8>,\n",
       " <Element 'DOCUMENT' at 0x7f183768aae8>,\n",
       " <Element 'DOCUMENT' at 0x7f183768ac28>,\n",
       " <Element 'DOCUMENT' at 0x7f183768ad68>,\n",
       " <Element 'DOCUMENT' at 0x7f183768aea8>,\n",
       " <Element 'DOCUMENT' at 0x7f183768e048>,\n",
       " <Element 'DOCUMENT' at 0x7f183768e188>,\n",
       " <Element 'DOCUMENT' at 0x7f183768e2c8>,\n",
       " <Element 'DOCUMENT' at 0x7f183768e408>,\n",
       " <Element 'DOCUMENT' at 0x7f183768e548>,\n",
       " <Element 'DOCUMENT' at 0x7f183768e688>,\n",
       " <Element 'DOCUMENT' at 0x7f183768e7c8>,\n",
       " <Element 'DOCUMENT' at 0x7f183768e908>,\n",
       " <Element 'DOCUMENT' at 0x7f183768ea48>,\n",
       " <Element 'DOCUMENT' at 0x7f183768eb88>,\n",
       " <Element 'DOCUMENT' at 0x7f183768ecc8>,\n",
       " <Element 'DOCUMENT' at 0x7f183768ee08>,\n",
       " <Element 'DOCUMENT' at 0x7f183768ef48>,\n",
       " <Element 'DOCUMENT' at 0x7f18376980e8>,\n",
       " <Element 'DOCUMENT' at 0x7f1837698228>,\n",
       " <Element 'DOCUMENT' at 0x7f1837698368>,\n",
       " <Element 'DOCUMENT' at 0x7f18376984a8>,\n",
       " <Element 'DOCUMENT' at 0x7f18376985e8>,\n",
       " <Element 'DOCUMENT' at 0x7f1837698728>,\n",
       " <Element 'DOCUMENT' at 0x7f1837698868>,\n",
       " <Element 'DOCUMENT' at 0x7f18376989a8>,\n",
       " <Element 'DOCUMENT' at 0x7f1837698ae8>,\n",
       " <Element 'DOCUMENT' at 0x7f1837698c28>,\n",
       " <Element 'DOCUMENT' at 0x7f1837698d68>,\n",
       " <Element 'DOCUMENT' at 0x7f1837698ea8>,\n",
       " <Element 'DOCUMENT' at 0x7f18376a2048>,\n",
       " <Element 'DOCUMENT' at 0x7f18376a2188>,\n",
       " <Element 'DOCUMENT' at 0x7f18376a22c8>,\n",
       " <Element 'DOCUMENT' at 0x7f18376a2408>,\n",
       " <Element 'DOCUMENT' at 0x7f18376a2548>,\n",
       " <Element 'DOCUMENT' at 0x7f18376a2688>,\n",
       " <Element 'DOCUMENT' at 0x7f18376a27c8>,\n",
       " <Element 'DOCUMENT' at 0x7f18376a2908>,\n",
       " <Element 'DOCUMENT' at 0x7f18376a2a48>,\n",
       " <Element 'DOCUMENT' at 0x7f18376a2b88>,\n",
       " <Element 'DOCUMENT' at 0x7f18376a2cc8>,\n",
       " <Element 'DOCUMENT' at 0x7f18376a2e08>,\n",
       " <Element 'DOCUMENT' at 0x7f18376a2f48>,\n",
       " <Element 'DOCUMENT' at 0x7f18376ac0e8>,\n",
       " <Element 'DOCUMENT' at 0x7f18376ac228>,\n",
       " <Element 'DOCUMENT' at 0x7f18376ac368>,\n",
       " <Element 'DOCUMENT' at 0x7f18376ac4a8>,\n",
       " <Element 'DOCUMENT' at 0x7f18376ac5e8>,\n",
       " <Element 'DOCUMENT' at 0x7f18376ac728>,\n",
       " <Element 'DOCUMENT' at 0x7f18376ac868>,\n",
       " <Element 'DOCUMENT' at 0x7f18376ac9a8>,\n",
       " <Element 'DOCUMENT' at 0x7f18376acae8>,\n",
       " <Element 'DOCUMENT' at 0x7f18376acc28>,\n",
       " <Element 'DOCUMENT' at 0x7f18376acd68>,\n",
       " <Element 'DOCUMENT' at 0x7f18376acea8>,\n",
       " <Element 'DOCUMENT' at 0x7f18376b5048>,\n",
       " <Element 'DOCUMENT' at 0x7f18376b5188>,\n",
       " <Element 'DOCUMENT' at 0x7f18376b52c8>,\n",
       " <Element 'DOCUMENT' at 0x7f18376b5408>,\n",
       " <Element 'DOCUMENT' at 0x7f18376b5548>,\n",
       " <Element 'DOCUMENT' at 0x7f18376b5688>,\n",
       " <Element 'DOCUMENT' at 0x7f18376b57c8>,\n",
       " <Element 'DOCUMENT' at 0x7f18376b5908>,\n",
       " <Element 'DOCUMENT' at 0x7f18376b5a48>,\n",
       " <Element 'DOCUMENT' at 0x7f18376b5b88>,\n",
       " <Element 'DOCUMENT' at 0x7f18376b5cc8>,\n",
       " <Element 'DOCUMENT' at 0x7f18376b5e08>,\n",
       " <Element 'DOCUMENT' at 0x7f18376b5f48>,\n",
       " <Element 'DOCUMENT' at 0x7f18376bd0e8>,\n",
       " <Element 'DOCUMENT' at 0x7f18376bd228>,\n",
       " <Element 'DOCUMENT' at 0x7f18376bd368>,\n",
       " <Element 'DOCUMENT' at 0x7f18376bd4a8>,\n",
       " <Element 'DOCUMENT' at 0x7f18376bd5e8>,\n",
       " <Element 'DOCUMENT' at 0x7f18376bd728>,\n",
       " <Element 'DOCUMENT' at 0x7f18376bd868>,\n",
       " <Element 'DOCUMENT' at 0x7f18376bd9a8>,\n",
       " <Element 'DOCUMENT' at 0x7f18376bdae8>,\n",
       " <Element 'DOCUMENT' at 0x7f18376bdc28>,\n",
       " <Element 'DOCUMENT' at 0x7f18376bdd68>,\n",
       " <Element 'DOCUMENT' at 0x7f18376bdea8>,\n",
       " <Element 'DOCUMENT' at 0x7f18375c6048>,\n",
       " <Element 'DOCUMENT' at 0x7f18375c6188>,\n",
       " <Element 'DOCUMENT' at 0x7f18375c62c8>,\n",
       " <Element 'DOCUMENT' at 0x7f18375c6408>,\n",
       " <Element 'DOCUMENT' at 0x7f18375c6548>,\n",
       " <Element 'DOCUMENT' at 0x7f18375c6688>,\n",
       " <Element 'DOCUMENT' at 0x7f18375c67c8>,\n",
       " <Element 'DOCUMENT' at 0x7f18375c6908>,\n",
       " <Element 'DOCUMENT' at 0x7f18375c6a48>,\n",
       " <Element 'DOCUMENT' at 0x7f18375c6b88>,\n",
       " <Element 'DOCUMENT' at 0x7f18375c6cc8>,\n",
       " <Element 'DOCUMENT' at 0x7f18375c6e08>,\n",
       " <Element 'DOCUMENT' at 0x7f18375c6f48>,\n",
       " <Element 'DOCUMENT' at 0x7f18375cf0e8>,\n",
       " <Element 'DOCUMENT' at 0x7f18375cf228>,\n",
       " <Element 'DOCUMENT' at 0x7f18375cf368>,\n",
       " <Element 'DOCUMENT' at 0x7f18375cf4a8>,\n",
       " <Element 'DOCUMENT' at 0x7f18375cf5e8>,\n",
       " <Element 'DOCUMENT' at 0x7f18375cf728>,\n",
       " <Element 'DOCUMENT' at 0x7f18375cf868>,\n",
       " <Element 'DOCUMENT' at 0x7f18375cf9a8>,\n",
       " <Element 'DOCUMENT' at 0x7f18375cfae8>,\n",
       " <Element 'DOCUMENT' at 0x7f18375cfc28>,\n",
       " <Element 'DOCUMENT' at 0x7f18375cfd68>,\n",
       " <Element 'DOCUMENT' at 0x7f18375cfea8>,\n",
       " <Element 'DOCUMENT' at 0x7f18375d9048>,\n",
       " <Element 'DOCUMENT' at 0x7f18375d9188>,\n",
       " <Element 'DOCUMENT' at 0x7f18375d92c8>,\n",
       " <Element 'DOCUMENT' at 0x7f18375d9408>,\n",
       " <Element 'DOCUMENT' at 0x7f18375d9548>,\n",
       " <Element 'DOCUMENT' at 0x7f18375d9688>,\n",
       " <Element 'DOCUMENT' at 0x7f18375d97c8>,\n",
       " <Element 'DOCUMENT' at 0x7f18375d9908>,\n",
       " <Element 'DOCUMENT' at 0x7f18375d9a48>,\n",
       " <Element 'DOCUMENT' at 0x7f18375d9b88>,\n",
       " <Element 'DOCUMENT' at 0x7f18375d9cc8>,\n",
       " <Element 'DOCUMENT' at 0x7f18375d9e08>,\n",
       " <Element 'DOCUMENT' at 0x7f18375d9f48>,\n",
       " <Element 'DOCUMENT' at 0x7f18375de0e8>,\n",
       " <Element 'DOCUMENT' at 0x7f18375de228>,\n",
       " <Element 'DOCUMENT' at 0x7f18375de368>,\n",
       " <Element 'DOCUMENT' at 0x7f18375de4a8>,\n",
       " <Element 'DOCUMENT' at 0x7f18375de5e8>,\n",
       " <Element 'DOCUMENT' at 0x7f18375de728>,\n",
       " <Element 'DOCUMENT' at 0x7f18375de868>,\n",
       " <Element 'DOCUMENT' at 0x7f18375de9a8>,\n",
       " <Element 'DOCUMENT' at 0x7f18375deae8>,\n",
       " <Element 'DOCUMENT' at 0x7f18375dec28>,\n",
       " <Element 'DOCUMENT' at 0x7f18375ded68>,\n",
       " <Element 'DOCUMENT' at 0x7f18375deea8>,\n",
       " <Element 'DOCUMENT' at 0x7f18375e9048>,\n",
       " <Element 'DOCUMENT' at 0x7f18375e9188>,\n",
       " <Element 'DOCUMENT' at 0x7f18375e92c8>,\n",
       " <Element 'DOCUMENT' at 0x7f18375e9408>,\n",
       " <Element 'DOCUMENT' at 0x7f18375e9548>,\n",
       " <Element 'DOCUMENT' at 0x7f18375e9688>,\n",
       " <Element 'DOCUMENT' at 0x7f18375e97c8>,\n",
       " <Element 'DOCUMENT' at 0x7f18375e9908>,\n",
       " <Element 'DOCUMENT' at 0x7f18375e9a48>,\n",
       " <Element 'DOCUMENT' at 0x7f18375e9b88>,\n",
       " <Element 'DOCUMENT' at 0x7f18375e9cc8>,\n",
       " <Element 'DOCUMENT' at 0x7f18375e9e08>,\n",
       " <Element 'DOCUMENT' at 0x7f18375e9f48>,\n",
       " <Element 'DOCUMENT' at 0x7f18375f10e8>,\n",
       " <Element 'DOCUMENT' at 0x7f18375f1228>,\n",
       " <Element 'DOCUMENT' at 0x7f18375f1368>,\n",
       " <Element 'DOCUMENT' at 0x7f18375f14a8>,\n",
       " <Element 'DOCUMENT' at 0x7f18375f15e8>,\n",
       " <Element 'DOCUMENT' at 0x7f18375f1728>,\n",
       " <Element 'DOCUMENT' at 0x7f18375f1868>,\n",
       " <Element 'DOCUMENT' at 0x7f18375f19a8>,\n",
       " <Element 'DOCUMENT' at 0x7f18375f1ae8>,\n",
       " <Element 'DOCUMENT' at 0x7f18375f1c28>,\n",
       " <Element 'DOCUMENT' at 0x7f18375f1d68>,\n",
       " <Element 'DOCUMENT' at 0x7f18375f1ea8>,\n",
       " <Element 'DOCUMENT' at 0x7f18375fa048>,\n",
       " <Element 'DOCUMENT' at 0x7f18375fa188>,\n",
       " <Element 'DOCUMENT' at 0x7f18375fa2c8>,\n",
       " <Element 'DOCUMENT' at 0x7f18375fa408>,\n",
       " <Element 'DOCUMENT' at 0x7f18375fa548>,\n",
       " <Element 'DOCUMENT' at 0x7f18375fa688>,\n",
       " <Element 'DOCUMENT' at 0x7f18375fa7c8>,\n",
       " <Element 'DOCUMENT' at 0x7f18375fa908>,\n",
       " <Element 'DOCUMENT' at 0x7f18375faa48>,\n",
       " <Element 'DOCUMENT' at 0x7f18375fab88>,\n",
       " <Element 'DOCUMENT' at 0x7f18375facc8>,\n",
       " <Element 'DOCUMENT' at 0x7f18375fae08>,\n",
       " <Element 'DOCUMENT' at 0x7f18375faf48>,\n",
       " <Element 'DOCUMENT' at 0x7f18374470e8>,\n",
       " <Element 'DOCUMENT' at 0x7f1837447228>,\n",
       " <Element 'DOCUMENT' at 0x7f1837447368>,\n",
       " <Element 'DOCUMENT' at 0x7f18374474a8>,\n",
       " <Element 'DOCUMENT' at 0x7f18374475e8>,\n",
       " <Element 'DOCUMENT' at 0x7f1837447728>,\n",
       " <Element 'DOCUMENT' at 0x7f1837447868>,\n",
       " <Element 'DOCUMENT' at 0x7f18374479a8>,\n",
       " <Element 'DOCUMENT' at 0x7f1837447ae8>,\n",
       " <Element 'DOCUMENT' at 0x7f1837447c28>,\n",
       " <Element 'DOCUMENT' at 0x7f1837447d68>,\n",
       " <Element 'DOCUMENT' at 0x7f1837447ea8>,\n",
       " <Element 'DOCUMENT' at 0x7f183744d048>,\n",
       " <Element 'DOCUMENT' at 0x7f183744d188>,\n",
       " <Element 'DOCUMENT' at 0x7f183744d2c8>,\n",
       " <Element 'DOCUMENT' at 0x7f183744d408>,\n",
       " <Element 'DOCUMENT' at 0x7f183744d548>,\n",
       " <Element 'DOCUMENT' at 0x7f183744d688>,\n",
       " <Element 'DOCUMENT' at 0x7f183744d7c8>,\n",
       " <Element 'DOCUMENT' at 0x7f183744d908>,\n",
       " <Element 'DOCUMENT' at 0x7f183744da48>,\n",
       " <Element 'DOCUMENT' at 0x7f183744db88>,\n",
       " <Element 'DOCUMENT' at 0x7f183744dcc8>,\n",
       " <Element 'DOCUMENT' at 0x7f183744de08>,\n",
       " <Element 'DOCUMENT' at 0x7f183744df48>,\n",
       " <Element 'DOCUMENT' at 0x7f183745a0e8>,\n",
       " <Element 'DOCUMENT' at 0x7f183745a228>,\n",
       " <Element 'DOCUMENT' at 0x7f183745a368>,\n",
       " <Element 'DOCUMENT' at 0x7f183745a4a8>,\n",
       " <Element 'DOCUMENT' at 0x7f183745a5e8>,\n",
       " <Element 'DOCUMENT' at 0x7f183745a728>,\n",
       " <Element 'DOCUMENT' at 0x7f183745a868>,\n",
       " <Element 'DOCUMENT' at 0x7f183745a9a8>,\n",
       " <Element 'DOCUMENT' at 0x7f183745aae8>,\n",
       " <Element 'DOCUMENT' at 0x7f183745ac28>,\n",
       " <Element 'DOCUMENT' at 0x7f183745ad68>,\n",
       " <Element 'DOCUMENT' at 0x7f183745aea8>,\n",
       " <Element 'DOCUMENT' at 0x7f1837461048>,\n",
       " <Element 'DOCUMENT' at 0x7f1837461188>,\n",
       " <Element 'DOCUMENT' at 0x7f18374612c8>,\n",
       " <Element 'DOCUMENT' at 0x7f1837461408>,\n",
       " <Element 'DOCUMENT' at 0x7f1837461548>,\n",
       " <Element 'DOCUMENT' at 0x7f1837461688>,\n",
       " <Element 'DOCUMENT' at 0x7f18374617c8>,\n",
       " <Element 'DOCUMENT' at 0x7f1837461908>,\n",
       " <Element 'DOCUMENT' at 0x7f1837461a48>,\n",
       " <Element 'DOCUMENT' at 0x7f1837461b88>,\n",
       " <Element 'DOCUMENT' at 0x7f1837461cc8>,\n",
       " <Element 'DOCUMENT' at 0x7f1837461e08>,\n",
       " <Element 'DOCUMENT' at 0x7f1837461f48>,\n",
       " <Element 'DOCUMENT' at 0x7f18374700e8>,\n",
       " <Element 'DOCUMENT' at 0x7f1837470228>,\n",
       " <Element 'DOCUMENT' at 0x7f1837470368>,\n",
       " <Element 'DOCUMENT' at 0x7f18374704a8>,\n",
       " <Element 'DOCUMENT' at 0x7f18374705e8>,\n",
       " <Element 'DOCUMENT' at 0x7f1837470728>,\n",
       " <Element 'DOCUMENT' at 0x7f1837470868>,\n",
       " <Element 'DOCUMENT' at 0x7f18374709a8>,\n",
       " <Element 'DOCUMENT' at 0x7f1837470ae8>,\n",
       " <Element 'DOCUMENT' at 0x7f1837470c28>,\n",
       " <Element 'DOCUMENT' at 0x7f1837470d68>,\n",
       " <Element 'DOCUMENT' at 0x7f1837470ea8>,\n",
       " <Element 'DOCUMENT' at 0x7f1837477048>,\n",
       " <Element 'DOCUMENT' at 0x7f1837477188>,\n",
       " <Element 'DOCUMENT' at 0x7f18374772c8>,\n",
       " <Element 'DOCUMENT' at 0x7f1837477408>,\n",
       " <Element 'DOCUMENT' at 0x7f1837477548>,\n",
       " <Element 'DOCUMENT' at 0x7f1837477688>,\n",
       " <Element 'DOCUMENT' at 0x7f18374777c8>,\n",
       " <Element 'DOCUMENT' at 0x7f1837477908>,\n",
       " <Element 'DOCUMENT' at 0x7f1837477a48>,\n",
       " <Element 'DOCUMENT' at 0x7f1837477b88>,\n",
       " <Element 'DOCUMENT' at 0x7f1837477cc8>,\n",
       " <Element 'DOCUMENT' at 0x7f1837477e08>,\n",
       " <Element 'DOCUMENT' at 0x7f1837477f48>,\n",
       " <Element 'DOCUMENT' at 0x7f183c1b90e8>,\n",
       " <Element 'DOCUMENT' at 0x7f183c1b9228>,\n",
       " <Element 'DOCUMENT' at 0x7f183c1b9368>,\n",
       " <Element 'DOCUMENT' at 0x7f183c1b94a8>,\n",
       " <Element 'DOCUMENT' at 0x7f183c1b95e8>,\n",
       " <Element 'DOCUMENT' at 0x7f183c1b9728>,\n",
       " <Element 'DOCUMENT' at 0x7f183c1b9868>,\n",
       " <Element 'DOCUMENT' at 0x7f183c1b99a8>,\n",
       " <Element 'DOCUMENT' at 0x7f183c1b9ae8>,\n",
       " <Element 'DOCUMENT' at 0x7f183c1b9c28>,\n",
       " <Element 'DOCUMENT' at 0x7f183c1b9d68>,\n",
       " <Element 'DOCUMENT' at 0x7f183c1b9ea8>,\n",
       " <Element 'DOCUMENT' at 0x7f183c1bd048>,\n",
       " <Element 'DOCUMENT' at 0x7f183c1bd188>,\n",
       " <Element 'DOCUMENT' at 0x7f183c1bd2c8>,\n",
       " <Element 'DOCUMENT' at 0x7f183c1bd408>,\n",
       " <Element 'DOCUMENT' at 0x7f183c1bd548>,\n",
       " <Element 'DOCUMENT' at 0x7f183c1bd688>,\n",
       " <Element 'DOCUMENT' at 0x7f183c1bd7c8>,\n",
       " <Element 'DOCUMENT' at 0x7f183c1bd908>,\n",
       " <Element 'DOCUMENT' at 0x7f183c1bda48>,\n",
       " <Element 'DOCUMENT' at 0x7f183c1bdb88>,\n",
       " <Element 'DOCUMENT' at 0x7f183c1bdcc8>,\n",
       " <Element 'DOCUMENT' at 0x7f183c1bde08>,\n",
       " <Element 'DOCUMENT' at 0x7f183c1bdf48>,\n",
       " <Element 'DOCUMENT' at 0x7f183c1c40e8>,\n",
       " <Element 'DOCUMENT' at 0x7f183c1c4228>,\n",
       " <Element 'DOCUMENT' at 0x7f183c1c4368>,\n",
       " <Element 'DOCUMENT' at 0x7f183c1c44a8>,\n",
       " <Element 'DOCUMENT' at 0x7f183c1c45e8>,\n",
       " <Element 'DOCUMENT' at 0x7f183c1c4728>,\n",
       " <Element 'DOCUMENT' at 0x7f183c1c4868>,\n",
       " <Element 'DOCUMENT' at 0x7f183c1c49a8>,\n",
       " <Element 'DOCUMENT' at 0x7f183c1c4ae8>,\n",
       " <Element 'DOCUMENT' at 0x7f183c1c4c28>,\n",
       " <Element 'DOCUMENT' at 0x7f183c1c4d68>,\n",
       " <Element 'DOCUMENT' at 0x7f183c1c4ea8>,\n",
       " <Element 'DOCUMENT' at 0x7f183c1d4048>,\n",
       " <Element 'DOCUMENT' at 0x7f183c1d4188>,\n",
       " <Element 'DOCUMENT' at 0x7f183c1d42c8>,\n",
       " <Element 'DOCUMENT' at 0x7f183c1d4408>,\n",
       " <Element 'DOCUMENT' at 0x7f183c1d4548>,\n",
       " <Element 'DOCUMENT' at 0x7f183c1d4688>,\n",
       " <Element 'DOCUMENT' at 0x7f183c1d47c8>,\n",
       " <Element 'DOCUMENT' at 0x7f183c1d4908>,\n",
       " <Element 'DOCUMENT' at 0x7f183c1d4a48>,\n",
       " <Element 'DOCUMENT' at 0x7f183c1d4b88>,\n",
       " <Element 'DOCUMENT' at 0x7f183c1d4cc8>,\n",
       " <Element 'DOCUMENT' at 0x7f183c1d4e08>,\n",
       " <Element 'DOCUMENT' at 0x7f183c1d4f48>,\n",
       " <Element 'DOCUMENT' at 0x7f183c1d80e8>,\n",
       " <Element 'DOCUMENT' at 0x7f183c1d8228>,\n",
       " <Element 'DOCUMENT' at 0x7f183c1d8368>,\n",
       " <Element 'DOCUMENT' at 0x7f183c1d84a8>,\n",
       " <Element 'DOCUMENT' at 0x7f183c1d85e8>,\n",
       " <Element 'DOCUMENT' at 0x7f183c1d8728>,\n",
       " <Element 'DOCUMENT' at 0x7f183c1d8868>,\n",
       " <Element 'DOCUMENT' at 0x7f183c1d89a8>,\n",
       " <Element 'DOCUMENT' at 0x7f183c1d8ae8>,\n",
       " <Element 'DOCUMENT' at 0x7f183c1d8c28>,\n",
       " <Element 'DOCUMENT' at 0x7f183c1d8d68>,\n",
       " <Element 'DOCUMENT' at 0x7f183c1d8ea8>,\n",
       " <Element 'DOCUMENT' at 0x7f183c1e1048>,\n",
       " <Element 'DOCUMENT' at 0x7f183c1e1188>,\n",
       " <Element 'DOCUMENT' at 0x7f183c1e12c8>,\n",
       " <Element 'DOCUMENT' at 0x7f183c1e1408>,\n",
       " <Element 'DOCUMENT' at 0x7f183c1e1548>,\n",
       " <Element 'DOCUMENT' at 0x7f183c1e1688>,\n",
       " <Element 'DOCUMENT' at 0x7f183c1e17c8>,\n",
       " <Element 'DOCUMENT' at 0x7f183c1e1908>,\n",
       " <Element 'DOCUMENT' at 0x7f183c1e1a48>,\n",
       " <Element 'DOCUMENT' at 0x7f183c1e1b88>,\n",
       " <Element 'DOCUMENT' at 0x7f183c1e1cc8>,\n",
       " <Element 'DOCUMENT' at 0x7f183c1e1e08>,\n",
       " <Element 'DOCUMENT' at 0x7f183c1e1f48>,\n",
       " <Element 'DOCUMENT' at 0x7f183c1e90e8>,\n",
       " <Element 'DOCUMENT' at 0x7f183c1e9228>,\n",
       " <Element 'DOCUMENT' at 0x7f183c1e9368>,\n",
       " <Element 'DOCUMENT' at 0x7f183c1e94a8>,\n",
       " <Element 'DOCUMENT' at 0x7f183c1e95e8>,\n",
       " <Element 'DOCUMENT' at 0x7f183c1e9728>,\n",
       " <Element 'DOCUMENT' at 0x7f183c1e9868>,\n",
       " <Element 'DOCUMENT' at 0x7f183c1e99a8>,\n",
       " <Element 'DOCUMENT' at 0x7f183c1e9ae8>,\n",
       " <Element 'DOCUMENT' at 0x7f183c1e9c28>,\n",
       " <Element 'DOCUMENT' at 0x7f183c1e9d68>,\n",
       " <Element 'DOCUMENT' at 0x7f183c1e9ea8>,\n",
       " <Element 'DOCUMENT' at 0x7f183c1f1048>,\n",
       " <Element 'DOCUMENT' at 0x7f183c1f1188>,\n",
       " <Element 'DOCUMENT' at 0x7f183c1f12c8>,\n",
       " <Element 'DOCUMENT' at 0x7f183c1f1408>,\n",
       " <Element 'DOCUMENT' at 0x7f183c1f1548>,\n",
       " <Element 'DOCUMENT' at 0x7f183c1f1688>,\n",
       " <Element 'DOCUMENT' at 0x7f183c1f17c8>,\n",
       " <Element 'DOCUMENT' at 0x7f183c1f1908>,\n",
       " <Element 'DOCUMENT' at 0x7f183c1f1a48>,\n",
       " <Element 'DOCUMENT' at 0x7f183c1f1b88>,\n",
       " <Element 'DOCUMENT' at 0x7f183c1f1cc8>,\n",
       " <Element 'DOCUMENT' at 0x7f183c1f1e08>,\n",
       " <Element 'DOCUMENT' at 0x7f183c1f1f48>,\n",
       " <Element 'DOCUMENT' at 0x7f183c17d0e8>,\n",
       " <Element 'DOCUMENT' at 0x7f183c17d228>,\n",
       " <Element 'DOCUMENT' at 0x7f183c17d368>,\n",
       " <Element 'DOCUMENT' at 0x7f183c17d4a8>,\n",
       " <Element 'DOCUMENT' at 0x7f183c17d5e8>,\n",
       " <Element 'DOCUMENT' at 0x7f183c17d728>,\n",
       " <Element 'DOCUMENT' at 0x7f183c17d868>,\n",
       " <Element 'DOCUMENT' at 0x7f183c17d9a8>,\n",
       " <Element 'DOCUMENT' at 0x7f183c17dae8>,\n",
       " <Element 'DOCUMENT' at 0x7f183c17dc28>,\n",
       " <Element 'DOCUMENT' at 0x7f183c17dd68>,\n",
       " <Element 'DOCUMENT' at 0x7f183c17dea8>,\n",
       " <Element 'DOCUMENT' at 0x7f183c188048>,\n",
       " <Element 'DOCUMENT' at 0x7f183c188188>,\n",
       " <Element 'DOCUMENT' at 0x7f183c1882c8>,\n",
       " <Element 'DOCUMENT' at 0x7f183c188408>,\n",
       " <Element 'DOCUMENT' at 0x7f183c188548>,\n",
       " <Element 'DOCUMENT' at 0x7f183c188688>,\n",
       " <Element 'DOCUMENT' at 0x7f183c1887c8>,\n",
       " <Element 'DOCUMENT' at 0x7f183c188908>,\n",
       " <Element 'DOCUMENT' at 0x7f183c188a48>,\n",
       " <Element 'DOCUMENT' at 0x7f183c188b88>,\n",
       " <Element 'DOCUMENT' at 0x7f183c188cc8>,\n",
       " <Element 'DOCUMENT' at 0x7f183c188e08>,\n",
       " <Element 'DOCUMENT' at 0x7f183c188f48>,\n",
       " <Element 'DOCUMENT' at 0x7f183c1930e8>,\n",
       " <Element 'DOCUMENT' at 0x7f183c193228>,\n",
       " <Element 'DOCUMENT' at 0x7f183c193368>,\n",
       " <Element 'DOCUMENT' at 0x7f183c1934a8>,\n",
       " <Element 'DOCUMENT' at 0x7f183c1935e8>,\n",
       " <Element 'DOCUMENT' at 0x7f183c193728>,\n",
       " <Element 'DOCUMENT' at 0x7f183c193868>,\n",
       " <Element 'DOCUMENT' at 0x7f183c1939a8>,\n",
       " <Element 'DOCUMENT' at 0x7f183c193ae8>,\n",
       " <Element 'DOCUMENT' at 0x7f183c193c28>,\n",
       " <Element 'DOCUMENT' at 0x7f183c193d68>,\n",
       " <Element 'DOCUMENT' at 0x7f183c193ea8>,\n",
       " <Element 'DOCUMENT' at 0x7f183c19c048>,\n",
       " <Element 'DOCUMENT' at 0x7f183c19c188>,\n",
       " <Element 'DOCUMENT' at 0x7f183c19c2c8>,\n",
       " <Element 'DOCUMENT' at 0x7f183c19c408>,\n",
       " <Element 'DOCUMENT' at 0x7f183c19c548>,\n",
       " <Element 'DOCUMENT' at 0x7f183c19c688>,\n",
       " <Element 'DOCUMENT' at 0x7f183c19c7c8>,\n",
       " <Element 'DOCUMENT' at 0x7f183c19c908>,\n",
       " <Element 'DOCUMENT' at 0x7f183c19ca48>,\n",
       " <Element 'DOCUMENT' at 0x7f183c19cb88>,\n",
       " <Element 'DOCUMENT' at 0x7f183c19ccc8>,\n",
       " <Element 'DOCUMENT' at 0x7f183c19ce08>,\n",
       " <Element 'DOCUMENT' at 0x7f183c19cf48>,\n",
       " <Element 'DOCUMENT' at 0x7f183c1a60e8>,\n",
       " <Element 'DOCUMENT' at 0x7f183c1a6228>,\n",
       " <Element 'DOCUMENT' at 0x7f183c1a6368>,\n",
       " <Element 'DOCUMENT' at 0x7f183c1a64a8>,\n",
       " <Element 'DOCUMENT' at 0x7f183c1a65e8>,\n",
       " <Element 'DOCUMENT' at 0x7f183c1a6728>,\n",
       " <Element 'DOCUMENT' at 0x7f183c1a6868>,\n",
       " <Element 'DOCUMENT' at 0x7f183c1a69a8>,\n",
       " <Element 'DOCUMENT' at 0x7f183c1a6ae8>,\n",
       " <Element 'DOCUMENT' at 0x7f183c1a6c28>,\n",
       " <Element 'DOCUMENT' at 0x7f183c1a6d68>,\n",
       " <Element 'DOCUMENT' at 0x7f183c1a6ea8>,\n",
       " <Element 'DOCUMENT' at 0x7f183c1ac048>,\n",
       " <Element 'DOCUMENT' at 0x7f183c1ac188>,\n",
       " <Element 'DOCUMENT' at 0x7f183c1ac2c8>,\n",
       " <Element 'DOCUMENT' at 0x7f183c1ac408>,\n",
       " <Element 'DOCUMENT' at 0x7f183c1ac548>,\n",
       " <Element 'DOCUMENT' at 0x7f183c1ac688>,\n",
       " <Element 'DOCUMENT' at 0x7f183c1ac7c8>,\n",
       " <Element 'DOCUMENT' at 0x7f183c1ac908>,\n",
       " <Element 'DOCUMENT' at 0x7f183c1aca48>,\n",
       " <Element 'DOCUMENT' at 0x7f183c1acb88>,\n",
       " <Element 'DOCUMENT' at 0x7f183c1accc8>,\n",
       " <Element 'DOCUMENT' at 0x7f183c1ace08>,\n",
       " <Element 'DOCUMENT' at 0x7f183c1acf48>,\n",
       " <Element 'DOCUMENT' at 0x7f183c1b50e8>,\n",
       " <Element 'DOCUMENT' at 0x7f183c1b5228>,\n",
       " <Element 'DOCUMENT' at 0x7f183c1b5368>,\n",
       " <Element 'DOCUMENT' at 0x7f183c1b54a8>,\n",
       " <Element 'DOCUMENT' at 0x7f183c1b55e8>,\n",
       " <Element 'DOCUMENT' at 0x7f183c1b5728>,\n",
       " <Element 'DOCUMENT' at 0x7f183c1b5868>,\n",
       " <Element 'DOCUMENT' at 0x7f183c1b59a8>,\n",
       " <Element 'DOCUMENT' at 0x7f183c1b5ae8>,\n",
       " <Element 'DOCUMENT' at 0x7f183c1b5c28>,\n",
       " <Element 'DOCUMENT' at 0x7f183c1b5d68>,\n",
       " <Element 'DOCUMENT' at 0x7f183c1b5ea8>,\n",
       " <Element 'DOCUMENT' at 0x7f1837f43048>,\n",
       " <Element 'DOCUMENT' at 0x7f1837f43188>,\n",
       " <Element 'DOCUMENT' at 0x7f1837f432c8>,\n",
       " <Element 'DOCUMENT' at 0x7f1837f43408>,\n",
       " <Element 'DOCUMENT' at 0x7f1837f43548>,\n",
       " <Element 'DOCUMENT' at 0x7f1837f43688>,\n",
       " <Element 'DOCUMENT' at 0x7f1837f437c8>,\n",
       " <Element 'DOCUMENT' at 0x7f1837f43908>,\n",
       " <Element 'DOCUMENT' at 0x7f1837f43a48>,\n",
       " <Element 'DOCUMENT' at 0x7f1837f43b88>,\n",
       " <Element 'DOCUMENT' at 0x7f1837f43cc8>,\n",
       " <Element 'DOCUMENT' at 0x7f1837f43e08>,\n",
       " <Element 'DOCUMENT' at 0x7f1837f43f48>,\n",
       " <Element 'DOCUMENT' at 0x7f1837f4f0e8>,\n",
       " <Element 'DOCUMENT' at 0x7f1837f4f228>,\n",
       " <Element 'DOCUMENT' at 0x7f1837f4f368>,\n",
       " <Element 'DOCUMENT' at 0x7f1837f4f4a8>,\n",
       " <Element 'DOCUMENT' at 0x7f1837f4f5e8>,\n",
       " <Element 'DOCUMENT' at 0x7f1837f4f728>,\n",
       " <Element 'DOCUMENT' at 0x7f1837f4f868>,\n",
       " <Element 'DOCUMENT' at 0x7f1837f4f9a8>,\n",
       " <Element 'DOCUMENT' at 0x7f1837f4fae8>,\n",
       " <Element 'DOCUMENT' at 0x7f1837f4fc28>,\n",
       " <Element 'DOCUMENT' at 0x7f1837f4fd68>,\n",
       " <Element 'DOCUMENT' at 0x7f1837f4fea8>,\n",
       " <Element 'DOCUMENT' at 0x7f1837f54048>,\n",
       " <Element 'DOCUMENT' at 0x7f1837f54188>,\n",
       " <Element 'DOCUMENT' at 0x7f1837f542c8>,\n",
       " <Element 'DOCUMENT' at 0x7f1837f54408>,\n",
       " <Element 'DOCUMENT' at 0x7f1837f54548>,\n",
       " <Element 'DOCUMENT' at 0x7f1837f54688>,\n",
       " <Element 'DOCUMENT' at 0x7f1837f547c8>,\n",
       " <Element 'DOCUMENT' at 0x7f1837f54908>,\n",
       " <Element 'DOCUMENT' at 0x7f1837f54a48>,\n",
       " <Element 'DOCUMENT' at 0x7f1837f54b88>,\n",
       " <Element 'DOCUMENT' at 0x7f1837f54cc8>,\n",
       " <Element 'DOCUMENT' at 0x7f1837f54e08>,\n",
       " <Element 'DOCUMENT' at 0x7f1837f54f48>,\n",
       " <Element 'DOCUMENT' at 0x7f1837f630e8>,\n",
       " <Element 'DOCUMENT' at 0x7f1837f63228>,\n",
       " <Element 'DOCUMENT' at 0x7f1837f63368>,\n",
       " <Element 'DOCUMENT' at 0x7f1837f634a8>,\n",
       " <Element 'DOCUMENT' at 0x7f1837f635e8>,\n",
       " <Element 'DOCUMENT' at 0x7f1837f63728>,\n",
       " <Element 'DOCUMENT' at 0x7f1837f63868>,\n",
       " <Element 'DOCUMENT' at 0x7f1837f639a8>,\n",
       " <Element 'DOCUMENT' at 0x7f1837f63ae8>,\n",
       " <Element 'DOCUMENT' at 0x7f1837f63c28>,\n",
       " <Element 'DOCUMENT' at 0x7f1837f63d68>,\n",
       " <Element 'DOCUMENT' at 0x7f1837f63ea8>,\n",
       " <Element 'DOCUMENT' at 0x7f1837f6b048>,\n",
       " <Element 'DOCUMENT' at 0x7f1837f6b188>,\n",
       " <Element 'DOCUMENT' at 0x7f1837f6b2c8>,\n",
       " <Element 'DOCUMENT' at 0x7f1837f6b408>,\n",
       " <Element 'DOCUMENT' at 0x7f1837f6b548>,\n",
       " <Element 'DOCUMENT' at 0x7f1837f6b688>,\n",
       " <Element 'DOCUMENT' at 0x7f1837f6b7c8>,\n",
       " <Element 'DOCUMENT' at 0x7f1837f6b908>,\n",
       " <Element 'DOCUMENT' at 0x7f1837f6ba48>,\n",
       " <Element 'DOCUMENT' at 0x7f1837f6bb88>,\n",
       " <Element 'DOCUMENT' at 0x7f1837f6bcc8>,\n",
       " <Element 'DOCUMENT' at 0x7f1837f6be08>,\n",
       " <Element 'DOCUMENT' at 0x7f1837f6bf48>,\n",
       " <Element 'DOCUMENT' at 0x7f1837f720e8>,\n",
       " <Element 'DOCUMENT' at 0x7f1837f72228>,\n",
       " <Element 'DOCUMENT' at 0x7f1837f72368>,\n",
       " <Element 'DOCUMENT' at 0x7f1837f724a8>,\n",
       " <Element 'DOCUMENT' at 0x7f1837f725e8>,\n",
       " <Element 'DOCUMENT' at 0x7f1837f72728>,\n",
       " <Element 'DOCUMENT' at 0x7f1837f72868>,\n",
       " <Element 'DOCUMENT' at 0x7f1837f729a8>,\n",
       " <Element 'DOCUMENT' at 0x7f1837f72ae8>,\n",
       " <Element 'DOCUMENT' at 0x7f1837f72c28>,\n",
       " <Element 'DOCUMENT' at 0x7f1837f72d68>,\n",
       " <Element 'DOCUMENT' at 0x7f1837f72ea8>,\n",
       " <Element 'DOCUMENT' at 0x7f1837f7b048>,\n",
       " <Element 'DOCUMENT' at 0x7f1837f7b188>,\n",
       " <Element 'DOCUMENT' at 0x7f1837f7b2c8>,\n",
       " <Element 'DOCUMENT' at 0x7f1837f7b408>,\n",
       " <Element 'DOCUMENT' at 0x7f1837f7b548>,\n",
       " <Element 'DOCUMENT' at 0x7f1837f7b688>,\n",
       " <Element 'DOCUMENT' at 0x7f1837f7b7c8>,\n",
       " <Element 'DOCUMENT' at 0x7f1837f7b908>,\n",
       " <Element 'DOCUMENT' at 0x7f1837f7ba48>,\n",
       " <Element 'DOCUMENT' at 0x7f1837f7bb88>,\n",
       " <Element 'DOCUMENT' at 0x7f1837f7bcc8>,\n",
       " <Element 'DOCUMENT' at 0x7f1837f7be08>,\n",
       " <Element 'DOCUMENT' at 0x7f1837f7bf48>,\n",
       " <Element 'DOCUMENT' at 0x7f1837ec00e8>,\n",
       " <Element 'DOCUMENT' at 0x7f1837ec0228>,\n",
       " <Element 'DOCUMENT' at 0x7f1837ec0368>,\n",
       " <Element 'DOCUMENT' at 0x7f1837ec04a8>,\n",
       " <Element 'DOCUMENT' at 0x7f1837ec05e8>,\n",
       " <Element 'DOCUMENT' at 0x7f1837ec0728>,\n",
       " <Element 'DOCUMENT' at 0x7f1837ec0868>,\n",
       " <Element 'DOCUMENT' at 0x7f1837ec09a8>,\n",
       " <Element 'DOCUMENT' at 0x7f1837ec0ae8>,\n",
       " <Element 'DOCUMENT' at 0x7f1837ec0c28>,\n",
       " <Element 'DOCUMENT' at 0x7f1837ec0d68>,\n",
       " <Element 'DOCUMENT' at 0x7f1837ec0ea8>,\n",
       " <Element 'DOCUMENT' at 0x7f1837ecc048>,\n",
       " <Element 'DOCUMENT' at 0x7f1837ecc188>,\n",
       " <Element 'DOCUMENT' at 0x7f1837ecc2c8>,\n",
       " <Element 'DOCUMENT' at 0x7f1837ecc408>,\n",
       " <Element 'DOCUMENT' at 0x7f1837ecc548>,\n",
       " <Element 'DOCUMENT' at 0x7f1837ecc688>,\n",
       " <Element 'DOCUMENT' at 0x7f1837ecc7c8>,\n",
       " <Element 'DOCUMENT' at 0x7f1837ecc908>,\n",
       " <Element 'DOCUMENT' at 0x7f1837ecca48>,\n",
       " <Element 'DOCUMENT' at 0x7f1837eccb88>,\n",
       " <Element 'DOCUMENT' at 0x7f1837ecccc8>,\n",
       " <Element 'DOCUMENT' at 0x7f1837ecce08>,\n",
       " <Element 'DOCUMENT' at 0x7f1837eccf48>,\n",
       " <Element 'DOCUMENT' at 0x7f1837ed00e8>,\n",
       " <Element 'DOCUMENT' at 0x7f1837ed0228>,\n",
       " <Element 'DOCUMENT' at 0x7f1837ed0368>,\n",
       " <Element 'DOCUMENT' at 0x7f1837ed04a8>,\n",
       " <Element 'DOCUMENT' at 0x7f1837ed05e8>,\n",
       " <Element 'DOCUMENT' at 0x7f1837ed0728>,\n",
       " <Element 'DOCUMENT' at 0x7f1837ed0868>,\n",
       " <Element 'DOCUMENT' at 0x7f1837ed09a8>,\n",
       " <Element 'DOCUMENT' at 0x7f1837ed0ae8>,\n",
       " <Element 'DOCUMENT' at 0x7f1837ed0c28>,\n",
       " <Element 'DOCUMENT' at 0x7f1837ed0d68>,\n",
       " <Element 'DOCUMENT' at 0x7f1837ed0ea8>,\n",
       " <Element 'DOCUMENT' at 0x7f1837ede048>,\n",
       " <Element 'DOCUMENT' at 0x7f1837ede188>,\n",
       " <Element 'DOCUMENT' at 0x7f1837ede2c8>,\n",
       " <Element 'DOCUMENT' at 0x7f1837ede408>,\n",
       " <Element 'DOCUMENT' at 0x7f1837ede548>,\n",
       " <Element 'DOCUMENT' at 0x7f1837ede688>,\n",
       " <Element 'DOCUMENT' at 0x7f1837ede7c8>,\n",
       " <Element 'DOCUMENT' at 0x7f1837ede908>,\n",
       " <Element 'DOCUMENT' at 0x7f1837edea48>,\n",
       " <Element 'DOCUMENT' at 0x7f1837edeb88>,\n",
       " <Element 'DOCUMENT' at 0x7f1837edecc8>,\n",
       " <Element 'DOCUMENT' at 0x7f1837edee08>,\n",
       " <Element 'DOCUMENT' at 0x7f1837edef48>,\n",
       " <Element 'DOCUMENT' at 0x7f1837ee80e8>,\n",
       " <Element 'DOCUMENT' at 0x7f1837ee8228>,\n",
       " <Element 'DOCUMENT' at 0x7f1837ee8368>,\n",
       " <Element 'DOCUMENT' at 0x7f1837ee84a8>,\n",
       " <Element 'DOCUMENT' at 0x7f1837ee85e8>,\n",
       " <Element 'DOCUMENT' at 0x7f1837ee8728>,\n",
       " <Element 'DOCUMENT' at 0x7f1837ee8868>,\n",
       " <Element 'DOCUMENT' at 0x7f1837ee89a8>,\n",
       " <Element 'DOCUMENT' at 0x7f1837ee8ae8>,\n",
       " <Element 'DOCUMENT' at 0x7f1837ee8c28>,\n",
       " <Element 'DOCUMENT' at 0x7f1837ee8d68>,\n",
       " <Element 'DOCUMENT' at 0x7f1837ee8ea8>,\n",
       " <Element 'DOCUMENT' at 0x7f1837eef048>,\n",
       " <Element 'DOCUMENT' at 0x7f1837eef188>,\n",
       " <Element 'DOCUMENT' at 0x7f1837eef2c8>,\n",
       " <Element 'DOCUMENT' at 0x7f1837eef408>,\n",
       " <Element 'DOCUMENT' at 0x7f1837eef548>,\n",
       " <Element 'DOCUMENT' at 0x7f1837eef688>,\n",
       " <Element 'DOCUMENT' at 0x7f1837eef7c8>,\n",
       " <Element 'DOCUMENT' at 0x7f1837eef908>,\n",
       " <Element 'DOCUMENT' at 0x7f1837eefa48>,\n",
       " <Element 'DOCUMENT' at 0x7f1837eefb88>,\n",
       " <Element 'DOCUMENT' at 0x7f1837eefcc8>,\n",
       " <Element 'DOCUMENT' at 0x7f1837eefe08>,\n",
       " <Element 'DOCUMENT' at 0x7f1837eeff48>,\n",
       " <Element 'DOCUMENT' at 0x7f1837ef60e8>,\n",
       " <Element 'DOCUMENT' at 0x7f1837ef6228>,\n",
       " <Element 'DOCUMENT' at 0x7f1837ef6368>,\n",
       " <Element 'DOCUMENT' at 0x7f1837ef64a8>,\n",
       " <Element 'DOCUMENT' at 0x7f1837ef65e8>,\n",
       " <Element 'DOCUMENT' at 0x7f1837ef6728>,\n",
       " <Element 'DOCUMENT' at 0x7f1837ef6868>,\n",
       " <Element 'DOCUMENT' at 0x7f1837ef69a8>,\n",
       " <Element 'DOCUMENT' at 0x7f1837ef6ae8>,\n",
       " <Element 'DOCUMENT' at 0x7f1837ef6c28>,\n",
       " <Element 'DOCUMENT' at 0x7f1837ef6d68>,\n",
       " <Element 'DOCUMENT' at 0x7f1837ef6ea8>,\n",
       " <Element 'DOCUMENT' at 0x7f1837efe048>,\n",
       " <Element 'DOCUMENT' at 0x7f1837efe188>,\n",
       " <Element 'DOCUMENT' at 0x7f1837efe2c8>,\n",
       " <Element 'DOCUMENT' at 0x7f1837efe408>,\n",
       " <Element 'DOCUMENT' at 0x7f1837efe548>,\n",
       " <Element 'DOCUMENT' at 0x7f1837efe688>,\n",
       " <Element 'DOCUMENT' at 0x7f1837efe7c8>,\n",
       " <Element 'DOCUMENT' at 0x7f1837efe908>,\n",
       " <Element 'DOCUMENT' at 0x7f1837efea48>,\n",
       " <Element 'DOCUMENT' at 0x7f1837efeb88>,\n",
       " <Element 'DOCUMENT' at 0x7f1837efecc8>,\n",
       " <Element 'DOCUMENT' at 0x7f1837efee08>,\n",
       " <Element 'DOCUMENT' at 0x7f1837efef48>,\n",
       " <Element 'DOCUMENT' at 0x7f1837d880e8>,\n",
       " <Element 'DOCUMENT' at 0x7f1837d88228>,\n",
       " <Element 'DOCUMENT' at 0x7f1837d88368>,\n",
       " <Element 'DOCUMENT' at 0x7f1837d884a8>,\n",
       " <Element 'DOCUMENT' at 0x7f1837d885e8>,\n",
       " <Element 'DOCUMENT' at 0x7f1837d88728>,\n",
       " <Element 'DOCUMENT' at 0x7f1837d88868>,\n",
       " <Element 'DOCUMENT' at 0x7f1837d889a8>,\n",
       " <Element 'DOCUMENT' at 0x7f1837d88ae8>,\n",
       " <Element 'DOCUMENT' at 0x7f1837d88c28>,\n",
       " <Element 'DOCUMENT' at 0x7f1837d88d68>,\n",
       " <Element 'DOCUMENT' at 0x7f1837d88ea8>,\n",
       " <Element 'DOCUMENT' at 0x7f1837d91048>,\n",
       " <Element 'DOCUMENT' at 0x7f1837d91188>,\n",
       " <Element 'DOCUMENT' at 0x7f1837d912c8>,\n",
       " <Element 'DOCUMENT' at 0x7f1837d91408>,\n",
       " <Element 'DOCUMENT' at 0x7f1837d91548>,\n",
       " <Element 'DOCUMENT' at 0x7f1837d91688>,\n",
       " <Element 'DOCUMENT' at 0x7f1837d917c8>,\n",
       " <Element 'DOCUMENT' at 0x7f1837d91908>,\n",
       " ...]"
      ]
     },
     "execution_count": 62,
     "metadata": {},
     "output_type": "execute_result"
    }
   ],
   "source": [
    "xml.getchildren()"
   ]
  },
  {
   "cell_type": "code",
   "execution_count": 63,
   "metadata": {},
   "outputs": [],
   "source": [
    "document1 = xml.getchildren()[1];\n",
    "\n",
    "document1.getchildren();"
   ]
  },
  {
   "cell_type": "code",
   "execution_count": 104,
   "metadata": {},
   "outputs": [
    {
     "name": "stdout",
     "output_type": "stream",
     "text": [
      "<Element 'EVALUATION' at 0x7f1837b35bd8>\n",
      "Items = [('nombre', '1')]\n",
      "Text  =  \n",
      "vvv\n",
      "<Element 'NOTE' at 0x7f1837b35c28>\n",
      "[('valeur', '1'), ('confiance', '1.00')]\n",
      "--------------------\n",
      "^^^\n",
      "--------------------\n",
      "<Element 'TEXTE' at 0x7f1837b35c78>\n",
      "Items = []\n",
      "Text  =   Merci, Monsieur le Premier ministre, pour votre détermination. Vous avez écouté les Français, et vous leur avez ouvert de nouveaux horizons. Vous savez combien les parlementaires peuvent être des traits d'union entre les Français et leur gouvernement, et nous ferons tout pour répondre à l'attente vigilante de nos compatriotes. Les défis sont sérieux. Nous avons mesuré l'ampleur des crises qui secouent notre pays : crise de la démocratie, exprimée à travers un vote extrémiste, et traduisant la peur de ne pas être écouté, d'être tenu à l'écart du débat démocratique ; crise de la politique : l'impuissance d'un Etat qui n'a pas été modernisé a jeté le doute sur l'efficacité des responsables politiques. Crise enfin du sens collectif : faute d'un projet collectif clairement expliqué, les Français sont tentés de se replier sur leurs préoccupations personnelles ou catégorielles. Il était temps de proposer aux Français de grands projets collectifs, qui leur permettront de retrouver confiance et de croire en l'avenir. Les Français ont besoin d'un véritable volontarisme politique. Nous adhérons pleinement aux objectifs majeurs que vous avez fixés pour mettre en oeuvre la grande ambition proposée aux Français par le Président de la République. Mais je veux les reprendre : il faut à la fois retrouver le dynamisme français, sauver une cohésion sociale menacée et adapter notre modèle social. Pour gagner contre le chômage, il faut encourager le travail, et non lui appliquer une stratégie malthusienne de partage. Quant à la croissance, on ne doit pas l'attendre passivement de la conjoncture mondiale, il faut la voir comme le fruit d'un effort national de productivité, conditionné par une confiance retrouvée, conduisant les Français à investir, à échanger des services et à consommer. Trop de Français qui se lèvent tôt le matin pour aller travailler n'ont pas compris un certain discours qui semblait dénier tout sens positif au travail, qui semblait tourner uniquement autour des dispositifs d'assistance, qui semblait oublier enfin la reconnaissance de l'effort et de la compétence acquise. Que deviendrions-nous si nous perdions collectivement le goût d'entreprendre !  \n",
      "vvv\n",
      "^^^\n",
      "--------------------\n"
     ]
    }
   ],
   "source": [
    "for each in document1.getchildren():\n",
    "    print(each)\n",
    "    print(\"Items =\", each.items())\n",
    "    print(\"Text  =\", each.text)\n",
    "    print('vvv')\n",
    "    for each2 in each.getchildren():\n",
    "        print(each2)\n",
    "        print(each2.items())\n",
    "        print('-'*20)\n",
    "    print('^^^')\n",
    "    print('-'*20)"
   ]
  },
  {
   "cell_type": "code",
   "execution_count": 65,
   "metadata": {},
   "outputs": [
    {
     "name": "stdout",
     "output_type": "stream",
     "text": [
      "[<Element 'DOCUMENT' at 0x7f1837b35b88>, <Element 'DOCUMENT' at 0x7f1837b35cc8>, <Element 'DOCUMENT' at 0x7f1837b35e08>, <Element 'DOCUMENT' at 0x7f1837b35f48>, <Element 'DOCUMENT' at 0x7f183c2040e8>]\n",
      "[<Element 'DOCUMENT' at 0x7f18344bd1d8>, <Element 'DOCUMENT' at 0x7f18344bd318>, <Element 'DOCUMENT' at 0x7f18344bd458>, <Element 'DOCUMENT' at 0x7f18344bd598>, <Element 'DOCUMENT' at 0x7f18344bd6d8>]\n"
     ]
    },
    {
     "data": {
      "text/plain": [
       "17299"
      ]
     },
     "execution_count": 65,
     "metadata": {},
     "output_type": "execute_result"
    }
   ],
   "source": [
    "# get all documents block, get rid of the description block\n",
    "all_docs = xml.getchildren()[1:]\n",
    "\n",
    "print(all_docs[:5])\n",
    "print(all_docs[-5:])\n",
    "len(all_docs)"
   ]
  },
  {
   "cell_type": "markdown",
   "metadata": {},
   "source": [
    "# Extraire les informations du XML\n",
    "\n"
   ]
  },
  {
   "cell_type": "code",
   "execution_count": 81,
   "metadata": {},
   "outputs": [
    {
     "name": "stdout",
     "output_type": "stream",
     "text": [
      "[('valeur', '1'), ('confiance', '1.00')]\n",
      "  Merci, Monsieur le Premier ministre, pour votre détermination. Vous avez écouté les Français, et v\n",
      "[('valeur', '1'), ('confiance', '1.00')]\n",
      "  Il sera plus judicieux de laisser les Français choisir le rythme et la durée de leur vie professio\n",
      "[('valeur', '0'), ('confiance', '1.00')]\n",
      "  Au terme d'un processus électoral de trois mois, les Français ont fait leur choix ; il s'impose à \n",
      "[('valeur', '0'), ('confiance', '1.00')]\n",
      "  Vous avez renvoyé leur éventuelle révision à la négociation collective : nous serons attentifs à c\n",
      "[('valeur', '0'), ('confiance', '1.00')]\n",
      "  Nous marquerons, disais-je, notre attachement au service public, à la protection sociale, à la ret\n"
     ]
    }
   ],
   "source": [
    "for doc in all_docs[:5]:\n",
    "    note = doc.find('EVALUATION').find('NOTE')\n",
    "    print(note.items())\n",
    "    text = doc.find('TEXTE')\n",
    "    print(text.text[:100])"
   ]
  },
  {
   "cell_type": "code",
   "execution_count": 95,
   "metadata": {},
   "outputs": [],
   "source": [
    "parse_note = lambda n : (n.items()[0][1],n.items()[1][1])\n",
    "\n",
    "def parse_docs(docs):\n",
    "    data = []\n",
    "    for doc in docs:\n",
    "        note = doc.find('EVALUATION').find('NOTE')\n",
    "        sent, conf = parse_note(note)\n",
    "        text = doc.find('TEXTE').text\n",
    "        data.append([text, sent, conf])\n",
    "    return data\n",
    "    \n",
    "train_data = parse_docs(all_docs)\n",
    "train_df = pd.DataFrame(train_data, columns=[\"Text\", \"Sent\", \"Conf\"])"
   ]
  },
  {
   "cell_type": "code",
   "execution_count": 96,
   "metadata": {},
   "outputs": [
    {
     "data": {
      "text/html": [
       "<div>\n",
       "<style scoped>\n",
       "    .dataframe tbody tr th:only-of-type {\n",
       "        vertical-align: middle;\n",
       "    }\n",
       "\n",
       "    .dataframe tbody tr th {\n",
       "        vertical-align: top;\n",
       "    }\n",
       "\n",
       "    .dataframe thead th {\n",
       "        text-align: right;\n",
       "    }\n",
       "</style>\n",
       "<table border=\"1\" class=\"dataframe\">\n",
       "  <thead>\n",
       "    <tr style=\"text-align: right;\">\n",
       "      <th></th>\n",
       "      <th>Text</th>\n",
       "      <th>Sent</th>\n",
       "      <th>Conf</th>\n",
       "    </tr>\n",
       "  </thead>\n",
       "  <tbody>\n",
       "    <tr>\n",
       "      <th>0</th>\n",
       "      <td>Merci, Monsieur le Premier ministre, pour vo...</td>\n",
       "      <td>1</td>\n",
       "      <td>1.00</td>\n",
       "    </tr>\n",
       "    <tr>\n",
       "      <th>1</th>\n",
       "      <td>Il sera plus judicieux de laisser les França...</td>\n",
       "      <td>1</td>\n",
       "      <td>1.00</td>\n",
       "    </tr>\n",
       "    <tr>\n",
       "      <th>2</th>\n",
       "      <td>Au terme d'un processus électoral de trois m...</td>\n",
       "      <td>0</td>\n",
       "      <td>1.00</td>\n",
       "    </tr>\n",
       "    <tr>\n",
       "      <th>3</th>\n",
       "      <td>Vous avez renvoyé leur éventuelle révision à...</td>\n",
       "      <td>0</td>\n",
       "      <td>1.00</td>\n",
       "    </tr>\n",
       "    <tr>\n",
       "      <th>4</th>\n",
       "      <td>Nous marquerons, disais-je, notre attachemen...</td>\n",
       "      <td>0</td>\n",
       "      <td>1.00</td>\n",
       "    </tr>\n",
       "  </tbody>\n",
       "</table>\n",
       "</div>"
      ],
      "text/plain": [
       "                                                Text Sent  Conf\n",
       "0    Merci, Monsieur le Premier ministre, pour vo...    1  1.00\n",
       "1    Il sera plus judicieux de laisser les França...    1  1.00\n",
       "2    Au terme d'un processus électoral de trois m...    0  1.00\n",
       "3    Vous avez renvoyé leur éventuelle révision à...    0  1.00\n",
       "4    Nous marquerons, disais-je, notre attachemen...    0  1.00"
      ]
     },
     "execution_count": 96,
     "metadata": {},
     "output_type": "execute_result"
    }
   ],
   "source": [
    "train_df.head()"
   ]
  },
  {
   "cell_type": "code",
   "execution_count": 120,
   "metadata": {},
   "outputs": [],
   "source": [
    "lines = [line.rstrip() for line in open(test_xml, encoding='iso-8859-1')]\n",
    "xml = ET.XML(\" \".join(lines))\n",
    "all_docs = xml.getchildren()[1:]\n",
    "\n",
    "def parse_docs(docs):\n",
    "    data = []\n",
    "    for doc in docs:\n",
    "        #note = doc.find('EVALUATION').find('NOTE')\n",
    "        #sent, conf = parse_note(note)\n",
    "        text = doc.find('TEXTE').text\n",
    "        data.append([text, 0, 0])\n",
    "    return data\n",
    "\n",
    "test_data = parse_docs(all_docs)\n",
    "test_df = pd.DataFrame(test_data, columns=[\"Text\", \"Sent\", \"Conf\"])"
   ]
  },
  {
   "cell_type": "code",
   "execution_count": 121,
   "metadata": {},
   "outputs": [
    {
     "data": {
      "text/html": [
       "<div>\n",
       "<style scoped>\n",
       "    .dataframe tbody tr th:only-of-type {\n",
       "        vertical-align: middle;\n",
       "    }\n",
       "\n",
       "    .dataframe tbody tr th {\n",
       "        vertical-align: top;\n",
       "    }\n",
       "\n",
       "    .dataframe thead th {\n",
       "        text-align: right;\n",
       "    }\n",
       "</style>\n",
       "<table border=\"1\" class=\"dataframe\">\n",
       "  <thead>\n",
       "    <tr style=\"text-align: right;\">\n",
       "      <th></th>\n",
       "      <th>Text</th>\n",
       "      <th>Sent</th>\n",
       "      <th>Conf</th>\n",
       "    </tr>\n",
       "  </thead>\n",
       "  <tbody>\n",
       "    <tr>\n",
       "      <th>0</th>\n",
       "      <td>La commission a rejeté cet amendement. Trois...</td>\n",
       "      <td>0</td>\n",
       "      <td>0</td>\n",
       "    </tr>\n",
       "    <tr>\n",
       "      <th>1</th>\n",
       "      <td>Je comprends l'esprit de cet amendement. L'&lt;...</td>\n",
       "      <td>0</td>\n",
       "      <td>0</td>\n",
       "    </tr>\n",
       "    <tr>\n",
       "      <th>2</th>\n",
       "      <td>Je regrette que vous qualifiiez ainsi mon in...</td>\n",
       "      <td>0</td>\n",
       "      <td>0</td>\n",
       "    </tr>\n",
       "    <tr>\n",
       "      <th>3</th>\n",
       "      <td>Le CIE est soit un CDI, soit un CDD au sens ...</td>\n",
       "      <td>0</td>\n",
       "      <td>0</td>\n",
       "    </tr>\n",
       "    <tr>\n",
       "      <th>4</th>\n",
       "      <td>L'article 28 abroge l'article L. 322-4-1 du ...</td>\n",
       "      <td>0</td>\n",
       "      <td>0</td>\n",
       "    </tr>\n",
       "  </tbody>\n",
       "</table>\n",
       "</div>"
      ],
      "text/plain": [
       "                                                Text  Sent  Conf\n",
       "0    La commission a rejeté cet amendement. Trois...     0     0\n",
       "1    Je comprends l'esprit de cet amendement. L'<...     0     0\n",
       "2    Je regrette que vous qualifiiez ainsi mon in...     0     0\n",
       "3    Le CIE est soit un CDI, soit un CDD au sens ...     0     0\n",
       "4    L'article 28 abroge l'article L. 322-4-1 du ...     0     0"
      ]
     },
     "execution_count": 121,
     "metadata": {},
     "output_type": "execute_result"
    }
   ],
   "source": [
    "test_df.head()"
   ]
  },
  {
   "cell_type": "markdown",
   "metadata": {},
   "source": [
    "# Fine-tuner le *Language Model*"
   ]
  },
  {
   "cell_type": "code",
   "execution_count": 114,
   "metadata": {},
   "outputs": [
    {
     "data": {
      "text/plain": [
       "(17299, 3)"
      ]
     },
     "execution_count": 114,
     "metadata": {},
     "output_type": "execute_result"
    }
   ],
   "source": [
    "train_df.shape"
   ]
  },
  {
   "cell_type": "code",
   "execution_count": 115,
   "metadata": {},
   "outputs": [
    {
     "data": {
      "text/plain": [
       "(11533, 1)"
      ]
     },
     "execution_count": 115,
     "metadata": {},
     "output_type": "execute_result"
    }
   ],
   "source": [
    "test_df.shape"
   ]
  },
  {
   "cell_type": "code",
   "execution_count": 116,
   "metadata": {},
   "outputs": [],
   "source": [
    "train_df, valid_df = train_df[:12000], train_df[12000:]"
   ]
  },
  {
   "cell_type": "code",
   "execution_count": 117,
   "metadata": {},
   "outputs": [
    {
     "data": {
      "text/plain": [
       "((5299, 3), (12000, 3))"
      ]
     },
     "execution_count": 117,
     "metadata": {},
     "output_type": "execute_result"
    }
   ],
   "source": [
    "train_df.shape, valid_df.shape"
   ]
  },
  {
   "cell_type": "code",
   "execution_count": 124,
   "metadata": {},
   "outputs": [],
   "source": [
    "tokenizer = Tokenizer(lang='fr', n_cpus=8)\n",
    "\n",
    "data_lm = TextLMDataBunch.from_df(p/'large_files',\n",
    "                                  train_df=train_df, valid_df=valid_df,test_df=test_df,\n",
    "                                  text_cols='Text', label_cols='Sent',\n",
    "                                  tokenizer=tokenizer,\n",
    "                                  bs=64)"
   ]
  },
  {
   "cell_type": "code",
   "execution_count": 125,
   "metadata": {},
   "outputs": [],
   "source": [
    "data_lm.save('data_lm')"
   ]
  },
  {
   "cell_type": "code",
   "execution_count": 127,
   "metadata": {},
   "outputs": [],
   "source": [
    "data_lm = TextLMDataBunch.load(p/'large_files', 'data_lm', bs=64)"
   ]
  },
  {
   "cell_type": "code",
   "execution_count": 133,
   "metadata": {},
   "outputs": [],
   "source": [
    "deep_french_weights = 'wref30k'\n",
    "deep_french_itos = 'itosref30k'\n",
    "pretained_data = (deep_french_weights, deep_french_itos)"
   ]
  },
  {
   "cell_type": "code",
   "execution_count": 142,
   "metadata": {},
   "outputs": [],
   "source": [
    "learn = language_model_learner(data_lm, pretrained_fnames=pretained_data, drop_mult=0)\n",
    "learn.save('A-INIT')\n",
    "learn.freeze()"
   ]
  },
  {
   "cell_type": "code",
   "execution_count": 143,
   "metadata": {},
   "outputs": [
    {
     "name": "stdout",
     "output_type": "stream",
     "text": [
      "LR Finder is complete, type {learner_name}.recorder.plot() to see the graph.\n"
     ]
    },
    {
     "data": {
      "image/png": "[encoded data removed]",
      "text/plain": [
       "<Figure size 432x288 with 1 Axes>"
      ]
     },
     "metadata": {
      "needs_background": "light"
     },
     "output_type": "display_data"
    }
   ],
   "source": [
    "learn.lr_find()\n",
    "learn.recorder.plot()"
   ]
  },
  {
   "cell_type": "markdown",
   "metadata": {},
   "source": [
    "Wait what???"
   ]
  },
  {
   "cell_type": "code",
   "execution_count": 144,
   "metadata": {},
   "outputs": [
    {
     "data": {
      "text/html": [
       "Total time: 03:44 <p><table style='width:300px; margin-bottom:10px'>\n",
       "  <tr>\n",
       "    <th>epoch</th>\n",
       "    <th>train_loss</th>\n",
       "    <th>valid_loss</th>\n",
       "    <th>accuracy</th>\n",
       "  </tr>\n",
       "  <tr>\n",
       "    <th>1</th>\n",
       "    <th>3.392817</th>\n",
       "    <th>3.383064</th>\n",
       "    <th>0.312362</th>\n",
       "  </tr>\n",
       "  <tr>\n",
       "    <th>2</th>\n",
       "    <th>3.084556</th>\n",
       "    <th>3.279598</th>\n",
       "    <th>0.324559</th>\n",
       "  </tr>\n",
       "</table>\n"
      ],
      "text/plain": [
       "<IPython.core.display.HTML object>"
      ]
     },
     "metadata": {},
     "output_type": "display_data"
    }
   ],
   "source": [
    "learn.fit_one_cycle(2, 1e-2)"
   ]
  },
  {
   "cell_type": "code",
   "execution_count": 145,
   "metadata": {},
   "outputs": [],
   "source": [
    "learn.save('A-LMF2')"
   ]
  },
  {
   "cell_type": "code",
   "execution_count": 146,
   "metadata": {},
   "outputs": [
    {
     "name": "stdout",
     "output_type": "stream",
     "text": [
      "LR Finder is complete, type {learner_name}.recorder.plot() to see the graph.\n"
     ]
    },
    {
     "data": {
      "image/png": "[encoded data removed]",
      "text/plain": [
       "<Figure size 432x288 with 1 Axes>"
      ]
     },
     "metadata": {
      "needs_background": "light"
     },
     "output_type": "display_data"
    }
   ],
   "source": [
    "learn.lr_find()\n",
    "learn.recorder.plot()"
   ]
  },
  {
   "cell_type": "code",
   "execution_count": 147,
   "metadata": {},
   "outputs": [
    {
     "data": {
      "text/html": [
       "Total time: 04:23 <p><table style='width:300px; margin-bottom:10px'>\n",
       "  <tr>\n",
       "    <th>epoch</th>\n",
       "    <th>train_loss</th>\n",
       "    <th>valid_loss</th>\n",
       "    <th>accuracy</th>\n",
       "  </tr>\n",
       "  <tr>\n",
       "    <th>1</th>\n",
       "    <th>2.927100</th>\n",
       "    <th>3.227190</th>\n",
       "    <th>0.331853</th>\n",
       "  </tr>\n",
       "  <tr>\n",
       "    <th>2</th>\n",
       "    <th>2.661954</th>\n",
       "    <th>3.219970</th>\n",
       "    <th>0.335538</th>\n",
       "  </tr>\n",
       "</table>\n"
      ],
      "text/plain": [
       "<IPython.core.display.HTML object>"
      ]
     },
     "metadata": {},
     "output_type": "display_data"
    }
   ],
   "source": [
    "learn.unfreeze()\n",
    "learn.fit_one_cycle(2, 1e-3, moms=(0.8,0.7))\n",
    "learn.save('A-LMF2U2')\n"
   ]
  },
  {
   "cell_type": "code",
   "execution_count": 172,
   "metadata": {},
   "outputs": [],
   "source": [
    "learn.save_encoder('finetuned_enc')"
   ]
  },
  {
   "cell_type": "markdown",
   "metadata": {},
   "source": [
    "# Essayons le *Language Model*"
   ]
  },
  {
   "cell_type": "code",
   "execution_count": 149,
   "metadata": {},
   "outputs": [],
   "source": [
    "TEXT = \"En accord avec\"\n",
    "N_WORDS = 40\n",
    "N_SENTENCES = 2"
   ]
  },
  {
   "cell_type": "code",
   "execution_count": 150,
   "metadata": {},
   "outputs": [
    {
     "name": "stdout",
     "output_type": "stream",
     "text": [
      "En accord avec l' \" xxmaj humanité \" et la xxmaj cour des comptes , j' \" . xxmaj cette disposition paraît d' \" ordre public \" . xxmaj dans les faits , cette disposition est toujours d' comme le propose le xxmaj\n",
      "En accord avec la fonction publique , la lutte contre les discriminations , l' \" accueil vers les transports publics \" , la lutte contre l' \" échec \" et la lutte contre les discriminations , l' \" égalité sociale et territoriale et\n"
     ]
    }
   ],
   "source": [
    "print(\"\\n\".join(learn.predict(TEXT, N_WORDS, temperature=0.75) for _ in range(N_SENTENCES)))"
   ]
  },
  {
   "cell_type": "code",
   "execution_count": 151,
   "metadata": {},
   "outputs": [
    {
     "name": "stdout",
     "output_type": "stream",
     "text": [
      "En accord avec la raison , la desserte de mentale hospitalières est subordonnée à l' \" office de surveillance le pousse à l' \" ambiguïté mentionne \" , ce qui marque une véritable révolution par rapport à la réglementation antérieure . xxbos xxmaj\n",
      "En accord avec le xxmaj gouvernement et les organisations syndicales , vous avez , avec les juges de proximité , proposer des grandes réformes collectives dans lesquelles seront assumées les agents des différents services . xxmaj les réformes en cours sont intéressantes .\n"
     ]
    }
   ],
   "source": [
    "print(\"\\n\".join(learn.predict(TEXT, N_WORDS, temperature=1) for _ in range(N_SENTENCES)))"
   ]
  },
  {
   "cell_type": "code",
   "execution_count": 153,
   "metadata": {},
   "outputs": [],
   "source": [
    "TEXT = \"C'est avec grand regret\""
   ]
  },
  {
   "cell_type": "code",
   "execution_count": 154,
   "metadata": {},
   "outputs": [
    {
     "name": "stdout",
     "output_type": "stream",
     "text": [
      "C'est avec grand regret de provoquer sa disparition . il aurait fallu qu' \" une commission d' \" ait été créée , présidé par un préfet . \" xxmaj il n' calendrier et est fixé . xxmaj le calendrier demeure : 1 000 agents\n",
      "C'est avec grand regret des difficultés que vous avez évoquée ! xxmaj je ne me fais donc aucun procès d' \" un \" bon budget \" . xxmaj il ne s' < hommepolitique / > qu' \" a priori \" pour les collectivités locales\n"
     ]
    }
   ],
   "source": [
    "print(\"\\n\".join(learn.predict(TEXT, N_WORDS, temperature=0.75) for _ in range(N_SENTENCES)))"
   ]
  },
  {
   "cell_type": "code",
   "execution_count": 155,
   "metadata": {},
   "outputs": [
    {
     "name": "stdout",
     "output_type": "stream",
     "text": [
      "C'est avec grand regret le gouvernement de < hommepolitique / > . xxmaj il ne seriez jamais très agissait , peut se passer sans m' d' \" ait - parachute \" . xxmaj s' = coup de impôt lui vaut aussi les options \"\n",
      "C'est avec grand regret que personne ne répondra à ces questions , que ! xxmaj mais son professeur de course lui aussi , dont - est plus proche de l' \" xxmaj intelligence états \" que les non-cadres ... xxbos xxup l' \" appréciation\n"
     ]
    }
   ],
   "source": [
    "print(\"\\n\".join(learn.predict(TEXT, N_WORDS, temperature=1) for _ in range(N_SENTENCES)))"
   ]
  },
  {
   "cell_type": "code",
   "execution_count": 156,
   "metadata": {},
   "outputs": [],
   "source": [
    "TEXT = \"Je désapprouve\""
   ]
  },
  {
   "cell_type": "code",
   "execution_count": 157,
   "metadata": {},
   "outputs": [
    {
     "name": "stdout",
     "output_type": "stream",
     "text": [
      "Je désapprouve le texte qui nous est soumis , et qui est de précision . xxmaj les députés attendent que le débat soit ouvert , le plus intéressant , celui que je m' traite de la question . xxmaj nous avons le\n",
      "Je désapprouve le texte suivant : \" xxmaj les effet au niveau de l' \" état de santé \" , qui est un aspect essentiel de l' \" état naturel \" de la sécurité sociale , est une nécessité depuis vingt ans\n"
     ]
    }
   ],
   "source": [
    "print(\"\\n\".join(learn.predict(TEXT, N_WORDS, temperature=0.75) for _ in range(N_SENTENCES)))"
   ]
  },
  {
   "cell_type": "code",
   "execution_count": 158,
   "metadata": {},
   "outputs": [
    {
     "name": "stdout",
     "output_type": "stream",
     "text": [
      "Je désapprouve les deux mesures en ce sens . xxmaj heureusement , sur le terrain , nous pouvions diversifier nos travaux . xxup c' des dossiers me donne satisfaction fut qu' \" il s' \" j' les évacuer à la fin de\n",
      "Je désapprouve la énumérer , ce qui n' reviendrez à noter que cet article ne concerne pas des milliers de kilomètres de zones éligibles à la xxup snpe . xxmaj il se justifie donc également que le souci du xxmaj gouvernement suffira\n"
     ]
    }
   ],
   "source": [
    "print(\"\\n\".join(learn.predict(TEXT, N_WORDS, temperature=1) for _ in range(N_SENTENCES)))"
   ]
  },
  {
   "cell_type": "code",
   "execution_count": 160,
   "metadata": {},
   "outputs": [],
   "source": [
    "TEXT = \"Ensemble\""
   ]
  },
  {
   "cell_type": "code",
   "execution_count": 161,
   "metadata": {},
   "outputs": [
    {
     "name": "stdout",
     "output_type": "stream",
     "text": [
      "Ensemble et de notre pays . xxmaj pourquoi ne pas fixer la date à laquelle le roi d' il doit pouvoir \" payer \" le contingent d' \" d' \" ign \" > ? xxmaj par ailleurs , comme les premiers\n",
      "Ensemble , et en particulier les autres , de la xxmaj france ... xxmaj pour ce qui est du volet relatif à la formation professionnelle , l' \" accord de branche \" doit être maintenu , au savoir par la négociation\n"
     ]
    }
   ],
   "source": [
    "print(\"\\n\".join(learn.predict(TEXT, N_WORDS, temperature=0.75) for _ in range(N_SENTENCES)))"
   ]
  },
  {
   "cell_type": "code",
   "execution_count": 162,
   "metadata": {},
   "outputs": [
    {
     "name": "stdout",
     "output_type": "stream",
     "text": [
      "Ensemble , heureusement , entre verra le nombre d' \" économies \" va passer de quelque 300 000 en 2001 à de 42 000 en 2001 . xxmaj en effet , dans ma circonscription , des milliers de personnes ne partent\n",
      "Ensemble des tarifs régulés sont décidés par les institutions mises en place dans la xxmaj france des états-unis , xxmaj madame la ministre de la santé . xxmaj dans des domaines comme le logement , les banques ou les services publics\n"
     ]
    }
   ],
   "source": [
    "print(\"\\n\".join(learn.predict(TEXT, N_WORDS, temperature=1) for _ in range(N_SENTENCES)))"
   ]
  },
  {
   "cell_type": "code",
   "execution_count": 163,
   "metadata": {},
   "outputs": [],
   "source": [
    "TEXT = \"Tous ensemble\""
   ]
  },
  {
   "cell_type": "code",
   "execution_count": 164,
   "metadata": {},
   "outputs": [
    {
     "name": "stdout",
     "output_type": "stream",
     "text": [
      "Tous ensemble , le monde entier a voulu donner à ces jeunes qui avaient suivi une formation initiale au baccalauréat , et non pas des enfants de métiers qui avaient été recrutés après soixante ans de politique de l' \" xxmaj europe\n",
      "Tous ensemble , sur tous les bancs , nous avons eu la possibilité de débattre de la nécessaire constitution d' < < qu' > > . > > xxmaj vous pouvez donc nier que le détail des motifs soient les mêmes .\n"
     ]
    }
   ],
   "source": [
    "print(\"\\n\".join(learn.predict(TEXT, N_WORDS, temperature=0.75) for _ in range(N_SENTENCES)))"
   ]
  },
  {
   "cell_type": "code",
   "execution_count": 165,
   "metadata": {},
   "outputs": [
    {
     "name": "stdout",
     "output_type": "stream",
     "text": [
      "Tous ensemble , sans doute leur contribution à la politique de leur ville . xxmaj ces causes sont autant de facteurs d' \" augmentation encore plus forte de la consommation de tabac du fait de la perte de pouvoir d' \" utilisant\n",
      "Tous ensemble permettront un meilleur accès aux responsabilités de la suite d' \" offre \" sur l' \" électricité \" , l' \" énergie d' \" alimentation permet de c' le volume de production . xxup l' \" affaiblissement de la légitimité\n"
     ]
    }
   ],
   "source": [
    "print(\"\\n\".join(learn.predict(TEXT, N_WORDS, temperature=1) for _ in range(N_SENTENCES)))"
   ]
  },
  {
   "cell_type": "code",
   "execution_count": 167,
   "metadata": {},
   "outputs": [],
   "source": [
    "TEXT = \"Moi, Président\""
   ]
  },
  {
   "cell_type": "code",
   "execution_count": 168,
   "metadata": {},
   "outputs": [
    {
     "name": "stdout",
     "output_type": "stream",
     "text": [
      "Moi, Président de la xxmaj république , mais aussi xxmaj monsieur le ministre , qui avait été le rapporteur , nous vous en faisons une fois , sans même parler de la vertu , mais de la compétence des mains de l'\n",
      "Moi, Président de la xxmaj république , mais surtout ! xxmaj ce n' < < thèmes > > . xxmaj en ce qui concerne la formation professionnelle , il s' < hommepolitique / > à propos de l' \" avant - projet\n"
     ]
    }
   ],
   "source": [
    "print(\"\\n\".join(learn.predict(TEXT, N_WORDS, temperature=0.75) for _ in range(N_SENTENCES)))"
   ]
  },
  {
   "cell_type": "code",
   "execution_count": 169,
   "metadata": {},
   "outputs": [
    {
     "name": "stdout",
     "output_type": "stream",
     "text": [
      "Moi, Président de la xxmaj république , xxmaj monsieur le ministre , et xxmaj mme < hommepolitique / > , ministre de l' xxup relations xxmaj dieu ou toutes les cultures \" . xxup m. < hommepolitique / > , ministre des\n",
      "Moi, Président de la xxmaj république , auteur de la xxup barre et ministre des transports du début pour le titre xxup iv , je vais passons - pour y répondre . xxup l' \" action sociale des assure subjective \" de\n"
     ]
    }
   ],
   "source": [
    "print(\"\\n\".join(learn.predict(TEXT, N_WORDS, temperature=1) for _ in range(N_SENTENCES)))"
   ]
  },
  {
   "cell_type": "markdown",
   "metadata": {},
   "source": [
    "# Classification"
   ]
  },
  {
   "cell_type": "code",
   "execution_count": 173,
   "metadata": {},
   "outputs": [],
   "source": [
    "data_clas = TextClasDataBunch.from_df(p/'large_files',\n",
    "                                      train_df=train_df, valid_df=valid_df,\n",
    "                                      vocab=data_lm.train_ds.vocab,\n",
    "                                      text_cols='Text', label_cols='Sent',\n",
    "                                      tokenizer=tokenizer,\n",
    "                                      bs=64)"
   ]
  },
  {
   "cell_type": "code",
   "execution_count": 175,
   "metadata": {},
   "outputs": [],
   "source": [
    "learn = text_classifier_learner(data_clas, drop_mult=0.3)\n",
    "learn.load_encoder('finetuned_enc')\n",
    "learn.freeze()"
   ]
  },
  {
   "cell_type": "code",
   "execution_count": 176,
   "metadata": {},
   "outputs": [
    {
     "name": "stdout",
     "output_type": "stream",
     "text": [
      "LR Finder is complete, type {learner_name}.recorder.plot() to see the graph.\n"
     ]
    },
    {
     "data": {
      "image/png": "[encoded data removed]",
      "text/plain": [
       "<Figure size 432x288 with 1 Axes>"
      ]
     },
     "metadata": {
      "needs_background": "light"
     },
     "output_type": "display_data"
    }
   ],
   "source": [
    "learn.lr_find()\n",
    "learn.recorder.plot(skip_start=0)"
   ]
  },
  {
   "cell_type": "code",
   "execution_count": 177,
   "metadata": {},
   "outputs": [
    {
     "data": {
      "text/html": [
       "Total time: 02:11 <p><table style='width:300px; margin-bottom:10px'>\n",
       "  <tr>\n",
       "    <th>epoch</th>\n",
       "    <th>train_loss</th>\n",
       "    <th>valid_loss</th>\n",
       "    <th>accuracy</th>\n",
       "  </tr>\n",
       "  <tr>\n",
       "    <th>1</th>\n",
       "    <th>0.612036</th>\n",
       "    <th>0.658164</th>\n",
       "    <th>0.604454</th>\n",
       "  </tr>\n",
       "  <tr>\n",
       "    <th>2</th>\n",
       "    <th>0.579854</th>\n",
       "    <th>0.620272</th>\n",
       "    <th>0.644461</th>\n",
       "  </tr>\n",
       "</table>\n"
      ],
      "text/plain": [
       "<IPython.core.display.HTML object>"
      ]
     },
     "metadata": {},
     "output_type": "display_data"
    }
   ],
   "source": [
    "learn.fit_one_cycle(2, slice(1e-3, 1e-2), moms=(0.8,0.7))\n",
    "learn.save('A-CLF2-LMF2U2')"
   ]
  },
  {
   "cell_type": "code",
   "execution_count": 179,
   "metadata": {},
   "outputs": [
    {
     "name": "stdout",
     "output_type": "stream",
     "text": [
      "LR Finder is complete, type {learner_name}.recorder.plot() to see the graph.\n"
     ]
    },
    {
     "data": {
      "image/png": "[encoded data removed]",
      "text/plain": [
       "<Figure size 432x288 with 1 Axes>"
      ]
     },
     "metadata": {
      "needs_background": "light"
     },
     "output_type": "display_data"
    }
   ],
   "source": [
    "learn.lr_find()\n",
    "learn.recorder.plot(skip_start=0)"
   ]
  },
  {
   "cell_type": "code",
   "execution_count": 180,
   "metadata": {},
   "outputs": [
    {
     "name": "stdout",
     "output_type": "stream",
     "text": [
      "LR Finder is complete, type {learner_name}.recorder.plot() to see the graph.\n"
     ]
    },
    {
     "data": {
      "image/png": "[encoded data removed]",
      "text/plain": [
       "<Figure size 432x288 with 1 Axes>"
      ]
     },
     "metadata": {
      "needs_background": "light"
     },
     "output_type": "display_data"
    }
   ],
   "source": [
    "learn.unfreeze()\n",
    "learn.lr_find()\n",
    "learn.recorder.plot(skip_start=0)"
   ]
  },
  {
   "cell_type": "code",
   "execution_count": 181,
   "metadata": {},
   "outputs": [
    {
     "data": {
      "text/html": [
       "Total time: 02:11 <p><table style='width:300px; margin-bottom:10px'>\n",
       "  <tr>\n",
       "    <th>epoch</th>\n",
       "    <th>train_loss</th>\n",
       "    <th>valid_loss</th>\n",
       "    <th>accuracy</th>\n",
       "  </tr>\n",
       "  <tr>\n",
       "    <th>1</th>\n",
       "    <th>0.589846</th>\n",
       "    <th>0.550208</th>\n",
       "    <th>0.719192</th>\n",
       "  </tr>\n",
       "  <tr>\n",
       "    <th>2</th>\n",
       "    <th>0.567304</th>\n",
       "    <th>0.590904</th>\n",
       "    <th>0.678241</th>\n",
       "  </tr>\n",
       "</table>\n"
      ],
      "text/plain": [
       "<IPython.core.display.HTML object>"
      ]
     },
     "metadata": {},
     "output_type": "display_data"
    }
   ],
   "source": [
    "learn.freeze()\n",
    "learn.fit_one_cycle(2, slice(1e-3, 1e-2), moms=(0.8,0.7))\n",
    "learn.save('A-CLF4-LMF2U2')"
   ]
  },
  {
   "cell_type": "code",
   "execution_count": 182,
   "metadata": {},
   "outputs": [
    {
     "data": {
      "text/html": [
       "Total time: 04:17 <p><table style='width:300px; margin-bottom:10px'>\n",
       "  <tr>\n",
       "    <th>epoch</th>\n",
       "    <th>train_loss</th>\n",
       "    <th>valid_loss</th>\n",
       "    <th>accuracy</th>\n",
       "  </tr>\n",
       "  <tr>\n",
       "    <th>1</th>\n",
       "    <th>0.570960</th>\n",
       "    <th>0.563766</th>\n",
       "    <th>0.710889</th>\n",
       "  </tr>\n",
       "  <tr>\n",
       "    <th>2</th>\n",
       "    <th>0.559008</th>\n",
       "    <th>0.568821</th>\n",
       "    <th>0.705982</th>\n",
       "  </tr>\n",
       "</table>\n"
      ],
      "text/plain": [
       "<IPython.core.display.HTML object>"
      ]
     },
     "metadata": {},
     "output_type": "display_data"
    }
   ],
   "source": [
    "learn.unfreeze()\n",
    "learn.fit_one_cycle(2, slice(1e-3/100, 1e-2/100), moms=(0.8,0.7))\n",
    "learn.save('A-CLF4U2-LMF2U2')"
   ]
  },
  {
   "cell_type": "markdown",
   "metadata": {},
   "source": [
    "# Using all data to train language model"
   ]
  },
  {
   "cell_type": "code",
   "execution_count": null,
   "metadata": {},
   "outputs": [],
   "source": [
    "data_lmALL = TextLMDataBunch.from_df(p/'large_files',\n",
    "                                  train_df=pd.concat([train_df, valid_df, test_df]),\n",
    "                                  valid_pct=0.1,\n",
    "                                  text_cols='Text', label_cols='Sent',\n",
    "                                  tokenizer=tokenizer,\n",
    "                                  bs=64)\n",
    "\n",
    "data_lmALL.save('data_lm_all')"
   ]
  }
 ],
 "metadata": {
  "kernelspec": {
   "display_name": "fastai",
   "language": "python",
   "name": "fastai"
  },
  "language_info": {
   "codemirror_mode": {
    "name": "ipython",
    "version": 3
   },
   "file_extension": ".py",
   "mimetype": "text/x-python",
   "name": "python",
   "nbconvert_exporter": "python",
   "pygments_lexer": "ipython3",
   "version": "3.7.2"
  }
 },
 "nbformat": 4,
 "nbformat_minor": 2
}
